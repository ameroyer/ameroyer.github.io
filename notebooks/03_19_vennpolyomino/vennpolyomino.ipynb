{
 "cells": [
  {
   "cell_type": "markdown",
   "metadata": {
    "deletable": true,
    "editable": true
   },
   "source": [
    "## Representing n-Venn diagrams with Polyominos\n",
    "(based on \"Minimum Area Venn Diagrams Whose Curves Are Polyominoes\", S. Chow and F. Ruskey, *Mathematics Magazine*)\n",
    "\n",
    "### Definition:\n",
    "A $n$-Venn diagram is the figure obtained by drawing all possible $2^n$ intersections of $n$ closed curves $(C_i)_{i=1\\dots n}$ (e.g., in the following figure $n = 3$)\n",
    "![vennintro](images/datascience.png)\n",
    "<center>(\"How to become a data scientist before you graduate\", A. Schneider, Berkeley Science review)</center>\n",
    "\n",
    "### Problem 1:\n",
    "How to draw *nice* Venn diagrams for any $n \\in \\mathbb N^{\\ast}$ in the plance?\n",
    "  * symmetric (invariant to rotations)\n",
    "  * simple (no more than two curves intersect at any point)\n",
    "  * ... \n",
    "![vennintro2](images/venn5.png)\n",
    "\n",
    "**Venn (not nice at all):** iterative construction of interlacing curves\n",
    "\n",
    "**Edwards (partially symmetric):** \n",
    "\n",
    "**GKS (symmetric but non simple):** symmetric for $n$ prime\n",
    "\n",
    "** Limitations: ** Symmetric, simple, convex... construction for $n = 11$ (Newroz, 2012)\n",
    "![newroz](images/newroz.png)\n",
    "<center>(\"A New Rose : The First Simple Symmetric 11-Venn Diagram\", Mamakani and Ruskey, 2012)</center>\n",
    "\n",
    "\n",
    "### Problem 2 (ours):\n",
    "What Venn diagrams can we draw for a fixed shape of the curves $C_i$ ?\n",
    "\n",
    "e.g., **circles** ?\n",
    "\n",
    "Build the Venn diagram: vertices are the circles intersection, edges iff circles intersect.\n",
    "\n",
    "V $\\leq 2 \\binom{n}{2}$, no more than 2 intersections for any pair of circles\n",
    "\n",
    "E \n",
    "\n",
    "F $ \\leq 2^n$, number of intersections\n",
    "\n",
    "leads to F + V - E = 2 (in the graph whose vertices are the curves intersections)\n",
    "\n",
    "\n",
    "**ellipses** ? at least up to $n = 5$\n",
    "\n",
    "**triangles** ? at least up to $n = 6$ "
   ]
  },
  {
   "cell_type": "markdown",
   "metadata": {},
   "source": [
    "## Polyominoes\n",
    "\n",
    "### Definition\n",
    "A $n$-polyomino is a contiguous ensemble of equal size squares. It is a generalization of dominoes ($n = 2$). Two polyominos are said to be *congruent* if they have the same shape and size (up to a rotation). \n",
    "\n",
    "A polyVenn is a Venn diagram whose curves are defined polyominos.\n",
    "\n",
    "<center>Polyominos</center> | <center>PolyVenn, $n=5$</center>\n",
    "----       |---\n",
    "![polyo](images/polyominos.jpg) | ![polyvenn](images/polyvenn.png)"
   ]
  },
  {
   "cell_type": "markdown",
   "metadata": {
    "deletable": true,
    "editable": true
   },
   "source": [
    "### Minimality\n",
    "Each intersection has to be represented in the PolyVenn, i.e. needs at least a $1 \\times 1$ square, hence the minimal reachable area for a $n$-PolyVenn is $2^n - 1$. \n",
    "\n",
    "**Goal** Can we find an algorithm to build a minimal area $n$-polyVenn for any given $n$ ?"
   ]
  },
  {
   "cell_type": "code",
   "execution_count": 11,
   "metadata": {
    "collapsed": false
   },
   "outputs": [],
   "source": [
    "import numpy as np    \n",
    "\n",
    "class PolyVenn(object):\n",
    "    def __init__(self, n):\n",
    "        \"\"\" Initialize a n-polyVenn\n",
    "        \n",
    "        Args:\n",
    "         * ``n`` (*int*): number of curves in the Venn diagram\n",
    "         \"\"\"\n",
    "        self.n = n\n",
    "        self.tiles = np.zeros((1, 1))\n",
    "        self.pows = np.array([10**i for i in range(n)])\n",
    "        \n",
    "    def allocate(self, w, h):\n",
    "        \"\"\" Pre-allocate the internal array\n",
    "        \n",
    "        Args:\n",
    "         * ``w`` (*int*): width\n",
    "         * ``h`` (*int*): height\n",
    "        \"\"\"\n",
    "        self.tiles = np.zeros((w, h), dtype=np.int)\n",
    "        \n",
    "    def add_tile(self, x, y, w=1, h=1, sets=[]):\n",
    "        \"\"\" Add a rectangular tile in the current PolyVenn representation\n",
    "        \n",
    "        Args:\n",
    "         * ``x`` (*int*): lower left corner x position\n",
    "         * ``y`` (*int*): lower left corner y position\n",
    "         * ``w`` (*int*): tile width\n",
    "         * ``h`` (*int*): tile height\n",
    "        \"\"\"\n",
    "        # no overwrite\n",
    "        assert(not np.sum(self.tiles[x:x+w, y:y+h]))\n",
    "        # on-the-fly Allocate\n",
    "        if x + w > self.tiles.shape[0]:\n",
    "            self.tiles = np.array([list(row) + [0] * (x + w - self.tiles.shape[0]) for row in self.tiles])\n",
    "        if y + h > self.tiles.shape[1]:\n",
    "            self.tiles = np.array(list(self.tiles) + [[0] * self.tiles.shape[0] \n",
    "                                                      for _ in range(y + h - self.tiles.shape[1])])\n",
    "        # set tile\n",
    "        self.tiles[x:x+w, y:y+h] = np.sum(self.pows[sets])\n",
    "        \n",
    "    def plot(self, ax):\n",
    "        cardinals = [[sum(int(x) for x in str(c)) for c in line] for line in self.tiles]\n",
    "        cardinals = np.array(cardinals)\n",
    "        print(cardinals.shape)\n",
    "        ax.set_axis_off()\n",
    "        ax.imshow(cardinals, interpolation='nearest')\n",
    "        \n",
    "    def __repr__(self):\n",
    "        return self.tiles.__repr__()\n",
    "    \n",
    "    def __str__(self):\n",
    "        return self.tiles.__str__()"
   ]
  },
  {
   "cell_type": "markdown",
   "metadata": {
    "collapsed": true,
    "deletable": true,
    "editable": true
   },
   "source": [
    "## Approximate (naive) solution\n",
    "Define $C_1 \\cap \\dots \\cap C_n$ as the center polymino of size $2^{n-1} -2 \\times 1$, then set the remaining $2^n - 2$  intersections as  contiguous $1x1$ squares.\n",
    "\n",
    "The total diagram has area $3 \\times 2^{n-1} - 4 \\sim \\frac{3}{2} (2^n - 1)$\n",
    "\n",
    "![truc](Algo1.png)\n"
   ]
  },
  {
   "cell_type": "code",
   "execution_count": 13,
   "metadata": {
    "collapsed": false
   },
   "outputs": [
    {
     "name": "stdout",
     "output_type": "stream",
     "text": [
      "()\n",
      "(0,)\n",
      "(1,)\n",
      "(2,)\n",
      "(3,)\n",
      "(0, 1)\n",
      "(0, 2)\n",
      "(0, 3)\n",
      "(1, 2)\n",
      "(1, 3)\n",
      "(2, 3)\n",
      "(0, 1, 2)\n",
      "(0, 1, 3)\n",
      "(0, 2, 3)\n",
      "(1, 2, 3)\n",
      "(8, 3)\n"
     ]
    },
    {
     "data": {
      "image/png": "[encoded data removed]",
      "text/plain": [
       "<matplotlib.figure.Figure at 0x7f96ec25e2b0>"
      ]
     },
     "metadata": {},
     "output_type": "display_data"
    },
    {
     "name": "stdout",
     "output_type": "stream",
     "text": [
      "[[   0    1   10]\n",
      " [ 100 1111 1000]\n",
      " [  11 1111  101]\n",
      " [1001 1111  110]\n",
      " [1010 1111 1100]\n",
      " [ 111 1111 1011]\n",
      " [1101 1111 1110]\n",
      " [   0    0    0]]\n"
     ]
    }
   ],
   "source": [
    "from itertools import combinations\n",
    "\n",
    "def min_polyVenn_app(n):\n",
    "    p = PolyVenn(n)\n",
    "    p.allocate(2**(n-1), 3)\n",
    "    p.add_tile(1, 1, w=(2**(n-1) - 2), sets=np.arange(n))\n",
    "    x, y = np.where(p.tiles == 0)\n",
    "    i = 0\n",
    "    for r in range(n):\n",
    "        for pe in combinations(range(n), r):\n",
    "            print(pe)\n",
    "            p.add_tile(x[i], y[i], sets=list(pe))\n",
    "            i += 1\n",
    "    return p\n",
    "    print(p)\n",
    "    \n",
    "    \n",
    "from matplotlib import pyplot as plt\n",
    "p = min_polyVenn_app(4)\n",
    "_, ax = plt.subplots(1, 1)\n",
    "p.plot(ax)\n",
    "plt.show()\n",
    "print(p)"
   ]
  },
  {
   "cell_type": "markdown",
   "metadata": {
    "deletable": true,
    "editable": true
   },
   "source": [
    "## Asymptotically optimal algorithm\n",
    "\n",
    "Similar idea, but we will rattach *chains* to the central block rather than $1 \\times 1$ blocks\n",
    "\n",
    "** Notations **\n",
    "\n",
    "$\\mathcal S_n$ denotes the set of all intersections of the curves $C_i$ for some $n$, i.e. $\\mathcal S_3 = \\{A, B, C, AB, AC, BC, ABC, 0\\}$. \n",
    "\n",
    "We want to decompose/partition $\\mathcal S_n$ in symmetric chains growing for inclusions. \n",
    "\n",
    "$R(k)$ is the set of all $s \\in S$ such that $|s| = k$ not included in one the growing chain yet.\n",
    "\n",
    "** Growing chain **\n",
    "\n",
    "$x < y$ iff $m(x, y) < m(y, x)$\n",
    "\n",
    "where $m(x, y) = - \\infty$ if $x \\subset y$ else $\\mbox{min}\\  x \\backslash y$  \n",
    "\n",
    "**Algorithm**\n",
    "  * j = $\\mbox{min}_k \\{R(k)\\ |\\ R(k) \\neq \\varnothing\\}$\n",
    "  * Start a new chain with $x_1 = \\mbox{min}\\ R(j)$\n",
    "  * Increase it with $x_i = \\mbox{min}\\ \\{x \\in R([x_i| + 1)\\ |\\ x_i \\subset x\\}$\n",
    "  \n",
    "Iterate until obtaining a partition of $\\mathcal S_n$\n",
    "\n",
    "Attach the chains to the central tile of size $L \\times 1$\n",
    "\n",
    "![g](venn52.png)\n",
    "\n",
    "** Proof elements**\n",
    "\n",
    "  * **Termination.** $\\sum_k |R(k)|$ is strictly decreasing and lower-bounded\n",
    "  \n",
    "  * **Number of chains.** Let $pj$ the number of chains such that $|x_1| = j$ and consequently the last element has size $n - j$ because of symmetry.\n",
    "  \n",
    "  $p_k = \\binom{n}{k} \\binom{n}{k - 1}$\n",
    "  \n",
    "  Hence the number of chains created is $C(n) = \\binom{n}{n / 2}$\n",
    "  \n",
    "  * **Polymino area.** $2 + 2L = C(n)$ (number of \"atach points\")\n",
    "  \n",
    "  $A(n) = 2^n - 1 + \\alpha \\binom{n}{n / 2}$\n",
    "  \n",
    "  $A(n) = (2^n - 1)(1 + O \\left( \\frac{1}{\\sqrt{n}} \\right) )$"
   ]
  },
  {
   "cell_type": "code",
   "execution_count": null,
   "metadata": {
    "collapsed": true,
    "deletable": true,
    "editable": true
   },
   "outputs": [],
   "source": []
  }
 ],
 "metadata": {
  "kernelspec": {
   "display_name": "Python 3",
   "language": "python",
   "name": "python3"
  },
  "language_info": {
   "codemirror_mode": {
    "name": "ipython",
    "version": 3
   },
   "file_extension": ".py",
   "mimetype": "text/x-python",
   "name": "python",
   "nbconvert_exporter": "python",
   "pygments_lexer": "ipython3",
   "version": "3.4.3"
  }
 },
 "nbformat": 4,
 "nbformat_minor": 2
}
