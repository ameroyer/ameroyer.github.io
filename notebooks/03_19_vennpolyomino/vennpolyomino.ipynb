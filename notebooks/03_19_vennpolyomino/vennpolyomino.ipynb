{
 "cells": [
  {
   "cell_type": "markdown",
   "metadata": {
    "deletable": true,
    "editable": true
   },
   "source": [
    "## Representing n-Venn diagrams with Polyominos\n",
    "(based on \"Minimum Area Venn Diagrams Whose Curves Are Polyominoes\", S. Chow and F. Ruskey, *Mathematics Magazine*)\n",
    "\n",
    "### Def:\n",
    "A $n$-Venn diagram is the figure obtained by drawing all possible $2^n$ intersections of $n$ closed curves $(C_i)_{i=1\\dots n}$ (e.g., in the following figure $n = 3$)\n",
    "![vennintro](datascience.png)\n",
    "<center>(\"How to become a data scientist before you graduate\", A. Schneider, Berkeley Science review)</center>\n",
    "\n",
    "### Problem 1:\n",
    "How to draw *nice* Venn diagrams for any $n \\in \\mathbb N^{\\ast}$ ?\n",
    "  * symmetric (invariant to rotations)\n",
    "  * simple (no more than two curves intersect at any point)\n",
    "  * ... \n",
    "![vennintro2](venn5.png)\n",
    "\n",
    "**Venn (not nice at all):** iterative construction of interlacing curves\n",
    "\n",
    "**Edwards (partially symmetric):** \n",
    "\n",
    "**GKS (symmetric but non simple):** symmetric for $n$ prime\n",
    "\n",
    "** Limitations: ** Symmetric, simple, convex... construction for $n = 11$ (Newroz, 2012)\n",
    "![newroz](newroz.png)\n",
    "<center>(\"A New Rose : The First Simple Symmetric 11-Venn Diagram\", Mamakani and Ruskey, 2012)</center>\n",
    "\n",
    "\n",
    "### Problem 2 (ours):\n",
    "What Venn diagrams can we draw for a fixed shape of the curves $C_i$ ?\n",
    "\n",
    "e.g., **circles** ?\n",
    "\n",
    "Build the Venn diagram: vertices are the circles intersection, edges iff circles intersect.\n",
    "\n",
    "V $\\leq 2 \\binom{n}{2}$, no more than 2 intersections for any pair of circles\n",
    "\n",
    "E \n",
    "\n",
    "F $ \\leq 2^n$, number of intersections\n",
    "\n",
    "leads to F + V - E = 2 (in the graph whose vertices are the curves intersections)\n",
    "\n",
    "\n",
    "**ellipses** ? at least up to $n = 5$\n",
    "\n",
    "**triangles** ? at least up to $n = 6$ "
   ]
  },
  {
   "cell_type": "markdown",
   "metadata": {},
   "source": [
    "## Polyominoes\n",
    "\n",
    "### Definition\n",
    "A $n$-polyomino is a contiguous ensemble of equal size squares. It is a generalization of dominoes ($n = 2$). Two polyominos are said to be *congruent* if they have the same shape and size (up to a rotation). A polyVenn is a Venn diagram whose curves are defined polyominos.\n",
    "\n",
    "<center>Polyominos</center> | <center>PolyVenn, $n=5$</center>\n",
    "----       |---\n",
    "![polyo](polyominos.jpg) | ![polyvenn](polyvenn.png)"
   ]
  },
  {
   "cell_type": "code",
   "execution_count": null,
   "metadata": {
    "collapsed": true
   },
   "outputs": [],
   "source": []
  },
  {
   "cell_type": "markdown",
   "metadata": {
    "deletable": true,
    "editable": true
   },
   "source": [
    "### Minimality\n",
    "Each intersection has to be represented in the PolyVenn, i.e. needs at least a $1 \\times 1$ square, hence the minimal reachable area for a $n$-PolyVenn is $2^n - 1$. \n",
    "\n",
    "**Goal** Can we find an algorithm to build a minimal area $n$-polyVenn for amy given $n$ ?"
   ]
  },
  {
   "cell_type": "markdown",
   "metadata": {
    "collapsed": true,
    "deletable": true,
    "editable": true
   },
   "source": [
    "## Approximate (naive) solution\n",
    "Define $C_1 \\cap \\dots \\cap C_n$ as the center polymino of size $2^{n-1} -2 \\times 1$, then set the remaining $2^n - 2$  intersections as  contiguous $1x1$ squares.\n",
    "\n",
    "The total diagram has area $3 \\times 2^{n-1} - 4 \\sim \\frac{3}{2} (2^n - 1)$\n",
    "\n",
    "![truc](Algo1.png)\n"
   ]
  },
  {
   "cell_type": "markdown",
   "metadata": {
    "deletable": true,
    "editable": true
   },
   "source": [
    "## Asymptotically optimal algorithm\n",
    "\n",
    "Similar idea, but we will rattach *chains* to the central block rather than $1 \\times 1$ blocks\n",
    "\n",
    "** Notations **\n",
    "\n",
    "$\\mathcal S_n$ denotes the set of all intersections of the curves $C_i$ for some $n$, i.e. $\\mathcal S_3 = \\{A, B, C, AB, AC, BC, ABC, 0\\}$. \n",
    "\n",
    "We want to decompose/partition $\\mathcal S_n$ in symmetric chains growing for inclusions. \n",
    "\n",
    "$R(k)$ is the set of all $s \\in S$ such that $|s| = k$ not included in one the growing chain yet.\n",
    "\n",
    "** Growing chain **\n",
    "\n",
    "$x < y$ iff $m(x, y) < m(y, x)$\n",
    "\n",
    "where $m(x, y) = - \\infty$ if $x \\subset y$ else $\\mbox{min}\\  x \\backslash y$  \n",
    "\n",
    "**Algorithm**\n",
    "  * j = $\\mbox{min}_k \\{R(k)\\ |\\ R(k) \\neq \\varnothing\\}$\n",
    "  * Start a new chain with $x_1 = \\mbox{min}\\ R(j)$\n",
    "  * Increase it with $x_i = \\mbox{min}\\ \\{x \\in R([x_i| + 1)\\ |\\ x_i \\subset x\\}$\n",
    "  \n",
    "Iterate until obtaining a partition of $\\mathcal S_n$\n",
    "\n",
    "Attach the chains to the central tile of size $L \\times 1$\n",
    "\n",
    "![g](venn52.png)\n",
    "\n",
    "** Proof elements**\n",
    "\n",
    "  * **Termination.** $\\sum_k |R(k)|$ is strictly decreasing and lower-bounded\n",
    "  \n",
    "  * **Number of chains.** Let $pj$ the number of chains such that $|x_1| = j$ and consequently the last element has size $n - j$ because of symmetry.\n",
    "  \n",
    "  $p_k = \\binom{n}{k} \\binom{n}{k - 1}$\n",
    "  \n",
    "  Hence the number of chains created is $C(n) = \\binom{n}{n / 2}$\n",
    "  \n",
    "  * **Polymino area.** $2 + 2L = C(n)$ (number of \"atach points\")\n",
    "  \n",
    "  $A(n) = 2^n - 1 + \\alpha \\binom{n}{n / 2}$\n",
    "  \n",
    "  $A(n) = (2^n - 1)(1 + O \\left( \\frac{1}{\\sqrt{n}} \\right) )$"
   ]
  },
  {
   "cell_type": "code",
   "execution_count": null,
   "metadata": {
    "collapsed": true,
    "deletable": true,
    "editable": true
   },
   "outputs": [],
   "source": []
  }
 ],
 "metadata": {
  "kernelspec": {
   "display_name": "Python 3",
   "language": "python",
   "name": "python3"
  },
  "language_info": {
   "codemirror_mode": {
    "name": "ipython",
    "version": 3
   },
   "file_extension": ".py",
   "mimetype": "text/x-python",
   "name": "python",
   "nbconvert_exporter": "python",
   "pygments_lexer": "ipython3",
   "version": "3.5.2"
  }
 },
 "nbformat": 4,
 "nbformat_minor": 2
}
