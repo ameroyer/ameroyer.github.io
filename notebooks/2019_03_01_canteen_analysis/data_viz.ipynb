{
 "cells": [
  {
   "cell_type": "code",
   "execution_count": 103,
   "metadata": {},
   "outputs": [
    {
     "data": {
      "application/javascript": [
       "require.config({paths: {d3: 'https://d3js.org/d3.v5.min'}});"
      ],
      "text/plain": [
       "<IPython.core.display.Javascript object>"
      ]
     },
     "metadata": {},
     "output_type": "display_data"
    },
    {
     "data": {
      "application/javascript": [
       "// First undefine 'circles' so we can easily reload this file.\n",
       "require.undef('knn');\n",
       "\n",
       "define('knn', ['d3'], function (d3) {\n",
       "\n",
       "    function draw(container, size, levels) {\n",
       "        // Container\n",
       "        var min_r = size / 20;\n",
       "        var offset = size / 100;\n",
       "        var radius = 10;\n",
       "        var svg = d3.select(container).append(\"svg\")\n",
       "            .attr('width', size)\n",
       "            .attr('height', size)\n",
       "            .append(\"g\");\n",
       "\n",
       "        // Load nodes from CSV\n",
       "        d3.csv(\"knn=2_graph.csv\").then(function(data) {\n",
       "            // Nodes will be distributed in `levels` circular layers\n",
       "            // using polar coordinates\n",
       "            var n = Math.ceil(data.length / levels);\n",
       "            \n",
       "            var angle = d3.scaleLinear()\n",
       "                .domain([0, n])\n",
       "                .range([0, 2 * Math.PI]);\n",
       "            \n",
       "            var r = d3.scaleLinear()\n",
       "                .domain([0, levels])\n",
       "                .range([min_r, size / 2 - offset]);\n",
       "            \n",
       "            function x(index) {\n",
       "              return size / 2 + r(Math.floor(index / n)) * Math.cos(angle(index % n));  \n",
       "            }\n",
       "            \n",
       "            function y(index) {\n",
       "              return size / 2 + r(Math.floor(index / n)) * Math.sin(angle(index % n));  \n",
       "            }\n",
       "                 \n",
       "            // Plot labels\n",
       "            var labels = svg.selectAll('text').data(data);\n",
       "            labels.enter()\n",
       "              .append(\"text\")\n",
       "              .attr(\"id\", function(d, i) {return \"label_\" + i;})\n",
       "              .attr(\"dx\", function (d, i) {return x(i) + 5;})\n",
       "              .attr(\"dy\", function (d, i) {return y(i) + 5;})\n",
       "              .text(function(d) { return d['Name'] })\n",
       "              .style(\"opacity\", 0.);\n",
       "                 \n",
       "            \n",
       "            // Plot nodes and add hovering magic\n",
       "            var circles = svg.selectAll('circle').data(data);\n",
       "            circles.enter()\n",
       "                .append('circle')\n",
       "                .attr(\"cx\", function (d, i) {return x(i);})\n",
       "                .attr(\"cy\", function (d, i) {return y(i);})\n",
       "                .attr(\"r\", radius)\n",
       "                .attr(\"id\", function(d, i) {return \"circ_\" + i;})\n",
       "                .style(\"fill\", \"#1f77b4\")\n",
       "                .style(\"opacity\", 0.7)\n",
       "                // Hovering\n",
       "                .on('mouseover', function(d, i) {\n",
       "                    // Reveal label\n",
       "                    d3.select('#label_' + i)\n",
       "                      .style(\"opacity\", 1);\n",
       "                \n",
       "                    // Highlight node\n",
       "                    d3.select('#circ_' + i)\n",
       "                      .style('fill', 'red')\n",
       "                      .style(\"opacity\", 1);\n",
       "                \n",
       "                    // Same for all KNNs\n",
       "                    for (var k=1; k < 3; k++)\n",
       "                    {\n",
       "                        d3.select('#circ_' + d[`edge_${k}`])\n",
       "                          .interrupt('fade')\n",
       "                          .style('fill', 'red')\n",
       "                          .style(\"opacity\", 1);\n",
       "                        \n",
       "                        d3.select('#label_' + d[`edge_${k}`])\n",
       "                          .style(\"opacity\", 1);\n",
       "                        \n",
       "                        // Add eges on the fly\n",
       "                        svg\n",
       "                          .append(\"line\")\n",
       "                          .attr(\"x1\", x(i))\n",
       "                          .attr(\"y1\", y(i))\n",
       "                          .attr(\"x2\", x(d[`edge_${k}`]))\n",
       "                          .attr(\"y2\", y(d[`edge_${k}`]))\n",
       "                          .style(\"stroke\", \"lightgreen\")\n",
       "                          .style(\"stroke-width\", 1)\n",
       "                          .style(\"opacity\", 1);\n",
       "                    };\n",
       "                \n",
       "                })\n",
       "                .on('mouseout', function(d, i) {\n",
       "                    // Reset nodes and labels\n",
       "                    d3.select('#circ_' + i)\n",
       "                        .style(\"fill\", \"#1f77b4\")\n",
       "                        .style(\"opacity\", 0.7);\n",
       "                \n",
       "                    d3.select('#label_' + i)\n",
       "                      .style(\"opacity\", 0);\n",
       "                \n",
       "                    for (var k=1; k < 3; k++)\n",
       "                    {\n",
       "                        d3.select('#circ_' + d[`edge_${k}`])\n",
       "                            .transition('fade').duration(500)\n",
       "                            .style(\"fill\", \"#1f77b4\")\n",
       "                            .style(\"opacity\", 0.7);\n",
       "                        \n",
       "                        d3.select('#label_' + d[`edge_${k}`])\n",
       "                          .style(\"opacity\", 0);\n",
       "                    };\n",
       "                \n",
       "                    // Clear edges\n",
       "                    svg.selectAll('line').remove()\n",
       "                })\n",
       "                .transition().duration(2000)\n",
       "                .attr(\"r\", function (d) {return radius;});\n",
       "\n",
       "\n",
       "        });\n",
       "\n",
       "    }\n",
       "    return draw;\n",
       "});\n",
       "\n",
       "element.append('<small>&#x25C9; &#x25CB; &#x25EF; Loaded circles.js &#x25CC; &#x25CE; &#x25CF;</small>');"
      ],
      "text/plain": [
       "<IPython.core.display.Javascript object>"
      ]
     },
     "metadata": {},
     "output_type": "display_data"
    },
    {
     "data": {
      "application/javascript": [
       "\n",
       "        (function(element){\n",
       "            require(['knn'], function(knn) {\n",
       "                knn(element.get(0), 700, 12);\n",
       "            });\n",
       "        })(element);\n",
       "    "
      ],
      "text/plain": [
       "<IPython.core.display.Javascript object>"
      ]
     },
     "metadata": {},
     "output_type": "display_data"
    }
   ],
   "source": [
    "from IPython.display import display, Javascript, HTML\n",
    "import json\n",
    "display(Javascript(\"require.config({paths: {d3: 'https://d3js.org/d3.v5.min'}});\"))\n",
    "display(Javascript(filename=\"knn.js\"))\n",
    "\n",
    "\n",
    "def draw_circles(size=500, levels=4):\n",
    "    display(Javascript(\"\"\"\n",
    "        (function(element){\n",
    "            require(['knn'], function(knn) {\n",
    "                knn(element.get(0), %d, %d);\n",
    "            });\n",
    "        })(element);\n",
    "    \"\"\" % (size, levels)))\n",
    "\n",
    "draw_circles(size=700, levels=12)"
   ]
  },
  {
   "cell_type": "code",
   "execution_count": 29,
   "metadata": {
    "ExecuteTime": {
     "end_time": "2019-09-16T17:20:30.014696Z",
     "start_time": "2019-09-16T17:20:28.919520Z"
    }
   },
   "outputs": [],
   "source": [
    "import re\n",
    "import csv\n",
    "import numpy as np\n",
    "from collections import Counter, defaultdict\n",
    "\n",
    "import pandas as pd\n",
    "from nltk.corpus import wordnet as wn\n",
    "from nltk.stem import WordNetLemmatizer "
   ]
  },
  {
   "cell_type": "markdown",
   "metadata": {},
   "source": [
    "# Parsing\n",
    "\n",
    "First we'll parse the input file to unify dish names, using wordnet synsets definitins. We'll also try to trim most connection words suc has \"with\" or \"and\" that are not every relevant. \n",
    "\n",
    "The data will be organized in rows, where each row contains a dish, described by the following features:\n",
    "  * `year`: Year\n",
    "  * `week`: Week (where week 1 is the first week of January of the current year)\n",
    "  * `start_date`: Start date of the corresponding `week` (starts on Mondays) in YYYY-MM-DD format.\n",
    "  * `end_date`: End date of the corresponding `week` (ends on Fridays) in YYYY-MM-DD format.\n",
    "  * `day`: Day of the week (from Monday to Friday)\n",
    "  * `date`: Actual date in YYYY-MM-DD format\n",
    "  * `category`: One of `Soups`, `Menus` or `Dessert`\n",
    "  * `subcategory`: Further category, only available for Menus (e.g. one of `vegetarian`, `international`, etc)\n",
    "  * `price`: Price in euros\n",
    "  * `allergens`: Allergy information\n",
    "  * `name`: Name of the dish. After parsing, this is a list of strings, each corresponding to a subpart of the dish (e.g. main versus side-dish)\n",
    "\n",
    "**Note**: This requires the pands and nltk Python packages, as well as downloading the nltk WordNet corpus, like so:\n",
    "\n",
    "``` python\n",
    "import nltk\n",
    "nltk.download('wordnet')\n",
    "```"
   ]
  },
  {
   "cell_type": "code",
   "execution_count": 30,
   "metadata": {
    "ExecuteTime": {
     "end_time": "2019-09-16T17:20:30.038768Z",
     "start_time": "2019-09-16T17:20:30.015781Z"
    },
    "code_folding": []
   },
   "outputs": [],
   "source": [
    "def correct(s):\n",
    "    \"\"\"Some replacement rules for unifying dishes names\"\"\"\n",
    "    return s.replace(\n",
    "        ',', \" \").replace(\n",
    "        '-', ' ').replace(        \n",
    "        '&', \" \").replace(\n",
    "        \"garnish\", '').replace(\n",
    "        \"or \", '').replace(\n",
    "        \"of \", '').replace(\n",
    "        ')', '').replace('(', '')\n",
    "\n",
    "def parse_name(s):\n",
    "    \"\"\"Parse dish names.\n",
    "    \n",
    "    The aim is to split them into \"components\", e.g.\n",
    "    main vs side-dish, by parsing nominal groups.\n",
    "    \"\"\"\n",
    "    lemmatizer = WordNetLemmatizer()\n",
    "    parsed = re.split('/|with|\"|and', correct(s))\n",
    "    parsed = [x.strip().lower() for x in parsed if len(x.strip())]\n",
    "    items = []\n",
    "    for i, w in enumerate(parsed):\n",
    "        items.append(' '.join(\n",
    "            lemmatizer.lemmatize(x) for x in w.split()))\n",
    "    return items"
   ]
  },
  {
   "cell_type": "code",
   "execution_count": 31,
   "metadata": {
    "ExecuteTime": {
     "end_time": "2019-09-16T17:20:31.394841Z",
     "start_time": "2019-09-16T17:20:30.040073Z"
    }
   },
   "outputs": [
    {
     "data": {
      "text/html": [
       "<div>\n",
       "<style scoped>\n",
       "    .dataframe tbody tr th:only-of-type {\n",
       "        vertical-align: middle;\n",
       "    }\n",
       "\n",
       "    .dataframe tbody tr th {\n",
       "        vertical-align: top;\n",
       "    }\n",
       "\n",
       "    .dataframe thead th {\n",
       "        text-align: right;\n",
       "    }\n",
       "</style>\n",
       "<table border=\"1\" class=\"dataframe\">\n",
       "  <thead>\n",
       "    <tr style=\"text-align: right;\">\n",
       "      <th></th>\n",
       "      <th>year</th>\n",
       "      <th>week</th>\n",
       "      <th>start_date</th>\n",
       "      <th>end_date</th>\n",
       "      <th>day</th>\n",
       "      <th>date</th>\n",
       "      <th>category</th>\n",
       "      <th>subcategory</th>\n",
       "      <th>price</th>\n",
       "      <th>allergens</th>\n",
       "      <th>name</th>\n",
       "    </tr>\n",
       "  </thead>\n",
       "  <tbody>\n",
       "    <tr>\n",
       "      <th>0</th>\n",
       "      <td>2019</td>\n",
       "      <td>8</td>\n",
       "      <td>2019-02-25</td>\n",
       "      <td>2019-03-01</td>\n",
       "      <td>Monday</td>\n",
       "      <td>2019-02-25</td>\n",
       "      <td>Soups</td>\n",
       "      <td>NaN</td>\n",
       "      <td>1.10</td>\n",
       "      <td>ACGL</td>\n",
       "      <td>[beef broth]</td>\n",
       "    </tr>\n",
       "    <tr>\n",
       "      <th>1</th>\n",
       "      <td>2019</td>\n",
       "      <td>8</td>\n",
       "      <td>2019-02-25</td>\n",
       "      <td>2019-03-01</td>\n",
       "      <td>Monday</td>\n",
       "      <td>2019-02-25</td>\n",
       "      <td>Soups</td>\n",
       "      <td>NaN</td>\n",
       "      <td>1.10</td>\n",
       "      <td>AG</td>\n",
       "      <td>[cream corn soup]</td>\n",
       "    </tr>\n",
       "    <tr>\n",
       "      <th>2</th>\n",
       "      <td>2019</td>\n",
       "      <td>8</td>\n",
       "      <td>2019-02-25</td>\n",
       "      <td>2019-03-01</td>\n",
       "      <td>Monday</td>\n",
       "      <td>2019-02-25</td>\n",
       "      <td>Menus</td>\n",
       "      <td>home-style cooking</td>\n",
       "      <td>4.00</td>\n",
       "      <td>AC</td>\n",
       "      <td>[pasta, ham, small salad]</td>\n",
       "    </tr>\n",
       "    <tr>\n",
       "      <th>3</th>\n",
       "      <td>2019</td>\n",
       "      <td>8</td>\n",
       "      <td>2019-02-25</td>\n",
       "      <td>2019-03-01</td>\n",
       "      <td>Monday</td>\n",
       "      <td>2019-02-25</td>\n",
       "      <td>Menus</td>\n",
       "      <td>vegetarian</td>\n",
       "      <td>5.00</td>\n",
       "      <td>AFG</td>\n",
       "      <td>[falafel ball, tomato eggplant salad, mint yog...</td>\n",
       "    </tr>\n",
       "    <tr>\n",
       "      <th>4</th>\n",
       "      <td>2019</td>\n",
       "      <td>8</td>\n",
       "      <td>2019-02-25</td>\n",
       "      <td>2019-03-01</td>\n",
       "      <td>Monday</td>\n",
       "      <td>2019-02-25</td>\n",
       "      <td>Menus</td>\n",
       "      <td>fish &amp; seafood</td>\n",
       "      <td>6.00</td>\n",
       "      <td>AD</td>\n",
       "      <td>[grilled hake, ratatouille, olive potato]</td>\n",
       "    </tr>\n",
       "    <tr>\n",
       "      <th>...</th>\n",
       "      <td>...</td>\n",
       "      <td>...</td>\n",
       "      <td>...</td>\n",
       "      <td>...</td>\n",
       "      <td>...</td>\n",
       "      <td>...</td>\n",
       "      <td>...</td>\n",
       "      <td>...</td>\n",
       "      <td>...</td>\n",
       "      <td>...</td>\n",
       "      <td>...</td>\n",
       "    </tr>\n",
       "    <tr>\n",
       "      <th>1931</th>\n",
       "      <td>2020</td>\n",
       "      <td>49</td>\n",
       "      <td>2020-12-07</td>\n",
       "      <td>2020-12-11</td>\n",
       "      <td>Friday</td>\n",
       "      <td>2020-12-11</td>\n",
       "      <td>Soups</td>\n",
       "      <td>NaN</td>\n",
       "      <td>1.15</td>\n",
       "      <td>ACGL</td>\n",
       "      <td>[beef broth]</td>\n",
       "    </tr>\n",
       "    <tr>\n",
       "      <th>1932</th>\n",
       "      <td>2020</td>\n",
       "      <td>49</td>\n",
       "      <td>2020-12-07</td>\n",
       "      <td>2020-12-11</td>\n",
       "      <td>Friday</td>\n",
       "      <td>2020-12-11</td>\n",
       "      <td>Soups</td>\n",
       "      <td>NaN</td>\n",
       "      <td>1.15</td>\n",
       "      <td>AG</td>\n",
       "      <td>[mushroom soup]</td>\n",
       "    </tr>\n",
       "    <tr>\n",
       "      <th>1933</th>\n",
       "      <td>2020</td>\n",
       "      <td>49</td>\n",
       "      <td>2020-12-07</td>\n",
       "      <td>2020-12-11</td>\n",
       "      <td>Friday</td>\n",
       "      <td>2020-12-11</td>\n",
       "      <td>Menus</td>\n",
       "      <td>vegetarian</td>\n",
       "      <td>4.20</td>\n",
       "      <td>G</td>\n",
       "      <td>[potato pizza, colorful salad, chive dip]</td>\n",
       "    </tr>\n",
       "    <tr>\n",
       "      <th>1935</th>\n",
       "      <td>2020</td>\n",
       "      <td>49</td>\n",
       "      <td>2020-12-07</td>\n",
       "      <td>2020-12-11</td>\n",
       "      <td>Friday</td>\n",
       "      <td>2020-12-11</td>\n",
       "      <td>Menus</td>\n",
       "      <td>international</td>\n",
       "      <td>6.30</td>\n",
       "      <td>NaN</td>\n",
       "      <td>[pork fillet, pilaw rice, brussels sprout]</td>\n",
       "    </tr>\n",
       "    <tr>\n",
       "      <th>1936</th>\n",
       "      <td>2020</td>\n",
       "      <td>49</td>\n",
       "      <td>2020-12-07</td>\n",
       "      <td>2020-12-11</td>\n",
       "      <td>Friday</td>\n",
       "      <td>2020-12-11</td>\n",
       "      <td>Dessert</td>\n",
       "      <td>NaN</td>\n",
       "      <td>1.40</td>\n",
       "      <td>ACFGH</td>\n",
       "      <td>[nut nougat cake]</td>\n",
       "    </tr>\n",
       "  </tbody>\n",
       "</table>\n",
       "<p>1916 rows × 11 columns</p>\n",
       "</div>"
      ],
      "text/plain": [
       "      year  week  start_date    end_date     day        date category  \\\n",
       "0     2019     8  2019-02-25  2019-03-01  Monday  2019-02-25    Soups   \n",
       "1     2019     8  2019-02-25  2019-03-01  Monday  2019-02-25    Soups   \n",
       "2     2019     8  2019-02-25  2019-03-01  Monday  2019-02-25    Menus   \n",
       "3     2019     8  2019-02-25  2019-03-01  Monday  2019-02-25    Menus   \n",
       "4     2019     8  2019-02-25  2019-03-01  Monday  2019-02-25    Menus   \n",
       "...    ...   ...         ...         ...     ...         ...      ...   \n",
       "1931  2020    49  2020-12-07  2020-12-11  Friday  2020-12-11    Soups   \n",
       "1932  2020    49  2020-12-07  2020-12-11  Friday  2020-12-11    Soups   \n",
       "1933  2020    49  2020-12-07  2020-12-11  Friday  2020-12-11    Menus   \n",
       "1935  2020    49  2020-12-07  2020-12-11  Friday  2020-12-11    Menus   \n",
       "1936  2020    49  2020-12-07  2020-12-11  Friday  2020-12-11  Dessert   \n",
       "\n",
       "             subcategory  price allergens  \\\n",
       "0                    NaN   1.10      ACGL   \n",
       "1                    NaN   1.10        AG   \n",
       "2     home-style cooking   4.00        AC   \n",
       "3             vegetarian   5.00       AFG   \n",
       "4         fish & seafood   6.00        AD   \n",
       "...                  ...    ...       ...   \n",
       "1931                 NaN   1.15      ACGL   \n",
       "1932                 NaN   1.15        AG   \n",
       "1933          vegetarian   4.20         G   \n",
       "1935       international   6.30       NaN   \n",
       "1936                 NaN   1.40     ACFGH   \n",
       "\n",
       "                                                   name  \n",
       "0                                          [beef broth]  \n",
       "1                                     [cream corn soup]  \n",
       "2                             [pasta, ham, small salad]  \n",
       "3     [falafel ball, tomato eggplant salad, mint yog...  \n",
       "4             [grilled hake, ratatouille, olive potato]  \n",
       "...                                                 ...  \n",
       "1931                                       [beef broth]  \n",
       "1932                                    [mushroom soup]  \n",
       "1933          [potato pizza, colorful salad, chive dip]  \n",
       "1935         [pork fillet, pilaw rice, brussels sprout]  \n",
       "1936                                  [nut nougat cake]  \n",
       "\n",
       "[1916 rows x 11 columns]"
      ]
     },
     "metadata": {},
     "output_type": "display_data"
    }
   ],
   "source": [
    "df = pd.read_csv(\"./sv_restaurant_data.csv\")\n",
    "# Remove lines with no dishes: \n",
    "# This happened because of reduced food options during 2020\n",
    "df = df.dropna(axis=0, how='any', subset=['name'])\n",
    "# Parse the remaining ones\n",
    "df = df.apply(lambda x: [parse_name(y) for y in x] if x.name == 'name' else x)\n",
    "display(df)"
   ]
  },
  {
   "cell_type": "markdown",
   "metadata": {},
   "source": [
    "# Word embeddings\n",
    "\n",
    "A standard / simple way to encode words as vectors, is to compute a matrix of co-occurences count. Obviously this is a very large ($n \\times n$ matrix) and often very sparse matrix. In order to do this, we simply count how many time each word co-occur with another in the same dish. As a result, each word is described by a $n$-dimensional feature vector."
   ]
  },
  {
   "cell_type": "code",
   "execution_count": 32,
   "metadata": {},
   "outputs": [
    {
     "name": "stdout",
     "output_type": "stream",
     "text": [
      "558 x 558 co-occurence matrix. Sparsity factor = 0.963\n"
     ]
    }
   ],
   "source": [
    "def count_co_occurences(df, norm=False):\n",
    "    M = defaultdict(lambda: defaultdict(lambda: 0))\n",
    "    for row in df['name']:\n",
    "        words = [w[0].upper() + w[1:] for line in row for w in line.split()]\n",
    "        for i, w1 in enumerate(words):\n",
    "            for w2 in words[i:]:\n",
    "                a, b = w1, w2\n",
    "                if w2 < w1:\n",
    "                    a, b = b, a\n",
    "                M[a][b] += 1\n",
    "    # Now represent it as a symetrical matrix\n",
    "    words = sorted(M.keys())\n",
    "    m = np.zeros((len(words), len(words)))\n",
    "    for i in range(len(words)):\n",
    "        for j in range(i, len(words)):\n",
    "            m[i, j] = M[words[i]][words[j]]\n",
    "            m[j, i] = M[words[i]][words[j]]\n",
    "    # Normalize optional\n",
    "    if norm:\n",
    "        m /= np.diag(m)[None, :]\n",
    "    # returns\n",
    "    return words, m\n",
    "    \n",
    "dictionary, M = count_co_occurences(df)\n",
    "print(f'{M.shape[0]} x {M.shape[1]} co-occurence matrix.'\n",
    "      f' Sparsity factor = {np.count_nonzero(M == 0) / M.shape[0] / M.shape[1]:.3f}')"
   ]
  },
  {
   "cell_type": "code",
   "execution_count": 33,
   "metadata": {},
   "outputs": [],
   "source": [
    "def get_knn_graph(dictionary, M, \n",
    "                   k=5,\n",
    "                   dist_threshold=0.,\n",
    "                   eps=1e-8,\n",
    "                   max_width=1):\n",
    "    # Measure distances as cosine similarities\n",
    "    dists = M / np.sqrt(np.sum(M**2 + eps, axis=1, keepdims=True))\n",
    "    dists = np.sum(dists[None, :, :] * dists[:, None, :], axis=-1)\n",
    "    # Build the graph\n",
    "    with open(f'knn={k}_graph.csv', 'w', newline='') as csvfile:\n",
    "        csv_writer = csv.writer(csvfile)\n",
    "        csv_writer.writerow([\"Name\"] + [x for i in range(k) \n",
    "                                      for x in [f\"edge_{i + 1}\", f\"weight_{i + 1}\"]])\n",
    "        for i in range(dists.shape[0]):\n",
    "            row = [dictionary[i]]\n",
    "            for j in np.argsort(- dists[i, :])[1:k + 1]:\n",
    "                if dists[i, j] < dist_threshold:\n",
    "                    continue\n",
    "                row.extend((j, dists[i, j]))\n",
    "            csv_writer.writerow(row)\n",
    "            \n",
    "get_knn_graph(dictionary, M, k=2)      "
   ]
  },
  {
   "cell_type": "code",
   "execution_count": null,
   "metadata": {},
   "outputs": [],
   "source": [
    "from IPython.display import display, Javascript, HTML\n",
    "import json\n",
    "display(Javascript(\"require.config({paths: {d3: 'https://d3js.org/d3.v5.min'}});\"))\n",
    "display(Javascript(filename=\"circles.js\"))\n",
    "display(HTML(filename=\"circles.css.html\"))\n",
    "\n",
    "\n",
    "def draw_circles(data, width=600, height=400):\n",
    "    display(Javascript(\"\"\"\n",
    "        (function(element){\n",
    "            require(['circles'], function(circles) {\n",
    "                circles(element.get(0), %s, %d, %d);\n",
    "            });\n",
    "        })(element);\n",
    "    \"\"\" % (json.dumps(data), width, height)))\n",
    "\n",
    "draw_circles([10, 60, 40, 5, 30, 10], width=500, height=200)"
   ]
  },
  {
   "cell_type": "code",
   "execution_count": 330,
   "metadata": {},
   "outputs": [
    {
     "data": {
      "application/javascript": [
       "require.config({\n",
       "    paths: {\n",
       "        d3: 'https://d3js.org/d3.v5.min'\n",
       "    }\n",
       "});\n"
      ],
      "text/plain": [
       "<IPython.core.display.Javascript object>"
      ]
     },
     "metadata": {},
     "output_type": "display_data"
    }
   ],
   "source": [
    "%%javascript\n",
    "require.config({\n",
    "    paths: {\n",
    "        d3: 'https://d3js.org/d3.v5.min'\n",
    "    }\n",
    "});"
   ]
  },
  {
   "cell_type": "code",
   "execution_count": null,
   "metadata": {},
   "outputs": [],
   "source": [
    "https://nbviewer.jupyter.org/github/soxofaan/jupyter-playground/blob/master/jupyter-custom-d3-visualization/jupyter-custom-d3-visualization.ipynb"
   ]
  },
  {
   "cell_type": "code",
   "execution_count": 288,
   "metadata": {},
   "outputs": [
    {
     "data": {
      "application/javascript": [
       "(function(element) {\n",
       "    require(['d3'], function(d3) {   \n",
       "        var data = [1, 2, 4, 8, 16, 8, 4, 2, 1]\n",
       "\n",
       "        var svg = d3.select(element.get(0)).append('svg')\n",
       "            .attr('width', 400)\n",
       "            .attr('height', 200);\n",
       "        svg.selectAll('circle')\n",
       "            .data(data)\n",
       "            .enter()\n",
       "            .append('circle')\n",
       "            .attr(\"cx\", function(d, i) {return 40 * (i + 1);})\n",
       "            .attr(\"cy\", function(d, i) {return 100 + 30 * (i % 3 - 1);})\n",
       "            .style(\"fill\", \"#1570a4\")\n",
       "            .transition().duration(2000)\n",
       "            .attr(\"r\", function(d) {return 2*d;})\n",
       "        ;\n",
       "    })\n",
       "})(element);\n"
      ],
      "text/plain": [
       "<IPython.core.display.Javascript object>"
      ]
     },
     "metadata": {},
     "output_type": "display_data"
    }
   ],
   "source": [
    "%%javascript\n",
    "(function(element) {\n",
    "    require(['d3'], function(d3) {   \n",
    "        var data = [1, 2, 4, 8, 16, 8, 4, 2, 1]\n",
    "\n",
    "        var svg = d3.select(element.get(0)).append('svg')\n",
    "            .attr('width', 400)\n",
    "            .attr('height', 200);\n",
    "        svg.selectAll('circle')\n",
    "            .data(data)\n",
    "            .enter()\n",
    "            .append('circle')\n",
    "            .attr(\"cx\", function(d, i) {return 40 * (i + 1);})\n",
    "            .attr(\"cy\", function(d, i) {return 100 + 30 * (i % 3 - 1);})\n",
    "            .style(\"fill\", \"#1570a4\")\n",
    "            .transition().duration(2000)\n",
    "            .attr(\"r\", function(d) {return 2*d;})\n",
    "        ;\n",
    "    })\n",
    "})(element);"
   ]
  },
  {
   "cell_type": "code",
   "execution_count": 287,
   "metadata": {},
   "outputs": [
    {
     "data": {
      "application/javascript": [
       "(function(element) {\n",
       "    require(['d3'], function(d3) {   \n",
       "      var w = window.innerWidth,\n",
       "          h = window.innerHeight,\n",
       "          margin = { top: 40, right: 20, bottom: 20, left: 40 },\n",
       "          radius = 6;\n",
       "\n",
       "      var svg = d3.select(\"body\").append(\"svg\").attr({\n",
       "        width: w,\n",
       "        height: h\n",
       "      });\n",
       "\n",
       "      var dataset = [\n",
       "        { x: 100, y: 110 },\n",
       "        { x: 83, y: 43 },\n",
       "        { x: 92, y: 28 },\n",
       "        { x: 49, y: 74 },\n",
       "        { x: 51, y: 10 },\n",
       "        { x: 25, y: 98 },\n",
       "        { x: 77, y: 30 },\n",
       "        { x: 20, y: 83 },\n",
       "        { x: 11, y: 63 },\n",
       "        { x:  4, y: 55 },\n",
       "        { x:  0, y:  0 },\n",
       "        { x: 85, y: 100 },\n",
       "        { x: 60, y: 40 },\n",
       "        { x: 70, y: 80 },\n",
       "        { x: 10, y: 20 },\n",
       "        { x: 40, y: 50 },\n",
       "        { x: 25, y: 31 }\n",
       "      ];\n",
       "\n",
       "      // We're passing in a function in d3.max to tell it what we're maxing (x value)\n",
       "      var xScale = d3.scale.linear()\n",
       "          .domain([0, d3.max(dataset, function (d) { return d.x + 10; })])\n",
       "          .range([margin.left, w - margin.right]);  // Set margins for x specific\n",
       "\n",
       "      // We're passing in a function in d3.max to tell it what we're maxing (y value)\n",
       "      var yScale = d3.scale.linear()\n",
       "          .domain([0, d3.max(dataset, function (d) { return d.y + 10; })])\n",
       "          .range([margin.top, h - margin.bottom]);  // Set margins for y specific\n",
       "\n",
       "      // Add a X and Y Axis (Note: orient means the direction that ticks go, not position)\n",
       "      var xAxis = d3.svg.axis().scale(xScale).orient(\"top\");\n",
       "      var yAxis = d3.svg.axis().scale(yScale).orient(\"left\");\n",
       "\n",
       "      var circleAttrs = {\n",
       "          cx: function(d) { return xScale(d.x); },\n",
       "          cy: function(d) { return yScale(d.y); },\n",
       "          r: radius\n",
       "      };\n",
       "\n",
       "\n",
       "      // Adds X-Axis as a 'g' element\n",
       "      svg.append(\"g\").attr({\n",
       "        \"class\": \"axis\",  // Give class so we can style it\n",
       "        transform: \"translate(\" + [0, margin.top] + \")\"  // Translate just moves it down into position (or will be on top)\n",
       "      }).call(xAxis);  // Call the xAxis function on the group\n",
       "\n",
       "      // Adds Y-Axis as a 'g' element\n",
       "      svg.append(\"g\").attr({\n",
       "        \"class\": \"axis\",\n",
       "        transform: \"translate(\" + [margin.left, 0] + \")\"\n",
       "      }).call(yAxis);  // Call the yAxis function on the group\n",
       "\n",
       "      svg.selectAll(\"circle\")\n",
       "          .data(dataset)\n",
       "          .enter()\n",
       "          .append(\"circle\")\n",
       "          .attr(circleAttrs)  // Get attributes from circleAttrs var\n",
       "          .on(\"mouseover\", handleMouseOver)\n",
       "          .on(\"mouseout\", handleMouseOut);\n",
       "\n",
       "      // On Click, we want to add data to the array and chart\n",
       "      svg.on(\"click\", function() {\n",
       "          var coords = d3.mouse(this);\n",
       "\n",
       "          // Normally we go from data to pixels, but here we're doing pixels to data\n",
       "          var newData= {\n",
       "            x: Math.round( xScale.invert(coords[0])),  // Takes the pixel number to convert to number\n",
       "            y: Math.round( yScale.invert(coords[1]))\n",
       "          };\n",
       "\n",
       "          dataset.push(newData);   // Push data to our array\n",
       "\n",
       "          svg.selectAll(\"circle\")  // For new circle, go through the update process\n",
       "            .data(dataset)\n",
       "            .enter()\n",
       "            .append(\"circle\")\n",
       "            .attr(circleAttrs)  // Get attributes from circleAttrs var\n",
       "            .on(\"mouseover\", handleMouseOver)\n",
       "            .on(\"mouseout\", handleMouseOut);\n",
       "        })\n",
       "\n",
       "      // Create Event Handlers for mouse\n",
       "      function handleMouseOver(d, i) {  // Add interactivity\n",
       "\n",
       "            // Use D3 to select element, change color and size\n",
       "            d3.select(this).attr({\n",
       "              fill: \"orange\",\n",
       "              r: radius * 2\n",
       "            });\n",
       "\n",
       "            // Specify where to put label of text\n",
       "            svg.append(\"text\").attr({\n",
       "               id: \"t\" + d.x + \"-\" + d.y + \"-\" + i,  // Create an id for text so we can select it later for removing on mouseout\n",
       "                x: function() { return xScale(d.x) - 30; },\n",
       "                y: function() { return yScale(d.y) - 15; }\n",
       "            })\n",
       "            .text(function() {\n",
       "              return [d.x, d.y];  // Value of the text\n",
       "            });\n",
       "          }\n",
       "\n",
       "      function handleMouseOut(d, i) {\n",
       "            // Use D3 to select element, change color back to normal\n",
       "            d3.select(this).attr({\n",
       "              fill: \"black\",\n",
       "              r: radius\n",
       "            });\n",
       "\n",
       "            // Select text by id and then remove\n",
       "            d3.select(\"#t\" + d.x + \"-\" + d.y + \"-\" + i).remove();  // Remove text location\n",
       "          })\n",
       "})(element);\n"
      ],
      "text/plain": [
       "<IPython.core.display.Javascript object>"
      ]
     },
     "metadata": {},
     "output_type": "display_data"
    }
   ],
   "source": []
  },
  {
   "cell_type": "code",
   "execution_count": 278,
   "metadata": {},
   "outputs": [
    {
     "data": {
      "application/vnd.plotly.v1+json": {
       "config": {
        "plotlyServerURL": "https://plot.ly"
       },
       "data": [
        {
         "hoverinfo": "none",
         "line": {
          "color": "#888",
          "width": 0.5
         },
         "mode": "lines",
         "type": "scatter",
         "x": [
          0.9009688415656395,
          0.9999999914850508,
          null,
          0.22252097205383023,
          0.6234897902033594,
          null,
          -0.6234897987183086,
          -0.2225209507664572,
          null,
          -1,
          -0.9009688500805887,
          null,
          -0.623489619904375,
          -0.9009688500805887,
          null,
          0.22252103165847475,
          -0.2225210103711017,
          null,
          0.9009688415656395,
          0.6234896113894258,
          null
         ],
         "y": [
          0.43388377356881347,
          1.901690784043941e-08,
          null,
          0.9749279170878568,
          0.7818315186027088,
          null,
          0.7818315186027088,
          0.9749279170878568,
          null,
          -6.840586836083619e-08,
          0.43388383317345797,
          null,
          -0.7818315997781822,
          -0.43388373553499776,
          null,
          -0.9749278790540411,
          -0.9749278790540411,
          null,
          -0.43388373553499776,
          -0.7818315997781822,
          null
         ]
        },
        {
         "hoverinfo": "text",
         "marker": {
          "color": [
           1,
           1,
           1,
           1,
           1,
           1,
           1,
           1,
           1,
           1,
           1,
           1,
           1,
           1
          ],
          "colorbar": {
           "thickness": 15,
           "title": {
            "side": "right",
            "text": "Node Connections"
           },
           "xanchor": "left"
          },
          "colorscale": [
           [
            0,
            "rgb(255,255,217)"
           ],
           [
            0.125,
            "rgb(237,248,177)"
           ],
           [
            0.25,
            "rgb(199,233,180)"
           ],
           [
            0.375,
            "rgb(127,205,187)"
           ],
           [
            0.5,
            "rgb(65,182,196)"
           ],
           [
            0.625,
            "rgb(29,145,192)"
           ],
           [
            0.75,
            "rgb(34,94,168)"
           ],
           [
            0.875,
            "rgb(37,52,148)"
           ],
           [
            1,
            "rgb(8,29,88)"
           ]
          ],
          "line": {
           "width": 2
          },
          "reversescale": true,
          "showscale": true,
          "size": 10
         },
         "mode": "markers",
         "text": [
          "# of connections: 1",
          "# of connections: 1",
          "# of connections: 1",
          "# of connections: 1",
          "# of connections: 1",
          "# of connections: 1",
          "# of connections: 1",
          "# of connections: 1",
          "# of connections: 1",
          "# of connections: 1",
          "# of connections: 1",
          "# of connections: 1",
          "# of connections: 1",
          "# of connections: 1"
         ],
         "type": "scatter",
         "x": [
          0.9999999914850508,
          0.9009688415656395,
          0.6234897902033594,
          0.22252097205383023,
          -0.2225209507664572,
          -0.6234897987183086,
          -0.9009688500805887,
          -1,
          -0.9009688500805887,
          -0.623489619904375,
          -0.2225210103711017,
          0.22252103165847475,
          0.6234896113894258,
          0.9009688415656395
         ],
         "y": [
          1.901690784043941e-08,
          0.43388377356881347,
          0.7818315186027088,
          0.9749279170878568,
          0.9749279170878568,
          0.7818315186027088,
          0.43388383317345797,
          -6.840586836083619e-08,
          -0.43388373553499776,
          -0.7818315997781822,
          -0.9749278790540411,
          -0.9749278790540411,
          -0.7818315997781822,
          -0.43388373553499776
         ]
        }
       ],
       "layout": {
        "annotations": [
         {
          "showarrow": false,
          "text": "Python code: <a href='https://plotly.com/ipython-notebooks/network-graphs/'> https://plotly.com/ipython-notebooks/network-graphs/</a>",
          "x": 0.005,
          "xref": "paper",
          "y": -0.002,
          "yref": "paper"
         }
        ],
        "hovermode": "closest",
        "margin": {
         "b": 20,
         "l": 5,
         "r": 5,
         "t": 40
        },
        "showlegend": false,
        "template": {
         "data": {
          "bar": [
           {
            "error_x": {
             "color": "#2a3f5f"
            },
            "error_y": {
             "color": "#2a3f5f"
            },
            "marker": {
             "line": {
              "color": "#E5ECF6",
              "width": 0.5
             }
            },
            "type": "bar"
           }
          ],
          "barpolar": [
           {
            "marker": {
             "line": {
              "color": "#E5ECF6",
              "width": 0.5
             }
            },
            "type": "barpolar"
           }
          ],
          "carpet": [
           {
            "aaxis": {
             "endlinecolor": "#2a3f5f",
             "gridcolor": "white",
             "linecolor": "white",
             "minorgridcolor": "white",
             "startlinecolor": "#2a3f5f"
            },
            "baxis": {
             "endlinecolor": "#2a3f5f",
             "gridcolor": "white",
             "linecolor": "white",
             "minorgridcolor": "white",
             "startlinecolor": "#2a3f5f"
            },
            "type": "carpet"
           }
          ],
          "choropleth": [
           {
            "colorbar": {
             "outlinewidth": 0,
             "ticks": ""
            },
            "type": "choropleth"
           }
          ],
          "contour": [
           {
            "colorbar": {
             "outlinewidth": 0,
             "ticks": ""
            },
            "colorscale": [
             [
              0,
              "#0d0887"
             ],
             [
              0.1111111111111111,
              "#46039f"
             ],
             [
              0.2222222222222222,
              "#7201a8"
             ],
             [
              0.3333333333333333,
              "#9c179e"
             ],
             [
              0.4444444444444444,
              "#bd3786"
             ],
             [
              0.5555555555555556,
              "#d8576b"
             ],
             [
              0.6666666666666666,
              "#ed7953"
             ],
             [
              0.7777777777777778,
              "#fb9f3a"
             ],
             [
              0.8888888888888888,
              "#fdca26"
             ],
             [
              1,
              "#f0f921"
             ]
            ],
            "type": "contour"
           }
          ],
          "contourcarpet": [
           {
            "colorbar": {
             "outlinewidth": 0,
             "ticks": ""
            },
            "type": "contourcarpet"
           }
          ],
          "heatmap": [
           {
            "colorbar": {
             "outlinewidth": 0,
             "ticks": ""
            },
            "colorscale": [
             [
              0,
              "#0d0887"
             ],
             [
              0.1111111111111111,
              "#46039f"
             ],
             [
              0.2222222222222222,
              "#7201a8"
             ],
             [
              0.3333333333333333,
              "#9c179e"
             ],
             [
              0.4444444444444444,
              "#bd3786"
             ],
             [
              0.5555555555555556,
              "#d8576b"
             ],
             [
              0.6666666666666666,
              "#ed7953"
             ],
             [
              0.7777777777777778,
              "#fb9f3a"
             ],
             [
              0.8888888888888888,
              "#fdca26"
             ],
             [
              1,
              "#f0f921"
             ]
            ],
            "type": "heatmap"
           }
          ],
          "heatmapgl": [
           {
            "colorbar": {
             "outlinewidth": 0,
             "ticks": ""
            },
            "colorscale": [
             [
              0,
              "#0d0887"
             ],
             [
              0.1111111111111111,
              "#46039f"
             ],
             [
              0.2222222222222222,
              "#7201a8"
             ],
             [
              0.3333333333333333,
              "#9c179e"
             ],
             [
              0.4444444444444444,
              "#bd3786"
             ],
             [
              0.5555555555555556,
              "#d8576b"
             ],
             [
              0.6666666666666666,
              "#ed7953"
             ],
             [
              0.7777777777777778,
              "#fb9f3a"
             ],
             [
              0.8888888888888888,
              "#fdca26"
             ],
             [
              1,
              "#f0f921"
             ]
            ],
            "type": "heatmapgl"
           }
          ],
          "histogram": [
           {
            "marker": {
             "colorbar": {
              "outlinewidth": 0,
              "ticks": ""
             }
            },
            "type": "histogram"
           }
          ],
          "histogram2d": [
           {
            "colorbar": {
             "outlinewidth": 0,
             "ticks": ""
            },
            "colorscale": [
             [
              0,
              "#0d0887"
             ],
             [
              0.1111111111111111,
              "#46039f"
             ],
             [
              0.2222222222222222,
              "#7201a8"
             ],
             [
              0.3333333333333333,
              "#9c179e"
             ],
             [
              0.4444444444444444,
              "#bd3786"
             ],
             [
              0.5555555555555556,
              "#d8576b"
             ],
             [
              0.6666666666666666,
              "#ed7953"
             ],
             [
              0.7777777777777778,
              "#fb9f3a"
             ],
             [
              0.8888888888888888,
              "#fdca26"
             ],
             [
              1,
              "#f0f921"
             ]
            ],
            "type": "histogram2d"
           }
          ],
          "histogram2dcontour": [
           {
            "colorbar": {
             "outlinewidth": 0,
             "ticks": ""
            },
            "colorscale": [
             [
              0,
              "#0d0887"
             ],
             [
              0.1111111111111111,
              "#46039f"
             ],
             [
              0.2222222222222222,
              "#7201a8"
             ],
             [
              0.3333333333333333,
              "#9c179e"
             ],
             [
              0.4444444444444444,
              "#bd3786"
             ],
             [
              0.5555555555555556,
              "#d8576b"
             ],
             [
              0.6666666666666666,
              "#ed7953"
             ],
             [
              0.7777777777777778,
              "#fb9f3a"
             ],
             [
              0.8888888888888888,
              "#fdca26"
             ],
             [
              1,
              "#f0f921"
             ]
            ],
            "type": "histogram2dcontour"
           }
          ],
          "mesh3d": [
           {
            "colorbar": {
             "outlinewidth": 0,
             "ticks": ""
            },
            "type": "mesh3d"
           }
          ],
          "parcoords": [
           {
            "line": {
             "colorbar": {
              "outlinewidth": 0,
              "ticks": ""
             }
            },
            "type": "parcoords"
           }
          ],
          "pie": [
           {
            "automargin": true,
            "type": "pie"
           }
          ],
          "scatter": [
           {
            "marker": {
             "colorbar": {
              "outlinewidth": 0,
              "ticks": ""
             }
            },
            "type": "scatter"
           }
          ],
          "scatter3d": [
           {
            "line": {
             "colorbar": {
              "outlinewidth": 0,
              "ticks": ""
             }
            },
            "marker": {
             "colorbar": {
              "outlinewidth": 0,
              "ticks": ""
             }
            },
            "type": "scatter3d"
           }
          ],
          "scattercarpet": [
           {
            "marker": {
             "colorbar": {
              "outlinewidth": 0,
              "ticks": ""
             }
            },
            "type": "scattercarpet"
           }
          ],
          "scattergeo": [
           {
            "marker": {
             "colorbar": {
              "outlinewidth": 0,
              "ticks": ""
             }
            },
            "type": "scattergeo"
           }
          ],
          "scattergl": [
           {
            "marker": {
             "colorbar": {
              "outlinewidth": 0,
              "ticks": ""
             }
            },
            "type": "scattergl"
           }
          ],
          "scattermapbox": [
           {
            "marker": {
             "colorbar": {
              "outlinewidth": 0,
              "ticks": ""
             }
            },
            "type": "scattermapbox"
           }
          ],
          "scatterpolar": [
           {
            "marker": {
             "colorbar": {
              "outlinewidth": 0,
              "ticks": ""
             }
            },
            "type": "scatterpolar"
           }
          ],
          "scatterpolargl": [
           {
            "marker": {
             "colorbar": {
              "outlinewidth": 0,
              "ticks": ""
             }
            },
            "type": "scatterpolargl"
           }
          ],
          "scatterternary": [
           {
            "marker": {
             "colorbar": {
              "outlinewidth": 0,
              "ticks": ""
             }
            },
            "type": "scatterternary"
           }
          ],
          "surface": [
           {
            "colorbar": {
             "outlinewidth": 0,
             "ticks": ""
            },
            "colorscale": [
             [
              0,
              "#0d0887"
             ],
             [
              0.1111111111111111,
              "#46039f"
             ],
             [
              0.2222222222222222,
              "#7201a8"
             ],
             [
              0.3333333333333333,
              "#9c179e"
             ],
             [
              0.4444444444444444,
              "#bd3786"
             ],
             [
              0.5555555555555556,
              "#d8576b"
             ],
             [
              0.6666666666666666,
              "#ed7953"
             ],
             [
              0.7777777777777778,
              "#fb9f3a"
             ],
             [
              0.8888888888888888,
              "#fdca26"
             ],
             [
              1,
              "#f0f921"
             ]
            ],
            "type": "surface"
           }
          ],
          "table": [
           {
            "cells": {
             "fill": {
              "color": "#EBF0F8"
             },
             "line": {
              "color": "white"
             }
            },
            "header": {
             "fill": {
              "color": "#C8D4E3"
             },
             "line": {
              "color": "white"
             }
            },
            "type": "table"
           }
          ]
         },
         "layout": {
          "annotationdefaults": {
           "arrowcolor": "#2a3f5f",
           "arrowhead": 0,
           "arrowwidth": 1
          },
          "autotypenumbers": "strict",
          "coloraxis": {
           "colorbar": {
            "outlinewidth": 0,
            "ticks": ""
           }
          },
          "colorscale": {
           "diverging": [
            [
             0,
             "#8e0152"
            ],
            [
             0.1,
             "#c51b7d"
            ],
            [
             0.2,
             "#de77ae"
            ],
            [
             0.3,
             "#f1b6da"
            ],
            [
             0.4,
             "#fde0ef"
            ],
            [
             0.5,
             "#f7f7f7"
            ],
            [
             0.6,
             "#e6f5d0"
            ],
            [
             0.7,
             "#b8e186"
            ],
            [
             0.8,
             "#7fbc41"
            ],
            [
             0.9,
             "#4d9221"
            ],
            [
             1,
             "#276419"
            ]
           ],
           "sequential": [
            [
             0,
             "#0d0887"
            ],
            [
             0.1111111111111111,
             "#46039f"
            ],
            [
             0.2222222222222222,
             "#7201a8"
            ],
            [
             0.3333333333333333,
             "#9c179e"
            ],
            [
             0.4444444444444444,
             "#bd3786"
            ],
            [
             0.5555555555555556,
             "#d8576b"
            ],
            [
             0.6666666666666666,
             "#ed7953"
            ],
            [
             0.7777777777777778,
             "#fb9f3a"
            ],
            [
             0.8888888888888888,
             "#fdca26"
            ],
            [
             1,
             "#f0f921"
            ]
           ],
           "sequentialminus": [
            [
             0,
             "#0d0887"
            ],
            [
             0.1111111111111111,
             "#46039f"
            ],
            [
             0.2222222222222222,
             "#7201a8"
            ],
            [
             0.3333333333333333,
             "#9c179e"
            ],
            [
             0.4444444444444444,
             "#bd3786"
            ],
            [
             0.5555555555555556,
             "#d8576b"
            ],
            [
             0.6666666666666666,
             "#ed7953"
            ],
            [
             0.7777777777777778,
             "#fb9f3a"
            ],
            [
             0.8888888888888888,
             "#fdca26"
            ],
            [
             1,
             "#f0f921"
            ]
           ]
          },
          "colorway": [
           "#636efa",
           "#EF553B",
           "#00cc96",
           "#ab63fa",
           "#FFA15A",
           "#19d3f3",
           "#FF6692",
           "#B6E880",
           "#FF97FF",
           "#FECB52"
          ],
          "font": {
           "color": "#2a3f5f"
          },
          "geo": {
           "bgcolor": "white",
           "lakecolor": "white",
           "landcolor": "#E5ECF6",
           "showlakes": true,
           "showland": true,
           "subunitcolor": "white"
          },
          "hoverlabel": {
           "align": "left"
          },
          "hovermode": "closest",
          "mapbox": {
           "style": "light"
          },
          "paper_bgcolor": "white",
          "plot_bgcolor": "#E5ECF6",
          "polar": {
           "angularaxis": {
            "gridcolor": "white",
            "linecolor": "white",
            "ticks": ""
           },
           "bgcolor": "#E5ECF6",
           "radialaxis": {
            "gridcolor": "white",
            "linecolor": "white",
            "ticks": ""
           }
          },
          "scene": {
           "xaxis": {
            "backgroundcolor": "#E5ECF6",
            "gridcolor": "white",
            "gridwidth": 2,
            "linecolor": "white",
            "showbackground": true,
            "ticks": "",
            "zerolinecolor": "white"
           },
           "yaxis": {
            "backgroundcolor": "#E5ECF6",
            "gridcolor": "white",
            "gridwidth": 2,
            "linecolor": "white",
            "showbackground": true,
            "ticks": "",
            "zerolinecolor": "white"
           },
           "zaxis": {
            "backgroundcolor": "#E5ECF6",
            "gridcolor": "white",
            "gridwidth": 2,
            "linecolor": "white",
            "showbackground": true,
            "ticks": "",
            "zerolinecolor": "white"
           }
          },
          "shapedefaults": {
           "line": {
            "color": "#2a3f5f"
           }
          },
          "ternary": {
           "aaxis": {
            "gridcolor": "white",
            "linecolor": "white",
            "ticks": ""
           },
           "baxis": {
            "gridcolor": "white",
            "linecolor": "white",
            "ticks": ""
           },
           "bgcolor": "#E5ECF6",
           "caxis": {
            "gridcolor": "white",
            "linecolor": "white",
            "ticks": ""
           }
          },
          "title": {
           "x": 0.05
          },
          "xaxis": {
           "automargin": true,
           "gridcolor": "white",
           "linecolor": "white",
           "ticks": "",
           "title": {
            "standoff": 15
           },
           "zerolinecolor": "white",
           "zerolinewidth": 2
          },
          "yaxis": {
           "automargin": true,
           "gridcolor": "white",
           "linecolor": "white",
           "ticks": "",
           "title": {
            "standoff": 15
           },
           "zerolinecolor": "white",
           "zerolinewidth": 2
          }
         }
        },
        "title": {
         "font": {
          "size": 16
         },
         "text": "<br>Network graph made with Python"
        },
        "xaxis": {
         "showgrid": false,
         "showticklabels": false,
         "zeroline": false
        },
        "yaxis": {
         "showgrid": false,
         "showticklabels": false,
         "zeroline": false
        }
       }
      },
      "text/html": [
       "<div>                            <div id=\"1320bc37-e699-4058-a26c-1f4fcd30c102\" class=\"plotly-graph-div\" style=\"height:525px; width:100%;\"></div>            <script type=\"text/javascript\">                require([\"plotly\"], function(Plotly) {                    window.PLOTLYENV=window.PLOTLYENV || {};                                    if (document.getElementById(\"1320bc37-e699-4058-a26c-1f4fcd30c102\")) {                    Plotly.newPlot(                        \"1320bc37-e699-4058-a26c-1f4fcd30c102\",                        [{\"hoverinfo\": \"none\", \"line\": {\"color\": \"#888\", \"width\": 0.5}, \"mode\": \"lines\", \"type\": \"scatter\", \"x\": [0.9009688415656395, 0.9999999914850508, null, 0.22252097205383023, 0.6234897902033594, null, -0.6234897987183086, -0.2225209507664572, null, -1.0, -0.9009688500805887, null, -0.623489619904375, -0.9009688500805887, null, 0.22252103165847475, -0.2225210103711017, null, 0.9009688415656395, 0.6234896113894258, null], \"y\": [0.43388377356881347, 1.901690784043941e-08, null, 0.9749279170878568, 0.7818315186027088, null, 0.7818315186027088, 0.9749279170878568, null, -6.840586836083619e-08, 0.43388383317345797, null, -0.7818315997781822, -0.43388373553499776, null, -0.9749278790540411, -0.9749278790540411, null, -0.43388373553499776, -0.7818315997781822, null]}, {\"hoverinfo\": \"text\", \"marker\": {\"color\": [1, 1, 1, 1, 1, 1, 1, 1, 1, 1, 1, 1, 1, 1], \"colorbar\": {\"thickness\": 15, \"title\": {\"side\": \"right\", \"text\": \"Node Connections\"}, \"xanchor\": \"left\"}, \"colorscale\": [[0.0, \"rgb(255,255,217)\"], [0.125, \"rgb(237,248,177)\"], [0.25, \"rgb(199,233,180)\"], [0.375, \"rgb(127,205,187)\"], [0.5, \"rgb(65,182,196)\"], [0.625, \"rgb(29,145,192)\"], [0.75, \"rgb(34,94,168)\"], [0.875, \"rgb(37,52,148)\"], [1.0, \"rgb(8,29,88)\"]], \"line\": {\"width\": 2}, \"reversescale\": true, \"showscale\": true, \"size\": 10}, \"mode\": \"markers\", \"text\": [\"# of connections: 1\", \"# of connections: 1\", \"# of connections: 1\", \"# of connections: 1\", \"# of connections: 1\", \"# of connections: 1\", \"# of connections: 1\", \"# of connections: 1\", \"# of connections: 1\", \"# of connections: 1\", \"# of connections: 1\", \"# of connections: 1\", \"# of connections: 1\", \"# of connections: 1\"], \"type\": \"scatter\", \"x\": [0.9999999914850508, 0.9009688415656395, 0.6234897902033594, 0.22252097205383023, -0.2225209507664572, -0.6234897987183086, -0.9009688500805887, -1.0, -0.9009688500805887, -0.623489619904375, -0.2225210103711017, 0.22252103165847475, 0.6234896113894258, 0.9009688415656395], \"y\": [1.901690784043941e-08, 0.43388377356881347, 0.7818315186027088, 0.9749279170878568, 0.9749279170878568, 0.7818315186027088, 0.43388383317345797, -6.840586836083619e-08, -0.43388373553499776, -0.7818315997781822, -0.9749278790540411, -0.9749278790540411, -0.7818315997781822, -0.43388373553499776]}],                        {\"annotations\": [{\"showarrow\": false, \"text\": \"Python code: <a href='https://plotly.com/ipython-notebooks/network-graphs/'> https://plotly.com/ipython-notebooks/network-graphs/</a>\", \"x\": 0.005, \"xref\": \"paper\", \"y\": -0.002, \"yref\": \"paper\"}], \"hovermode\": \"closest\", \"margin\": {\"b\": 20, \"l\": 5, \"r\": 5, \"t\": 40}, \"showlegend\": false, \"template\": {\"data\": {\"bar\": [{\"error_x\": {\"color\": \"#2a3f5f\"}, \"error_y\": {\"color\": \"#2a3f5f\"}, \"marker\": {\"line\": {\"color\": \"#E5ECF6\", \"width\": 0.5}}, \"type\": \"bar\"}], \"barpolar\": [{\"marker\": {\"line\": {\"color\": \"#E5ECF6\", \"width\": 0.5}}, \"type\": \"barpolar\"}], \"carpet\": [{\"aaxis\": {\"endlinecolor\": \"#2a3f5f\", \"gridcolor\": \"white\", \"linecolor\": \"white\", \"minorgridcolor\": \"white\", \"startlinecolor\": \"#2a3f5f\"}, \"baxis\": {\"endlinecolor\": \"#2a3f5f\", \"gridcolor\": \"white\", \"linecolor\": \"white\", \"minorgridcolor\": \"white\", \"startlinecolor\": \"#2a3f5f\"}, \"type\": \"carpet\"}], \"choropleth\": [{\"colorbar\": {\"outlinewidth\": 0, \"ticks\": \"\"}, \"type\": \"choropleth\"}], \"contour\": [{\"colorbar\": {\"outlinewidth\": 0, \"ticks\": \"\"}, \"colorscale\": [[0.0, \"#0d0887\"], [0.1111111111111111, \"#46039f\"], [0.2222222222222222, \"#7201a8\"], [0.3333333333333333, \"#9c179e\"], [0.4444444444444444, \"#bd3786\"], [0.5555555555555556, \"#d8576b\"], [0.6666666666666666, \"#ed7953\"], [0.7777777777777778, \"#fb9f3a\"], [0.8888888888888888, \"#fdca26\"], [1.0, \"#f0f921\"]], \"type\": \"contour\"}], \"contourcarpet\": [{\"colorbar\": {\"outlinewidth\": 0, \"ticks\": \"\"}, \"type\": \"contourcarpet\"}], \"heatmap\": [{\"colorbar\": {\"outlinewidth\": 0, \"ticks\": \"\"}, \"colorscale\": [[0.0, \"#0d0887\"], [0.1111111111111111, \"#46039f\"], [0.2222222222222222, \"#7201a8\"], [0.3333333333333333, \"#9c179e\"], [0.4444444444444444, \"#bd3786\"], [0.5555555555555556, \"#d8576b\"], [0.6666666666666666, \"#ed7953\"], [0.7777777777777778, \"#fb9f3a\"], [0.8888888888888888, \"#fdca26\"], [1.0, \"#f0f921\"]], \"type\": \"heatmap\"}], \"heatmapgl\": [{\"colorbar\": {\"outlinewidth\": 0, \"ticks\": \"\"}, \"colorscale\": [[0.0, \"#0d0887\"], [0.1111111111111111, \"#46039f\"], [0.2222222222222222, \"#7201a8\"], [0.3333333333333333, \"#9c179e\"], [0.4444444444444444, \"#bd3786\"], [0.5555555555555556, \"#d8576b\"], [0.6666666666666666, \"#ed7953\"], [0.7777777777777778, \"#fb9f3a\"], [0.8888888888888888, \"#fdca26\"], [1.0, \"#f0f921\"]], \"type\": \"heatmapgl\"}], \"histogram\": [{\"marker\": {\"colorbar\": {\"outlinewidth\": 0, \"ticks\": \"\"}}, \"type\": \"histogram\"}], \"histogram2d\": [{\"colorbar\": {\"outlinewidth\": 0, \"ticks\": \"\"}, \"colorscale\": [[0.0, \"#0d0887\"], [0.1111111111111111, \"#46039f\"], [0.2222222222222222, \"#7201a8\"], [0.3333333333333333, \"#9c179e\"], [0.4444444444444444, \"#bd3786\"], [0.5555555555555556, \"#d8576b\"], [0.6666666666666666, \"#ed7953\"], [0.7777777777777778, \"#fb9f3a\"], [0.8888888888888888, \"#fdca26\"], [1.0, \"#f0f921\"]], \"type\": \"histogram2d\"}], \"histogram2dcontour\": [{\"colorbar\": {\"outlinewidth\": 0, \"ticks\": \"\"}, \"colorscale\": [[0.0, \"#0d0887\"], [0.1111111111111111, \"#46039f\"], [0.2222222222222222, \"#7201a8\"], [0.3333333333333333, \"#9c179e\"], [0.4444444444444444, \"#bd3786\"], [0.5555555555555556, \"#d8576b\"], [0.6666666666666666, \"#ed7953\"], [0.7777777777777778, \"#fb9f3a\"], [0.8888888888888888, \"#fdca26\"], [1.0, \"#f0f921\"]], \"type\": \"histogram2dcontour\"}], \"mesh3d\": [{\"colorbar\": {\"outlinewidth\": 0, \"ticks\": \"\"}, \"type\": \"mesh3d\"}], \"parcoords\": [{\"line\": {\"colorbar\": {\"outlinewidth\": 0, \"ticks\": \"\"}}, \"type\": \"parcoords\"}], \"pie\": [{\"automargin\": true, \"type\": \"pie\"}], \"scatter\": [{\"marker\": {\"colorbar\": {\"outlinewidth\": 0, \"ticks\": \"\"}}, \"type\": \"scatter\"}], \"scatter3d\": [{\"line\": {\"colorbar\": {\"outlinewidth\": 0, \"ticks\": \"\"}}, \"marker\": {\"colorbar\": {\"outlinewidth\": 0, \"ticks\": \"\"}}, \"type\": \"scatter3d\"}], \"scattercarpet\": [{\"marker\": {\"colorbar\": {\"outlinewidth\": 0, \"ticks\": \"\"}}, \"type\": \"scattercarpet\"}], \"scattergeo\": [{\"marker\": {\"colorbar\": {\"outlinewidth\": 0, \"ticks\": \"\"}}, \"type\": \"scattergeo\"}], \"scattergl\": [{\"marker\": {\"colorbar\": {\"outlinewidth\": 0, \"ticks\": \"\"}}, \"type\": \"scattergl\"}], \"scattermapbox\": [{\"marker\": {\"colorbar\": {\"outlinewidth\": 0, \"ticks\": \"\"}}, \"type\": \"scattermapbox\"}], \"scatterpolar\": [{\"marker\": {\"colorbar\": {\"outlinewidth\": 0, \"ticks\": \"\"}}, \"type\": \"scatterpolar\"}], \"scatterpolargl\": [{\"marker\": {\"colorbar\": {\"outlinewidth\": 0, \"ticks\": \"\"}}, \"type\": \"scatterpolargl\"}], \"scatterternary\": [{\"marker\": {\"colorbar\": {\"outlinewidth\": 0, \"ticks\": \"\"}}, \"type\": \"scatterternary\"}], \"surface\": [{\"colorbar\": {\"outlinewidth\": 0, \"ticks\": \"\"}, \"colorscale\": [[0.0, \"#0d0887\"], [0.1111111111111111, \"#46039f\"], [0.2222222222222222, \"#7201a8\"], [0.3333333333333333, \"#9c179e\"], [0.4444444444444444, \"#bd3786\"], [0.5555555555555556, \"#d8576b\"], [0.6666666666666666, \"#ed7953\"], [0.7777777777777778, \"#fb9f3a\"], [0.8888888888888888, \"#fdca26\"], [1.0, \"#f0f921\"]], \"type\": \"surface\"}], \"table\": [{\"cells\": {\"fill\": {\"color\": \"#EBF0F8\"}, \"line\": {\"color\": \"white\"}}, \"header\": {\"fill\": {\"color\": \"#C8D4E3\"}, \"line\": {\"color\": \"white\"}}, \"type\": \"table\"}]}, \"layout\": {\"annotationdefaults\": {\"arrowcolor\": \"#2a3f5f\", \"arrowhead\": 0, \"arrowwidth\": 1}, \"autotypenumbers\": \"strict\", \"coloraxis\": {\"colorbar\": {\"outlinewidth\": 0, \"ticks\": \"\"}}, \"colorscale\": {\"diverging\": [[0, \"#8e0152\"], [0.1, \"#c51b7d\"], [0.2, \"#de77ae\"], [0.3, \"#f1b6da\"], [0.4, \"#fde0ef\"], [0.5, \"#f7f7f7\"], [0.6, \"#e6f5d0\"], [0.7, \"#b8e186\"], [0.8, \"#7fbc41\"], [0.9, \"#4d9221\"], [1, \"#276419\"]], \"sequential\": [[0.0, \"#0d0887\"], [0.1111111111111111, \"#46039f\"], [0.2222222222222222, \"#7201a8\"], [0.3333333333333333, \"#9c179e\"], [0.4444444444444444, \"#bd3786\"], [0.5555555555555556, \"#d8576b\"], [0.6666666666666666, \"#ed7953\"], [0.7777777777777778, \"#fb9f3a\"], [0.8888888888888888, \"#fdca26\"], [1.0, \"#f0f921\"]], \"sequentialminus\": [[0.0, \"#0d0887\"], [0.1111111111111111, \"#46039f\"], [0.2222222222222222, \"#7201a8\"], [0.3333333333333333, \"#9c179e\"], [0.4444444444444444, \"#bd3786\"], [0.5555555555555556, \"#d8576b\"], [0.6666666666666666, \"#ed7953\"], [0.7777777777777778, \"#fb9f3a\"], [0.8888888888888888, \"#fdca26\"], [1.0, \"#f0f921\"]]}, \"colorway\": [\"#636efa\", \"#EF553B\", \"#00cc96\", \"#ab63fa\", \"#FFA15A\", \"#19d3f3\", \"#FF6692\", \"#B6E880\", \"#FF97FF\", \"#FECB52\"], \"font\": {\"color\": \"#2a3f5f\"}, \"geo\": {\"bgcolor\": \"white\", \"lakecolor\": \"white\", \"landcolor\": \"#E5ECF6\", \"showlakes\": true, \"showland\": true, \"subunitcolor\": \"white\"}, \"hoverlabel\": {\"align\": \"left\"}, \"hovermode\": \"closest\", \"mapbox\": {\"style\": \"light\"}, \"paper_bgcolor\": \"white\", \"plot_bgcolor\": \"#E5ECF6\", \"polar\": {\"angularaxis\": {\"gridcolor\": \"white\", \"linecolor\": \"white\", \"ticks\": \"\"}, \"bgcolor\": \"#E5ECF6\", \"radialaxis\": {\"gridcolor\": \"white\", \"linecolor\": \"white\", \"ticks\": \"\"}}, \"scene\": {\"xaxis\": {\"backgroundcolor\": \"#E5ECF6\", \"gridcolor\": \"white\", \"gridwidth\": 2, \"linecolor\": \"white\", \"showbackground\": true, \"ticks\": \"\", \"zerolinecolor\": \"white\"}, \"yaxis\": {\"backgroundcolor\": \"#E5ECF6\", \"gridcolor\": \"white\", \"gridwidth\": 2, \"linecolor\": \"white\", \"showbackground\": true, \"ticks\": \"\", \"zerolinecolor\": \"white\"}, \"zaxis\": {\"backgroundcolor\": \"#E5ECF6\", \"gridcolor\": \"white\", \"gridwidth\": 2, \"linecolor\": \"white\", \"showbackground\": true, \"ticks\": \"\", \"zerolinecolor\": \"white\"}}, \"shapedefaults\": {\"line\": {\"color\": \"#2a3f5f\"}}, \"ternary\": {\"aaxis\": {\"gridcolor\": \"white\", \"linecolor\": \"white\", \"ticks\": \"\"}, \"baxis\": {\"gridcolor\": \"white\", \"linecolor\": \"white\", \"ticks\": \"\"}, \"bgcolor\": \"#E5ECF6\", \"caxis\": {\"gridcolor\": \"white\", \"linecolor\": \"white\", \"ticks\": \"\"}}, \"title\": {\"x\": 0.05}, \"xaxis\": {\"automargin\": true, \"gridcolor\": \"white\", \"linecolor\": \"white\", \"ticks\": \"\", \"title\": {\"standoff\": 15}, \"zerolinecolor\": \"white\", \"zerolinewidth\": 2}, \"yaxis\": {\"automargin\": true, \"gridcolor\": \"white\", \"linecolor\": \"white\", \"ticks\": \"\", \"title\": {\"standoff\": 15}, \"zerolinecolor\": \"white\", \"zerolinewidth\": 2}}}, \"title\": {\"font\": {\"size\": 16}, \"text\": \"<br>Network graph made with Python\"}, \"xaxis\": {\"showgrid\": false, \"showticklabels\": false, \"zeroline\": false}, \"yaxis\": {\"showgrid\": false, \"showticklabels\": false, \"zeroline\": false}},                        {\"responsive\": true}                    ).then(function(){\n",
       "                            \n",
       "var gd = document.getElementById('1320bc37-e699-4058-a26c-1f4fcd30c102');\n",
       "var x = new MutationObserver(function (mutations, observer) {{\n",
       "        var display = window.getComputedStyle(gd).display;\n",
       "        if (!display || display === 'none') {{\n",
       "            console.log([gd, 'removed!']);\n",
       "            Plotly.purge(gd);\n",
       "            observer.disconnect();\n",
       "        }}\n",
       "}});\n",
       "\n",
       "// Listen for the removal of the full notebook cells\n",
       "var notebookContainer = gd.closest('#notebook-container');\n",
       "if (notebookContainer) {{\n",
       "    x.observe(notebookContainer, {childList: true});\n",
       "}}\n",
       "\n",
       "// Listen for the clearing of the current output cell\n",
       "var outputEl = gd.closest('.output');\n",
       "if (outputEl) {{\n",
       "    x.observe(outputEl, {childList: true});\n",
       "}}\n",
       "\n",
       "                        })                };                });            </script>        </div>"
      ]
     },
     "metadata": {},
     "output_type": "display_data"
    },
    {
     "name": "stdout",
     "output_type": "stream",
     "text": [
      "CPU times: user 626 ms, sys: 621 ms, total: 1.25 s\n",
      "Wall time: 1.26 s\n"
     ]
    }
   ],
   "source": [
    "%%time\n",
    "plot_knn_graph(dictionary, M, k=1)"
   ]
  },
  {
   "cell_type": "code",
   "execution_count": 281,
   "metadata": {
    "scrolled": true
   },
   "outputs": [
    {
     "data": {
      "application/vnd.plotly.v1+json": {
       "config": {
        "plotlyServerURL": "https://plot.ly"
       },
       "data": [
        {
         "line": {
          "width": 2
         },
         "mode": "lines",
         "type": "scatter",
         "uid": "0c399a5b-97fb-41ae-92d2-88465f80a3ce",
         "y": [
          0.9403060047565578,
          0.3131815524844883,
          0.18670593778155697,
          0.07290205260462468,
          0.5344761057394016,
          0.34387158699004194,
          0.19200631444731897,
          0.9415218444399923,
          0.32797198979313824,
          0.8662657260601578,
          0.53371082132411,
          0.28705376320668874,
          0.24550838520334106,
          0.03433431324711944,
          0.6505877040926489,
          0.3627045707117106,
          0.14686335839124864,
          0.9272435357891592,
          0.8694216005774761,
          0.9182155960685668,
          0.7269732108501302,
          0.09039559547889131,
          0.4705205132555731,
          0.09894173755965963,
          0.42479087316724984,
          0.16106336783916664,
          0.23245077545584114,
          0.21135351814367087,
          0.7412628743734309,
          0.16535029555117042,
          0.8109325276032309,
          0.09297424194374704,
          0.6487915763464093,
          0.7152782348980005,
          0.8701463532839147,
          0.8079379412843474,
          0.25562663120758955,
          0.24385232463770667,
          0.49121747186275866,
          0.8792568657829213,
          0.9406290687097772,
          0.28597397223063803,
          0.23577202035998923,
          0.7986090229250129,
          0.1236491804363814,
          0.8070789214459831,
          0.40670078611387517,
          0.3707541122629203,
          0.7834047133299709,
          0.8881326233920995,
          0.7719035497799874,
          0.7436285024955327,
          0.3575303983635413,
          0.18911753484135385,
          0.7456292784682934,
          0.23502967809712627,
          0.29775145587860063,
          0.6768580427054852,
          0.03871153183428777,
          0.9826820733565043,
          0.3212061077717071,
          0.01699416327897496,
          0.699751186387358,
          0.7333612930754142,
          0.04887554110609327,
          0.5285053126719262,
          0.17747397210363403,
          0.4066218330706117,
          0.47891666202207417,
          0.6531801635823367,
          0.6487736170276147,
          0.8641463910400476,
          0.9207315072931376,
          0.8885445269680665,
          0.5657088023541075,
          0.06589974534304321,
          0.032633374607581644,
          0.3619901136859808,
          0.36204789708015495,
          0.8206534649688563,
          0.7261243672616041,
          0.9091140349463596,
          0.12829105790997608,
          0.3202485872962527,
          0.8753637111202284,
          0.5580477086900638,
          0.15737411442071936,
          0.6096813465543349,
          0.32803750726656866,
          0.25414377263975374,
          0.995407395914632,
          0.5999475911544743,
          0.18011928679239464,
          0.3490333834160422,
          0.47223841525221044,
          0.8842482148092936,
          0.10231313128297337,
          0.6853463506306839,
          0.9461356292003714,
          0.8817916353676146
         ]
        },
        {
         "line": {
          "width": 2
         },
         "mode": "lines",
         "type": "scatter",
         "uid": "e5126bf7-9d83-4644-bf9e-55eacdbd5133",
         "y": [
          0.8889847002248702,
          0.6001505421451123,
          1.2089182668441865,
          0.7177536023703486,
          0.5356817326350197,
          0.5980983673578569,
          1.0142860911482143,
          0.8171549760133937,
          0.5452886965778208,
          1.1064207826074746,
          0.5485941552636682,
          0.8991436388022,
          1.3038939609840114,
          1.4952337911285631,
          0.7259133602808931,
          0.5719972331196741,
          0.5255121529544895,
          1.2038509480624757,
          1.3959147144398814,
          1.2291360305990735,
          1.0566762846350946,
          1.3024809582211534,
          0.8405153676571836,
          1.3525921162282528,
          0.7678604391657411,
          1.484702324533679,
          1.2673906881138235,
          1.3913840161996214,
          1.2369275157785848,
          0.9850927688820151,
          1.3230306274248642,
          1.3483164454766974,
          1.075850468047374,
          0.911892538621683,
          1.494957703878669,
          1.21033146720184,
          1.1480742823554175,
          0.8062500569643014,
          1.383927399062821,
          1.4055969732643354,
          0.5060476989740285,
          0.9296815043603657,
          0.8157753460791317,
          1.0334682498897623,
          0.7211489754339238,
          1.316063794246053,
          0.5836853281005729,
          1.0834831072359767,
          1.4146882817697792,
          0.7043038356080726,
          1.289102903507985,
          1.2785050973750702,
          0.9314590817508464,
          0.9209235758278076,
          0.6106947775767472,
          1.3753100459887673,
          0.9154873118412467,
          1.2779525191213743,
          0.7521518171542758,
          0.5904198706968611,
          1.4254403481888533,
          1.0625905070196893,
          0.9296850048298597,
          1.3621536387854292,
          0.9483553118606247,
          0.5248075717419326,
          1.3895449852256276,
          1.1592109055129245,
          1.3525990471018474,
          0.7342462414370758,
          1.4152483884146307,
          1.0015422603056277,
          0.9379711150228662,
          0.6569902221224094,
          1.1227666625045987,
          1.4165885128490916,
          1.305269104016744,
          0.8266531185428077,
          1.4080744574359922,
          0.6125931641449279,
          0.5804204159787298,
          1.1706681509774866,
          1.0598042221646207,
          1.2687113193824358,
          1.1778065670761246,
          1.1195641363185391,
          1.1236263795296701,
          0.851725835024788,
          0.607486121397916,
          1.3582750801297592,
          1.4469686547207528,
          1.2297258801101827,
          0.843125002222947,
          0.8909896334153531,
          1.3728211770539327,
          0.9358026442802972,
          0.8791412222223003,
          1.4828741822895732,
          1.0378018645454268,
          0.6988161179662632
         ]
        },
        {
         "line": {
          "width": 2
         },
         "mode": "lines",
         "type": "scatter",
         "uid": "966003c6-e277-4e82-9cc5-a0e3606935cb",
         "y": [
          1.5289749758386848,
          1.1208237723158785,
          1.9591058877744367,
          1.6568434006193637,
          1.7018930069228002,
          1.7595049810992407,
          1.0963043795397265,
          1.6414609022014774,
          1.9018760525421343,
          1.0650329854244829,
          1.2327136843409074,
          1.357363101456865,
          1.2652068892912514,
          1.690040843056297,
          1.958233183610322,
          1.9348164530917678,
          1.908482112897868,
          1.4617028439062691,
          1.656970905349179,
          1.8268273112645403,
          1.8431698005816899,
          1.2813933522614365,
          1.782858698169225,
          1.5880884384091605,
          1.1355775187277306,
          1.5883427372468177,
          1.5919695934073945,
          1.1529078408298479,
          1.5720170189280802,
          1.3220318814950094,
          1.0117046959070217,
          1.6101461514741184,
          1.99091541524862,
          1.0963739741305014,
          1.4007788876058833,
          1.7679486813779182,
          1.7724973943148303,
          1.2532626640308435,
          1.851024743282237,
          1.2275994665346919,
          1.1794511143127848,
          1.1496155404462216,
          1.9307492419333623,
          1.5189081199633274,
          1.0074184211980484,
          1.4936957243843114,
          1.2610841144899836,
          1.945468921270007,
          1.8730183707203345,
          1.9304894371116539,
          1.7195689628829034,
          1.4469728581005439,
          1.9328041487626542,
          1.3456054233930472,
          1.9482098216385921,
          1.0247361530283134,
          1.5062273702719162,
          1.8490427159526064,
          1.4134411692876903,
          1.8062541467135418,
          1.0884761020276845,
          1.7296557526353176,
          1.452814879298746,
          1.7401784844145605,
          1.4084795791371096,
          1.145148969178768,
          1.9274674349214616,
          1.4070671625580062,
          1.3080177610394932,
          1.643430923990071,
          1.074243864071891,
          1.0673564705058047,
          1.8868602446924039,
          1.5577319992169967,
          1.9723090325074528,
          1.2511659311891012,
          1.9125121226495787,
          1.7726323761626381,
          1.2892151719645486,
          1.887618054038604,
          1.5824344515248943,
          1.0877319045108356,
          1.2500200519659435,
          1.1679817208296885,
          1.8817796698076337,
          1.7783601722129694,
          1.3624830307868079,
          1.0059384353439116,
          1.6834811996907617,
          1.8985487422778566,
          1.172950460521311,
          1.8230743666282423,
          1.2957988786442787,
          1.432462207522009,
          1.0310490432736317,
          1.7841093386607925,
          1.8495322541327508,
          1.5975592101029632,
          1.9933861811299347,
          1.6654384519102343
         ]
        },
        {
         "line": {
          "width": 2
         },
         "mode": "lines",
         "type": "scatter",
         "uid": "e90fc068-cc64-4991-ba80-15cb4e50ea6f",
         "y": [
          2.128779283340888,
          2.4015422918796956,
          2.3812083668529382,
          2.1629858411540193,
          1.8723614250215137,
          1.8847237446590066,
          2.3150745711407663,
          2.056545993809187,
          1.6593387429494584,
          1.9589852054065666,
          1.9947512562342904,
          2.163113299866302,
          2.1106634735023295,
          2.294329455914979,
          2.2754488148927066,
          1.8851438309055693,
          2.3614382548468584,
          1.6861985558781871,
          2.16473457651174,
          1.5266601237867246,
          1.9098954284316987,
          2.118930666147736,
          1.9162889875775426,
          1.5923720975755733,
          2.212505178664296,
          2.0951148791344294,
          2.0552898177478367,
          1.971303788366998,
          1.6161508755989336,
          1.9232267132495782,
          1.700472624648512,
          1.7316776134488585,
          1.5196496648579056,
          1.96763568900438,
          2.341693419534245,
          2.2002937801224327,
          1.6671003497307693,
          1.6899039569356997,
          1.916443326367475,
          1.5982571912303547,
          2.1203267901894827,
          1.7685563296573221,
          1.798533716213411,
          2.077876009645148,
          1.9507726243772805,
          1.9139299854320575,
          1.826308248526458,
          2.3851133084900216,
          1.627231239548121,
          2.4976907900943015,
          1.8818582827497794,
          2.198071936864863,
          2.065708253975086,
          2.1767149046113623,
          2.4776536482459686,
          1.8865170525300505,
          1.6916673817618921,
          1.5288793730554995,
          2.0125913208394097,
          2.330672609701869,
          2.2060466694998837,
          1.7647176714343848,
          1.7938051337520156,
          1.7083030685730693,
          2.04546187116597,
          2.306809848528172,
          1.8907670474331746,
          2.2454805049052426,
          1.7042320421895225,
          1.907873784809368,
          1.5810756002609878,
          2.312600997495888,
          2.482405557451351,
          2.348953955591368,
          1.5482432848345504,
          2.4768701018363997,
          2.4938517872672747,
          2.0109693164572926,
          2.0548488774132467,
          2.2760913940169676,
          2.4698026437993663,
          1.5395070275968192,
          2.245240742795568,
          2.034134573374639,
          1.956043299491725,
          1.5381123183202123,
          1.912126463352704,
          1.7348446195076166,
          2.123919761521469,
          2.251141742526098,
          1.5572255725761448,
          2.1477939283855876,
          2.0969472695416225,
          2.3105735423489895,
          2.1695852018990562,
          2.447371215905673,
          1.6720028122069208,
          2.353166148961663,
          1.8489633643738943,
          2.2012239141642342
         ]
        },
        {
         "line": {
          "width": 2
         },
         "mode": "lines",
         "type": "scatter",
         "uid": "1e74d8a6-ffc3-493c-8c20-b5799b9ca221",
         "y": [
          2.4940769538170495,
          2.1879058862060177,
          2.9595996835739378,
          2.016095026540807,
          2.100085135370268,
          2.3727660318721093,
          2.0210635589023105,
          2.727615703876285,
          2.296147908321687,
          2.676016407822689,
          2.106848450268678,
          2.5249572984558997,
          2.832964553361621,
          2.7575711153423192,
          2.8408034245368077,
          2.464748725741764,
          2.5849551025631277,
          2.326881187264709,
          2.373486393758016,
          2.2809778789555386,
          2.301233831970297,
          2.571503704522605,
          2.0000729692748296,
          2.751222225948791,
          2.680546641207944,
          2.6162177574991965,
          2.6445689907005177,
          2.467147002345275,
          2.606203786976497,
          2.1676258779549307,
          2.9176444507629764,
          2.682583777512768,
          2.598998880061775,
          2.85594747405377,
          2.5835292090169535,
          2.38088930870353,
          2.4638597661334027,
          2.295039438087586,
          2.9067217760286908,
          2.7245170981962454,
          2.211489285138032,
          2.013409895572436,
          2.8362746673320904,
          2.2303718167040847,
          2.35882575817549,
          2.317481802510741,
          2.029450213691974,
          2.4725351427415156,
          2.890808582257547,
          2.616018626501326,
          2.058513636463854,
          2.7534183357610664,
          2.020608063763304,
          2.567469101728821,
          2.2405707980018876,
          2.006740900830872,
          2.751029813301595,
          2.9826609585943,
          2.83978859790666,
          2.019657854944679,
          2.3011287798803424,
          2.9047522978782956,
          2.9146283902129837,
          2.370939702153118,
          2.6217612420725267,
          2.5253367922676055,
          2.2775321095864784,
          2.819284072853655,
          2.0769153776703657,
          2.976462951963176,
          2.2828180051158538,
          2.862172545278365,
          2.6876969264057053,
          2.9537183965500176,
          2.4897753764429718,
          2.597559171280877,
          2.353219756776597,
          2.324505843712498,
          2.978243736742744,
          2.5946600181918664,
          2.8934102641019863,
          2.6974146925944975,
          2.3326182147623262,
          2.0398560426721737,
          2.620739678984047,
          2.72828551954402,
          2.6243353757527546,
          2.1472963605217865,
          2.21371106835105,
          2.1161464041998332,
          2.9334221083527536,
          2.2465770145543944,
          2.041977794365184,
          2.5203438589030887,
          2.9748145973313997,
          2.1065404720977305,
          2.3924437092033233,
          2.2157946850984187,
          2.9052538054759296,
          2.8004924353019267
         ]
        }
       ],
       "layout": {
        "hoverdistance": -1,
        "hovermode": "closest",
        "template": {
         "data": {
          "bar": [
           {
            "error_x": {
             "color": "#2a3f5f"
            },
            "error_y": {
             "color": "#2a3f5f"
            },
            "marker": {
             "line": {
              "color": "#E5ECF6",
              "width": 0.5
             }
            },
            "type": "bar"
           }
          ],
          "barpolar": [
           {
            "marker": {
             "line": {
              "color": "#E5ECF6",
              "width": 0.5
             }
            },
            "type": "barpolar"
           }
          ],
          "carpet": [
           {
            "aaxis": {
             "endlinecolor": "#2a3f5f",
             "gridcolor": "white",
             "linecolor": "white",
             "minorgridcolor": "white",
             "startlinecolor": "#2a3f5f"
            },
            "baxis": {
             "endlinecolor": "#2a3f5f",
             "gridcolor": "white",
             "linecolor": "white",
             "minorgridcolor": "white",
             "startlinecolor": "#2a3f5f"
            },
            "type": "carpet"
           }
          ],
          "choropleth": [
           {
            "colorbar": {
             "outlinewidth": 0,
             "ticks": ""
            },
            "type": "choropleth"
           }
          ],
          "contour": [
           {
            "colorbar": {
             "outlinewidth": 0,
             "ticks": ""
            },
            "colorscale": [
             [
              0,
              "#0d0887"
             ],
             [
              0.1111111111111111,
              "#46039f"
             ],
             [
              0.2222222222222222,
              "#7201a8"
             ],
             [
              0.3333333333333333,
              "#9c179e"
             ],
             [
              0.4444444444444444,
              "#bd3786"
             ],
             [
              0.5555555555555556,
              "#d8576b"
             ],
             [
              0.6666666666666666,
              "#ed7953"
             ],
             [
              0.7777777777777778,
              "#fb9f3a"
             ],
             [
              0.8888888888888888,
              "#fdca26"
             ],
             [
              1,
              "#f0f921"
             ]
            ],
            "type": "contour"
           }
          ],
          "contourcarpet": [
           {
            "colorbar": {
             "outlinewidth": 0,
             "ticks": ""
            },
            "type": "contourcarpet"
           }
          ],
          "heatmap": [
           {
            "colorbar": {
             "outlinewidth": 0,
             "ticks": ""
            },
            "colorscale": [
             [
              0,
              "#0d0887"
             ],
             [
              0.1111111111111111,
              "#46039f"
             ],
             [
              0.2222222222222222,
              "#7201a8"
             ],
             [
              0.3333333333333333,
              "#9c179e"
             ],
             [
              0.4444444444444444,
              "#bd3786"
             ],
             [
              0.5555555555555556,
              "#d8576b"
             ],
             [
              0.6666666666666666,
              "#ed7953"
             ],
             [
              0.7777777777777778,
              "#fb9f3a"
             ],
             [
              0.8888888888888888,
              "#fdca26"
             ],
             [
              1,
              "#f0f921"
             ]
            ],
            "type": "heatmap"
           }
          ],
          "heatmapgl": [
           {
            "colorbar": {
             "outlinewidth": 0,
             "ticks": ""
            },
            "colorscale": [
             [
              0,
              "#0d0887"
             ],
             [
              0.1111111111111111,
              "#46039f"
             ],
             [
              0.2222222222222222,
              "#7201a8"
             ],
             [
              0.3333333333333333,
              "#9c179e"
             ],
             [
              0.4444444444444444,
              "#bd3786"
             ],
             [
              0.5555555555555556,
              "#d8576b"
             ],
             [
              0.6666666666666666,
              "#ed7953"
             ],
             [
              0.7777777777777778,
              "#fb9f3a"
             ],
             [
              0.8888888888888888,
              "#fdca26"
             ],
             [
              1,
              "#f0f921"
             ]
            ],
            "type": "heatmapgl"
           }
          ],
          "histogram": [
           {
            "marker": {
             "colorbar": {
              "outlinewidth": 0,
              "ticks": ""
             }
            },
            "type": "histogram"
           }
          ],
          "histogram2d": [
           {
            "colorbar": {
             "outlinewidth": 0,
             "ticks": ""
            },
            "colorscale": [
             [
              0,
              "#0d0887"
             ],
             [
              0.1111111111111111,
              "#46039f"
             ],
             [
              0.2222222222222222,
              "#7201a8"
             ],
             [
              0.3333333333333333,
              "#9c179e"
             ],
             [
              0.4444444444444444,
              "#bd3786"
             ],
             [
              0.5555555555555556,
              "#d8576b"
             ],
             [
              0.6666666666666666,
              "#ed7953"
             ],
             [
              0.7777777777777778,
              "#fb9f3a"
             ],
             [
              0.8888888888888888,
              "#fdca26"
             ],
             [
              1,
              "#f0f921"
             ]
            ],
            "type": "histogram2d"
           }
          ],
          "histogram2dcontour": [
           {
            "colorbar": {
             "outlinewidth": 0,
             "ticks": ""
            },
            "colorscale": [
             [
              0,
              "#0d0887"
             ],
             [
              0.1111111111111111,
              "#46039f"
             ],
             [
              0.2222222222222222,
              "#7201a8"
             ],
             [
              0.3333333333333333,
              "#9c179e"
             ],
             [
              0.4444444444444444,
              "#bd3786"
             ],
             [
              0.5555555555555556,
              "#d8576b"
             ],
             [
              0.6666666666666666,
              "#ed7953"
             ],
             [
              0.7777777777777778,
              "#fb9f3a"
             ],
             [
              0.8888888888888888,
              "#fdca26"
             ],
             [
              1,
              "#f0f921"
             ]
            ],
            "type": "histogram2dcontour"
           }
          ],
          "mesh3d": [
           {
            "colorbar": {
             "outlinewidth": 0,
             "ticks": ""
            },
            "type": "mesh3d"
           }
          ],
          "parcoords": [
           {
            "line": {
             "colorbar": {
              "outlinewidth": 0,
              "ticks": ""
             }
            },
            "type": "parcoords"
           }
          ],
          "pie": [
           {
            "automargin": true,
            "type": "pie"
           }
          ],
          "scatter": [
           {
            "marker": {
             "colorbar": {
              "outlinewidth": 0,
              "ticks": ""
             }
            },
            "type": "scatter"
           }
          ],
          "scatter3d": [
           {
            "line": {
             "colorbar": {
              "outlinewidth": 0,
              "ticks": ""
             }
            },
            "marker": {
             "colorbar": {
              "outlinewidth": 0,
              "ticks": ""
             }
            },
            "type": "scatter3d"
           }
          ],
          "scattercarpet": [
           {
            "marker": {
             "colorbar": {
              "outlinewidth": 0,
              "ticks": ""
             }
            },
            "type": "scattercarpet"
           }
          ],
          "scattergeo": [
           {
            "marker": {
             "colorbar": {
              "outlinewidth": 0,
              "ticks": ""
             }
            },
            "type": "scattergeo"
           }
          ],
          "scattergl": [
           {
            "marker": {
             "colorbar": {
              "outlinewidth": 0,
              "ticks": ""
             }
            },
            "type": "scattergl"
           }
          ],
          "scattermapbox": [
           {
            "marker": {
             "colorbar": {
              "outlinewidth": 0,
              "ticks": ""
             }
            },
            "type": "scattermapbox"
           }
          ],
          "scatterpolar": [
           {
            "marker": {
             "colorbar": {
              "outlinewidth": 0,
              "ticks": ""
             }
            },
            "type": "scatterpolar"
           }
          ],
          "scatterpolargl": [
           {
            "marker": {
             "colorbar": {
              "outlinewidth": 0,
              "ticks": ""
             }
            },
            "type": "scatterpolargl"
           }
          ],
          "scatterternary": [
           {
            "marker": {
             "colorbar": {
              "outlinewidth": 0,
              "ticks": ""
             }
            },
            "type": "scatterternary"
           }
          ],
          "surface": [
           {
            "colorbar": {
             "outlinewidth": 0,
             "ticks": ""
            },
            "colorscale": [
             [
              0,
              "#0d0887"
             ],
             [
              0.1111111111111111,
              "#46039f"
             ],
             [
              0.2222222222222222,
              "#7201a8"
             ],
             [
              0.3333333333333333,
              "#9c179e"
             ],
             [
              0.4444444444444444,
              "#bd3786"
             ],
             [
              0.5555555555555556,
              "#d8576b"
             ],
             [
              0.6666666666666666,
              "#ed7953"
             ],
             [
              0.7777777777777778,
              "#fb9f3a"
             ],
             [
              0.8888888888888888,
              "#fdca26"
             ],
             [
              1,
              "#f0f921"
             ]
            ],
            "type": "surface"
           }
          ],
          "table": [
           {
            "cells": {
             "fill": {
              "color": "#EBF0F8"
             },
             "line": {
              "color": "white"
             }
            },
            "header": {
             "fill": {
              "color": "#C8D4E3"
             },
             "line": {
              "color": "white"
             }
            },
            "type": "table"
           }
          ]
         },
         "layout": {
          "annotationdefaults": {
           "arrowcolor": "#2a3f5f",
           "arrowhead": 0,
           "arrowwidth": 1
          },
          "autotypenumbers": "strict",
          "coloraxis": {
           "colorbar": {
            "outlinewidth": 0,
            "ticks": ""
           }
          },
          "colorscale": {
           "diverging": [
            [
             0,
             "#8e0152"
            ],
            [
             0.1,
             "#c51b7d"
            ],
            [
             0.2,
             "#de77ae"
            ],
            [
             0.3,
             "#f1b6da"
            ],
            [
             0.4,
             "#fde0ef"
            ],
            [
             0.5,
             "#f7f7f7"
            ],
            [
             0.6,
             "#e6f5d0"
            ],
            [
             0.7,
             "#b8e186"
            ],
            [
             0.8,
             "#7fbc41"
            ],
            [
             0.9,
             "#4d9221"
            ],
            [
             1,
             "#276419"
            ]
           ],
           "sequential": [
            [
             0,
             "#0d0887"
            ],
            [
             0.1111111111111111,
             "#46039f"
            ],
            [
             0.2222222222222222,
             "#7201a8"
            ],
            [
             0.3333333333333333,
             "#9c179e"
            ],
            [
             0.4444444444444444,
             "#bd3786"
            ],
            [
             0.5555555555555556,
             "#d8576b"
            ],
            [
             0.6666666666666666,
             "#ed7953"
            ],
            [
             0.7777777777777778,
             "#fb9f3a"
            ],
            [
             0.8888888888888888,
             "#fdca26"
            ],
            [
             1,
             "#f0f921"
            ]
           ],
           "sequentialminus": [
            [
             0,
             "#0d0887"
            ],
            [
             0.1111111111111111,
             "#46039f"
            ],
            [
             0.2222222222222222,
             "#7201a8"
            ],
            [
             0.3333333333333333,
             "#9c179e"
            ],
            [
             0.4444444444444444,
             "#bd3786"
            ],
            [
             0.5555555555555556,
             "#d8576b"
            ],
            [
             0.6666666666666666,
             "#ed7953"
            ],
            [
             0.7777777777777778,
             "#fb9f3a"
            ],
            [
             0.8888888888888888,
             "#fdca26"
            ],
            [
             1,
             "#f0f921"
            ]
           ]
          },
          "colorway": [
           "#636efa",
           "#EF553B",
           "#00cc96",
           "#ab63fa",
           "#FFA15A",
           "#19d3f3",
           "#FF6692",
           "#B6E880",
           "#FF97FF",
           "#FECB52"
          ],
          "font": {
           "color": "#2a3f5f"
          },
          "geo": {
           "bgcolor": "white",
           "lakecolor": "white",
           "landcolor": "#E5ECF6",
           "showlakes": true,
           "showland": true,
           "subunitcolor": "white"
          },
          "hoverlabel": {
           "align": "left"
          },
          "hovermode": "closest",
          "mapbox": {
           "style": "light"
          },
          "paper_bgcolor": "white",
          "plot_bgcolor": "#E5ECF6",
          "polar": {
           "angularaxis": {
            "gridcolor": "white",
            "linecolor": "white",
            "ticks": ""
           },
           "bgcolor": "#E5ECF6",
           "radialaxis": {
            "gridcolor": "white",
            "linecolor": "white",
            "ticks": ""
           }
          },
          "scene": {
           "xaxis": {
            "backgroundcolor": "#E5ECF6",
            "gridcolor": "white",
            "gridwidth": 2,
            "linecolor": "white",
            "showbackground": true,
            "ticks": "",
            "zerolinecolor": "white"
           },
           "yaxis": {
            "backgroundcolor": "#E5ECF6",
            "gridcolor": "white",
            "gridwidth": 2,
            "linecolor": "white",
            "showbackground": true,
            "ticks": "",
            "zerolinecolor": "white"
           },
           "zaxis": {
            "backgroundcolor": "#E5ECF6",
            "gridcolor": "white",
            "gridwidth": 2,
            "linecolor": "white",
            "showbackground": true,
            "ticks": "",
            "zerolinecolor": "white"
           }
          },
          "shapedefaults": {
           "line": {
            "color": "#2a3f5f"
           }
          },
          "ternary": {
           "aaxis": {
            "gridcolor": "white",
            "linecolor": "white",
            "ticks": ""
           },
           "baxis": {
            "gridcolor": "white",
            "linecolor": "white",
            "ticks": ""
           },
           "bgcolor": "#E5ECF6",
           "caxis": {
            "gridcolor": "white",
            "linecolor": "white",
            "ticks": ""
           }
          },
          "title": {
           "x": 0.05
          },
          "xaxis": {
           "automargin": true,
           "gridcolor": "white",
           "linecolor": "white",
           "ticks": "",
           "title": {
            "standoff": 15
           },
           "zerolinecolor": "white",
           "zerolinewidth": 2
          },
          "yaxis": {
           "automargin": true,
           "gridcolor": "white",
           "linecolor": "white",
           "ticks": "",
           "title": {
            "standoff": 15
           },
           "zerolinecolor": "white",
           "zerolinewidth": 2
          }
         }
        }
       }
      },
      "text/html": [
       "<div>                            <div id=\"cc9541eb-7e7b-4702-899c-4d8093bdc30a\" class=\"plotly-graph-div\" style=\"height:525px; width:100%;\"></div>            <script type=\"text/javascript\">                require([\"plotly\"], function(Plotly) {                    window.PLOTLYENV=window.PLOTLYENV || {};                                    if (document.getElementById(\"cc9541eb-7e7b-4702-899c-4d8093bdc30a\")) {                    Plotly.newPlot(                        \"cc9541eb-7e7b-4702-899c-4d8093bdc30a\",                        [{\"line\": {\"width\": 2}, \"mode\": \"lines\", \"type\": \"scatter\", \"uid\": \"0c399a5b-97fb-41ae-92d2-88465f80a3ce\", \"y\": [0.9403060047565578, 0.3131815524844883, 0.18670593778155697, 0.07290205260462468, 0.5344761057394016, 0.34387158699004194, 0.19200631444731897, 0.9415218444399923, 0.32797198979313824, 0.8662657260601578, 0.53371082132411, 0.28705376320668874, 0.24550838520334106, 0.03433431324711944, 0.6505877040926489, 0.3627045707117106, 0.14686335839124864, 0.9272435357891592, 0.8694216005774761, 0.9182155960685668, 0.7269732108501302, 0.09039559547889131, 0.4705205132555731, 0.09894173755965963, 0.42479087316724984, 0.16106336783916664, 0.23245077545584114, 0.21135351814367087, 0.7412628743734309, 0.16535029555117042, 0.8109325276032309, 0.09297424194374704, 0.6487915763464093, 0.7152782348980005, 0.8701463532839147, 0.8079379412843474, 0.25562663120758955, 0.24385232463770667, 0.49121747186275866, 0.8792568657829213, 0.9406290687097772, 0.28597397223063803, 0.23577202035998923, 0.7986090229250129, 0.1236491804363814, 0.8070789214459831, 0.40670078611387517, 0.3707541122629203, 0.7834047133299709, 0.8881326233920995, 0.7719035497799874, 0.7436285024955327, 0.3575303983635413, 0.18911753484135385, 0.7456292784682934, 0.23502967809712627, 0.29775145587860063, 0.6768580427054852, 0.03871153183428777, 0.9826820733565043, 0.3212061077717071, 0.01699416327897496, 0.699751186387358, 0.7333612930754142, 0.04887554110609327, 0.5285053126719262, 0.17747397210363403, 0.4066218330706117, 0.47891666202207417, 0.6531801635823367, 0.6487736170276147, 0.8641463910400476, 0.9207315072931376, 0.8885445269680665, 0.5657088023541075, 0.06589974534304321, 0.032633374607581644, 0.3619901136859808, 0.36204789708015495, 0.8206534649688563, 0.7261243672616041, 0.9091140349463596, 0.12829105790997608, 0.3202485872962527, 0.8753637111202284, 0.5580477086900638, 0.15737411442071936, 0.6096813465543349, 0.32803750726656866, 0.25414377263975374, 0.995407395914632, 0.5999475911544743, 0.18011928679239464, 0.3490333834160422, 0.47223841525221044, 0.8842482148092936, 0.10231313128297337, 0.6853463506306839, 0.9461356292003714, 0.8817916353676146]}, {\"line\": {\"width\": 2}, \"mode\": \"lines\", \"type\": \"scatter\", \"uid\": \"e5126bf7-9d83-4644-bf9e-55eacdbd5133\", \"y\": [0.8889847002248702, 0.6001505421451123, 1.2089182668441865, 0.7177536023703486, 0.5356817326350197, 0.5980983673578569, 1.0142860911482143, 0.8171549760133937, 0.5452886965778208, 1.1064207826074746, 0.5485941552636682, 0.8991436388022, 1.3038939609840114, 1.4952337911285631, 0.7259133602808931, 0.5719972331196741, 0.5255121529544895, 1.2038509480624757, 1.3959147144398814, 1.2291360305990735, 1.0566762846350946, 1.3024809582211534, 0.8405153676571836, 1.3525921162282528, 0.7678604391657411, 1.484702324533679, 1.2673906881138235, 1.3913840161996214, 1.2369275157785848, 0.9850927688820151, 1.3230306274248642, 1.3483164454766974, 1.075850468047374, 0.911892538621683, 1.494957703878669, 1.21033146720184, 1.1480742823554175, 0.8062500569643014, 1.383927399062821, 1.4055969732643354, 0.5060476989740285, 0.9296815043603657, 0.8157753460791317, 1.0334682498897623, 0.7211489754339238, 1.316063794246053, 0.5836853281005729, 1.0834831072359767, 1.4146882817697792, 0.7043038356080726, 1.289102903507985, 1.2785050973750702, 0.9314590817508464, 0.9209235758278076, 0.6106947775767472, 1.3753100459887673, 0.9154873118412467, 1.2779525191213743, 0.7521518171542758, 0.5904198706968611, 1.4254403481888533, 1.0625905070196893, 0.9296850048298597, 1.3621536387854292, 0.9483553118606247, 0.5248075717419326, 1.3895449852256276, 1.1592109055129245, 1.3525990471018474, 0.7342462414370758, 1.4152483884146307, 1.0015422603056277, 0.9379711150228662, 0.6569902221224094, 1.1227666625045987, 1.4165885128490916, 1.305269104016744, 0.8266531185428077, 1.4080744574359922, 0.6125931641449279, 0.5804204159787298, 1.1706681509774866, 1.0598042221646207, 1.2687113193824358, 1.1778065670761246, 1.1195641363185391, 1.1236263795296701, 0.851725835024788, 0.607486121397916, 1.3582750801297592, 1.4469686547207528, 1.2297258801101827, 0.843125002222947, 0.8909896334153531, 1.3728211770539327, 0.9358026442802972, 0.8791412222223003, 1.4828741822895732, 1.0378018645454268, 0.6988161179662632]}, {\"line\": {\"width\": 2}, \"mode\": \"lines\", \"type\": \"scatter\", \"uid\": \"966003c6-e277-4e82-9cc5-a0e3606935cb\", \"y\": [1.5289749758386848, 1.1208237723158785, 1.9591058877744367, 1.6568434006193637, 1.7018930069228002, 1.7595049810992407, 1.0963043795397265, 1.6414609022014774, 1.9018760525421343, 1.0650329854244829, 1.2327136843409074, 1.357363101456865, 1.2652068892912514, 1.690040843056297, 1.958233183610322, 1.9348164530917678, 1.908482112897868, 1.4617028439062691, 1.656970905349179, 1.8268273112645403, 1.8431698005816899, 1.2813933522614365, 1.782858698169225, 1.5880884384091605, 1.1355775187277306, 1.5883427372468177, 1.5919695934073945, 1.1529078408298479, 1.5720170189280802, 1.3220318814950094, 1.0117046959070217, 1.6101461514741184, 1.99091541524862, 1.0963739741305014, 1.4007788876058833, 1.7679486813779182, 1.7724973943148303, 1.2532626640308435, 1.851024743282237, 1.2275994665346919, 1.1794511143127848, 1.1496155404462216, 1.9307492419333623, 1.5189081199633274, 1.0074184211980484, 1.4936957243843114, 1.2610841144899836, 1.945468921270007, 1.8730183707203345, 1.9304894371116539, 1.7195689628829034, 1.4469728581005439, 1.9328041487626542, 1.3456054233930472, 1.9482098216385921, 1.0247361530283134, 1.5062273702719162, 1.8490427159526064, 1.4134411692876903, 1.8062541467135418, 1.0884761020276845, 1.7296557526353176, 1.452814879298746, 1.7401784844145605, 1.4084795791371096, 1.145148969178768, 1.9274674349214616, 1.4070671625580062, 1.3080177610394932, 1.643430923990071, 1.074243864071891, 1.0673564705058047, 1.8868602446924039, 1.5577319992169967, 1.9723090325074528, 1.2511659311891012, 1.9125121226495787, 1.7726323761626381, 1.2892151719645486, 1.887618054038604, 1.5824344515248943, 1.0877319045108356, 1.2500200519659435, 1.1679817208296885, 1.8817796698076337, 1.7783601722129694, 1.3624830307868079, 1.0059384353439116, 1.6834811996907617, 1.8985487422778566, 1.172950460521311, 1.8230743666282423, 1.2957988786442787, 1.432462207522009, 1.0310490432736317, 1.7841093386607925, 1.8495322541327508, 1.5975592101029632, 1.9933861811299347, 1.6654384519102343]}, {\"line\": {\"width\": 2}, \"mode\": \"lines\", \"type\": \"scatter\", \"uid\": \"e90fc068-cc64-4991-ba80-15cb4e50ea6f\", \"y\": [2.128779283340888, 2.4015422918796956, 2.3812083668529382, 2.1629858411540193, 1.8723614250215137, 1.8847237446590066, 2.3150745711407663, 2.056545993809187, 1.6593387429494584, 1.9589852054065666, 1.9947512562342904, 2.163113299866302, 2.1106634735023295, 2.294329455914979, 2.2754488148927066, 1.8851438309055693, 2.3614382548468584, 1.6861985558781871, 2.16473457651174, 1.5266601237867246, 1.9098954284316987, 2.118930666147736, 1.9162889875775426, 1.5923720975755733, 2.212505178664296, 2.0951148791344294, 2.0552898177478367, 1.971303788366998, 1.6161508755989336, 1.9232267132495782, 1.700472624648512, 1.7316776134488585, 1.5196496648579056, 1.96763568900438, 2.341693419534245, 2.2002937801224327, 1.6671003497307693, 1.6899039569356997, 1.916443326367475, 1.5982571912303547, 2.1203267901894827, 1.7685563296573221, 1.798533716213411, 2.077876009645148, 1.9507726243772805, 1.9139299854320575, 1.826308248526458, 2.3851133084900216, 1.627231239548121, 2.4976907900943015, 1.8818582827497794, 2.198071936864863, 2.065708253975086, 2.1767149046113623, 2.4776536482459686, 1.8865170525300505, 1.6916673817618921, 1.5288793730554995, 2.0125913208394097, 2.330672609701869, 2.2060466694998837, 1.7647176714343848, 1.7938051337520156, 1.7083030685730693, 2.04546187116597, 2.306809848528172, 1.8907670474331746, 2.2454805049052426, 1.7042320421895225, 1.907873784809368, 1.5810756002609878, 2.312600997495888, 2.482405557451351, 2.348953955591368, 1.5482432848345504, 2.4768701018363997, 2.4938517872672747, 2.0109693164572926, 2.0548488774132467, 2.2760913940169676, 2.4698026437993663, 1.5395070275968192, 2.245240742795568, 2.034134573374639, 1.956043299491725, 1.5381123183202123, 1.912126463352704, 1.7348446195076166, 2.123919761521469, 2.251141742526098, 1.5572255725761448, 2.1477939283855876, 2.0969472695416225, 2.3105735423489895, 2.1695852018990562, 2.447371215905673, 1.6720028122069208, 2.353166148961663, 1.8489633643738943, 2.2012239141642342]}, {\"line\": {\"width\": 2}, \"mode\": \"lines\", \"type\": \"scatter\", \"uid\": \"1e74d8a6-ffc3-493c-8c20-b5799b9ca221\", \"y\": [2.4940769538170495, 2.1879058862060177, 2.9595996835739378, 2.016095026540807, 2.100085135370268, 2.3727660318721093, 2.0210635589023105, 2.727615703876285, 2.296147908321687, 2.676016407822689, 2.106848450268678, 2.5249572984558997, 2.832964553361621, 2.7575711153423192, 2.8408034245368077, 2.464748725741764, 2.5849551025631277, 2.326881187264709, 2.373486393758016, 2.2809778789555386, 2.301233831970297, 2.571503704522605, 2.0000729692748296, 2.751222225948791, 2.680546641207944, 2.6162177574991965, 2.6445689907005177, 2.467147002345275, 2.606203786976497, 2.1676258779549307, 2.9176444507629764, 2.682583777512768, 2.598998880061775, 2.85594747405377, 2.5835292090169535, 2.38088930870353, 2.4638597661334027, 2.295039438087586, 2.9067217760286908, 2.7245170981962454, 2.211489285138032, 2.013409895572436, 2.8362746673320904, 2.2303718167040847, 2.35882575817549, 2.317481802510741, 2.029450213691974, 2.4725351427415156, 2.890808582257547, 2.616018626501326, 2.058513636463854, 2.7534183357610664, 2.020608063763304, 2.567469101728821, 2.2405707980018876, 2.006740900830872, 2.751029813301595, 2.9826609585943, 2.83978859790666, 2.019657854944679, 2.3011287798803424, 2.9047522978782956, 2.9146283902129837, 2.370939702153118, 2.6217612420725267, 2.5253367922676055, 2.2775321095864784, 2.819284072853655, 2.0769153776703657, 2.976462951963176, 2.2828180051158538, 2.862172545278365, 2.6876969264057053, 2.9537183965500176, 2.4897753764429718, 2.597559171280877, 2.353219756776597, 2.324505843712498, 2.978243736742744, 2.5946600181918664, 2.8934102641019863, 2.6974146925944975, 2.3326182147623262, 2.0398560426721737, 2.620739678984047, 2.72828551954402, 2.6243353757527546, 2.1472963605217865, 2.21371106835105, 2.1161464041998332, 2.9334221083527536, 2.2465770145543944, 2.041977794365184, 2.5203438589030887, 2.9748145973313997, 2.1065404720977305, 2.3924437092033233, 2.2157946850984187, 2.9052538054759296, 2.8004924353019267]}],                        {\"hoverdistance\": -1, \"hovermode\": \"closest\", \"template\": {\"data\": {\"bar\": [{\"error_x\": {\"color\": \"#2a3f5f\"}, \"error_y\": {\"color\": \"#2a3f5f\"}, \"marker\": {\"line\": {\"color\": \"#E5ECF6\", \"width\": 0.5}}, \"type\": \"bar\"}], \"barpolar\": [{\"marker\": {\"line\": {\"color\": \"#E5ECF6\", \"width\": 0.5}}, \"type\": \"barpolar\"}], \"carpet\": [{\"aaxis\": {\"endlinecolor\": \"#2a3f5f\", \"gridcolor\": \"white\", \"linecolor\": \"white\", \"minorgridcolor\": \"white\", \"startlinecolor\": \"#2a3f5f\"}, \"baxis\": {\"endlinecolor\": \"#2a3f5f\", \"gridcolor\": \"white\", \"linecolor\": \"white\", \"minorgridcolor\": \"white\", \"startlinecolor\": \"#2a3f5f\"}, \"type\": \"carpet\"}], \"choropleth\": [{\"colorbar\": {\"outlinewidth\": 0, \"ticks\": \"\"}, \"type\": \"choropleth\"}], \"contour\": [{\"colorbar\": {\"outlinewidth\": 0, \"ticks\": \"\"}, \"colorscale\": [[0.0, \"#0d0887\"], [0.1111111111111111, \"#46039f\"], [0.2222222222222222, \"#7201a8\"], [0.3333333333333333, \"#9c179e\"], [0.4444444444444444, \"#bd3786\"], [0.5555555555555556, \"#d8576b\"], [0.6666666666666666, \"#ed7953\"], [0.7777777777777778, \"#fb9f3a\"], [0.8888888888888888, \"#fdca26\"], [1.0, \"#f0f921\"]], \"type\": \"contour\"}], \"contourcarpet\": [{\"colorbar\": {\"outlinewidth\": 0, \"ticks\": \"\"}, \"type\": \"contourcarpet\"}], \"heatmap\": [{\"colorbar\": {\"outlinewidth\": 0, \"ticks\": \"\"}, \"colorscale\": [[0.0, \"#0d0887\"], [0.1111111111111111, \"#46039f\"], [0.2222222222222222, \"#7201a8\"], [0.3333333333333333, \"#9c179e\"], [0.4444444444444444, \"#bd3786\"], [0.5555555555555556, \"#d8576b\"], [0.6666666666666666, \"#ed7953\"], [0.7777777777777778, \"#fb9f3a\"], [0.8888888888888888, \"#fdca26\"], [1.0, \"#f0f921\"]], \"type\": \"heatmap\"}], \"heatmapgl\": [{\"colorbar\": {\"outlinewidth\": 0, \"ticks\": \"\"}, \"colorscale\": [[0.0, \"#0d0887\"], [0.1111111111111111, \"#46039f\"], [0.2222222222222222, \"#7201a8\"], [0.3333333333333333, \"#9c179e\"], [0.4444444444444444, \"#bd3786\"], [0.5555555555555556, \"#d8576b\"], [0.6666666666666666, \"#ed7953\"], [0.7777777777777778, \"#fb9f3a\"], [0.8888888888888888, \"#fdca26\"], [1.0, \"#f0f921\"]], \"type\": \"heatmapgl\"}], \"histogram\": [{\"marker\": {\"colorbar\": {\"outlinewidth\": 0, \"ticks\": \"\"}}, \"type\": \"histogram\"}], \"histogram2d\": [{\"colorbar\": {\"outlinewidth\": 0, \"ticks\": \"\"}, \"colorscale\": [[0.0, \"#0d0887\"], [0.1111111111111111, \"#46039f\"], [0.2222222222222222, \"#7201a8\"], [0.3333333333333333, \"#9c179e\"], [0.4444444444444444, \"#bd3786\"], [0.5555555555555556, \"#d8576b\"], [0.6666666666666666, \"#ed7953\"], [0.7777777777777778, \"#fb9f3a\"], [0.8888888888888888, \"#fdca26\"], [1.0, \"#f0f921\"]], \"type\": \"histogram2d\"}], \"histogram2dcontour\": [{\"colorbar\": {\"outlinewidth\": 0, \"ticks\": \"\"}, \"colorscale\": [[0.0, \"#0d0887\"], [0.1111111111111111, \"#46039f\"], [0.2222222222222222, \"#7201a8\"], [0.3333333333333333, \"#9c179e\"], [0.4444444444444444, \"#bd3786\"], [0.5555555555555556, \"#d8576b\"], [0.6666666666666666, \"#ed7953\"], [0.7777777777777778, \"#fb9f3a\"], [0.8888888888888888, \"#fdca26\"], [1.0, \"#f0f921\"]], \"type\": \"histogram2dcontour\"}], \"mesh3d\": [{\"colorbar\": {\"outlinewidth\": 0, \"ticks\": \"\"}, \"type\": \"mesh3d\"}], \"parcoords\": [{\"line\": {\"colorbar\": {\"outlinewidth\": 0, \"ticks\": \"\"}}, \"type\": \"parcoords\"}], \"pie\": [{\"automargin\": true, \"type\": \"pie\"}], \"scatter\": [{\"marker\": {\"colorbar\": {\"outlinewidth\": 0, \"ticks\": \"\"}}, \"type\": \"scatter\"}], \"scatter3d\": [{\"line\": {\"colorbar\": {\"outlinewidth\": 0, \"ticks\": \"\"}}, \"marker\": {\"colorbar\": {\"outlinewidth\": 0, \"ticks\": \"\"}}, \"type\": \"scatter3d\"}], \"scattercarpet\": [{\"marker\": {\"colorbar\": {\"outlinewidth\": 0, \"ticks\": \"\"}}, \"type\": \"scattercarpet\"}], \"scattergeo\": [{\"marker\": {\"colorbar\": {\"outlinewidth\": 0, \"ticks\": \"\"}}, \"type\": \"scattergeo\"}], \"scattergl\": [{\"marker\": {\"colorbar\": {\"outlinewidth\": 0, \"ticks\": \"\"}}, \"type\": \"scattergl\"}], \"scattermapbox\": [{\"marker\": {\"colorbar\": {\"outlinewidth\": 0, \"ticks\": \"\"}}, \"type\": \"scattermapbox\"}], \"scatterpolar\": [{\"marker\": {\"colorbar\": {\"outlinewidth\": 0, \"ticks\": \"\"}}, \"type\": \"scatterpolar\"}], \"scatterpolargl\": [{\"marker\": {\"colorbar\": {\"outlinewidth\": 0, \"ticks\": \"\"}}, \"type\": \"scatterpolargl\"}], \"scatterternary\": [{\"marker\": {\"colorbar\": {\"outlinewidth\": 0, \"ticks\": \"\"}}, \"type\": \"scatterternary\"}], \"surface\": [{\"colorbar\": {\"outlinewidth\": 0, \"ticks\": \"\"}, \"colorscale\": [[0.0, \"#0d0887\"], [0.1111111111111111, \"#46039f\"], [0.2222222222222222, \"#7201a8\"], [0.3333333333333333, \"#9c179e\"], [0.4444444444444444, \"#bd3786\"], [0.5555555555555556, \"#d8576b\"], [0.6666666666666666, \"#ed7953\"], [0.7777777777777778, \"#fb9f3a\"], [0.8888888888888888, \"#fdca26\"], [1.0, \"#f0f921\"]], \"type\": \"surface\"}], \"table\": [{\"cells\": {\"fill\": {\"color\": \"#EBF0F8\"}, \"line\": {\"color\": \"white\"}}, \"header\": {\"fill\": {\"color\": \"#C8D4E3\"}, \"line\": {\"color\": \"white\"}}, \"type\": \"table\"}]}, \"layout\": {\"annotationdefaults\": {\"arrowcolor\": \"#2a3f5f\", \"arrowhead\": 0, \"arrowwidth\": 1}, \"autotypenumbers\": \"strict\", \"coloraxis\": {\"colorbar\": {\"outlinewidth\": 0, \"ticks\": \"\"}}, \"colorscale\": {\"diverging\": [[0, \"#8e0152\"], [0.1, \"#c51b7d\"], [0.2, \"#de77ae\"], [0.3, \"#f1b6da\"], [0.4, \"#fde0ef\"], [0.5, \"#f7f7f7\"], [0.6, \"#e6f5d0\"], [0.7, \"#b8e186\"], [0.8, \"#7fbc41\"], [0.9, \"#4d9221\"], [1, \"#276419\"]], \"sequential\": [[0.0, \"#0d0887\"], [0.1111111111111111, \"#46039f\"], [0.2222222222222222, \"#7201a8\"], [0.3333333333333333, \"#9c179e\"], [0.4444444444444444, \"#bd3786\"], [0.5555555555555556, \"#d8576b\"], [0.6666666666666666, \"#ed7953\"], [0.7777777777777778, \"#fb9f3a\"], [0.8888888888888888, \"#fdca26\"], [1.0, \"#f0f921\"]], \"sequentialminus\": [[0.0, \"#0d0887\"], [0.1111111111111111, \"#46039f\"], [0.2222222222222222, \"#7201a8\"], [0.3333333333333333, \"#9c179e\"], [0.4444444444444444, \"#bd3786\"], [0.5555555555555556, \"#d8576b\"], [0.6666666666666666, \"#ed7953\"], [0.7777777777777778, \"#fb9f3a\"], [0.8888888888888888, \"#fdca26\"], [1.0, \"#f0f921\"]]}, \"colorway\": [\"#636efa\", \"#EF553B\", \"#00cc96\", \"#ab63fa\", \"#FFA15A\", \"#19d3f3\", \"#FF6692\", \"#B6E880\", \"#FF97FF\", \"#FECB52\"], \"font\": {\"color\": \"#2a3f5f\"}, \"geo\": {\"bgcolor\": \"white\", \"lakecolor\": \"white\", \"landcolor\": \"#E5ECF6\", \"showlakes\": true, \"showland\": true, \"subunitcolor\": \"white\"}, \"hoverlabel\": {\"align\": \"left\"}, \"hovermode\": \"closest\", \"mapbox\": {\"style\": \"light\"}, \"paper_bgcolor\": \"white\", \"plot_bgcolor\": \"#E5ECF6\", \"polar\": {\"angularaxis\": {\"gridcolor\": \"white\", \"linecolor\": \"white\", \"ticks\": \"\"}, \"bgcolor\": \"#E5ECF6\", \"radialaxis\": {\"gridcolor\": \"white\", \"linecolor\": \"white\", \"ticks\": \"\"}}, \"scene\": {\"xaxis\": {\"backgroundcolor\": \"#E5ECF6\", \"gridcolor\": \"white\", \"gridwidth\": 2, \"linecolor\": \"white\", \"showbackground\": true, \"ticks\": \"\", \"zerolinecolor\": \"white\"}, \"yaxis\": {\"backgroundcolor\": \"#E5ECF6\", \"gridcolor\": \"white\", \"gridwidth\": 2, \"linecolor\": \"white\", \"showbackground\": true, \"ticks\": \"\", \"zerolinecolor\": \"white\"}, \"zaxis\": {\"backgroundcolor\": \"#E5ECF6\", \"gridcolor\": \"white\", \"gridwidth\": 2, \"linecolor\": \"white\", \"showbackground\": true, \"ticks\": \"\", \"zerolinecolor\": \"white\"}}, \"shapedefaults\": {\"line\": {\"color\": \"#2a3f5f\"}}, \"ternary\": {\"aaxis\": {\"gridcolor\": \"white\", \"linecolor\": \"white\", \"ticks\": \"\"}, \"baxis\": {\"gridcolor\": \"white\", \"linecolor\": \"white\", \"ticks\": \"\"}, \"bgcolor\": \"#E5ECF6\", \"caxis\": {\"gridcolor\": \"white\", \"linecolor\": \"white\", \"ticks\": \"\"}}, \"title\": {\"x\": 0.05}, \"xaxis\": {\"automargin\": true, \"gridcolor\": \"white\", \"linecolor\": \"white\", \"ticks\": \"\", \"title\": {\"standoff\": 15}, \"zerolinecolor\": \"white\", \"zerolinewidth\": 2}, \"yaxis\": {\"automargin\": true, \"gridcolor\": \"white\", \"linecolor\": \"white\", \"ticks\": \"\", \"title\": {\"standoff\": 15}, \"zerolinecolor\": \"white\", \"zerolinewidth\": 2}}}},                        {\"responsive\": true}                    ).then(function(){\n",
       "                            \n",
       "var gd = document.getElementById('cc9541eb-7e7b-4702-899c-4d8093bdc30a');\n",
       "var x = new MutationObserver(function (mutations, observer) {{\n",
       "        var display = window.getComputedStyle(gd).display;\n",
       "        if (!display || display === 'none') {{\n",
       "            console.log([gd, 'removed!']);\n",
       "            Plotly.purge(gd);\n",
       "            observer.disconnect();\n",
       "        }}\n",
       "}});\n",
       "\n",
       "// Listen for the removal of the full notebook cells\n",
       "var notebookContainer = gd.closest('#notebook-container');\n",
       "if (notebookContainer) {{\n",
       "    x.observe(notebookContainer, {childList: true});\n",
       "}}\n",
       "\n",
       "// Listen for the clearing of the current output cell\n",
       "var outputEl = gd.closest('.output');\n",
       "if (outputEl) {{\n",
       "    x.observe(outputEl, {childList: true});\n",
       "}}\n",
       "\n",
       "                        })                };                });            </script>        </div>"
      ]
     },
     "metadata": {},
     "output_type": "display_data"
    }
   ],
   "source": [
    "import plotly.graph_objs as go\n",
    "import random\n",
    "\n",
    "f = go.FigureWidget()\n",
    "f.layout.hovermode = 'closest'\n",
    "f.layout.hoverdistance = -1 #ensures no \"gaps\" for selecting sparse data\n",
    "default_linewidth = 2\n",
    "highlighted_linewidth_delta = 2\n",
    "\n",
    "# just some traces with random data points  \n",
    "num_of_traces = 5\n",
    "random.seed = 42\n",
    "for i in range(num_of_traces):\n",
    "    y = [random.random() + i / 2 for _ in range(100)]\n",
    "    trace = go.Scatter(y=y, mode='lines', line={ 'width': default_linewidth })\n",
    "    f.add_trace(trace)\n",
    "\n",
    "# our custom event handler\n",
    "def update_trace(trace, points, selector):\n",
    "    # this list stores the points which were clicked on\n",
    "    # in all but one trace they are empty\n",
    "    if len(points.point_inds) == 0:\n",
    "        return\n",
    "        \n",
    "    for i,_ in enumerate(f.data):\n",
    "        f.data[i]['line']['width'] = default_linewidth + highlighted_linewidth_delta * (i == points.trace_index)\n",
    "\n",
    "\n",
    "# we need to add the on_click event to each trace separately       \n",
    "for i in range( len(f.data) ):\n",
    "    f.data[i].on_click(update_trace)\n",
    "\n",
    "# let's show the figure \n",
    "f.show()"
   ]
  },
  {
   "cell_type": "code",
   "execution_count": 83,
   "metadata": {},
   "outputs": [
    {
     "ename": "ValueError",
     "evalue": "Image size of 93385x84961 pixels is too large. It must be less than 2^16 in each direction.",
     "output_type": "error",
     "traceback": [
      "\u001b[0;31m---------------------------------------------------------------------------\u001b[0m",
      "\u001b[0;31mValueError\u001b[0m                                Traceback (most recent call last)",
      "\u001b[0;32m/usr/local/lib/python3.8/dist-packages/IPython/core/formatters.py\u001b[0m in \u001b[0;36m__call__\u001b[0;34m(self, obj)\u001b[0m\n\u001b[1;32m    339\u001b[0m                 \u001b[0;32mpass\u001b[0m\u001b[0;34m\u001b[0m\u001b[0;34m\u001b[0m\u001b[0m\n\u001b[1;32m    340\u001b[0m             \u001b[0;32melse\u001b[0m\u001b[0;34m:\u001b[0m\u001b[0;34m\u001b[0m\u001b[0;34m\u001b[0m\u001b[0m\n\u001b[0;32m--> 341\u001b[0;31m                 \u001b[0;32mreturn\u001b[0m \u001b[0mprinter\u001b[0m\u001b[0;34m(\u001b[0m\u001b[0mobj\u001b[0m\u001b[0;34m)\u001b[0m\u001b[0;34m\u001b[0m\u001b[0;34m\u001b[0m\u001b[0m\n\u001b[0m\u001b[1;32m    342\u001b[0m             \u001b[0;31m# Finally look for special method names\u001b[0m\u001b[0;34m\u001b[0m\u001b[0;34m\u001b[0m\u001b[0;34m\u001b[0m\u001b[0m\n\u001b[1;32m    343\u001b[0m             \u001b[0mmethod\u001b[0m \u001b[0;34m=\u001b[0m \u001b[0mget_real_method\u001b[0m\u001b[0;34m(\u001b[0m\u001b[0mobj\u001b[0m\u001b[0;34m,\u001b[0m \u001b[0mself\u001b[0m\u001b[0;34m.\u001b[0m\u001b[0mprint_method\u001b[0m\u001b[0;34m)\u001b[0m\u001b[0;34m\u001b[0m\u001b[0;34m\u001b[0m\u001b[0m\n",
      "\u001b[0;32m/usr/local/lib/python3.8/dist-packages/IPython/core/pylabtools.py\u001b[0m in \u001b[0;36m<lambda>\u001b[0;34m(fig)\u001b[0m\n\u001b[1;32m    246\u001b[0m \u001b[0;34m\u001b[0m\u001b[0m\n\u001b[1;32m    247\u001b[0m     \u001b[0;32mif\u001b[0m \u001b[0;34m'png'\u001b[0m \u001b[0;32min\u001b[0m \u001b[0mformats\u001b[0m\u001b[0;34m:\u001b[0m\u001b[0;34m\u001b[0m\u001b[0;34m\u001b[0m\u001b[0m\n\u001b[0;32m--> 248\u001b[0;31m         \u001b[0mpng_formatter\u001b[0m\u001b[0;34m.\u001b[0m\u001b[0mfor_type\u001b[0m\u001b[0;34m(\u001b[0m\u001b[0mFigure\u001b[0m\u001b[0;34m,\u001b[0m \u001b[0;32mlambda\u001b[0m \u001b[0mfig\u001b[0m\u001b[0;34m:\u001b[0m \u001b[0mprint_figure\u001b[0m\u001b[0;34m(\u001b[0m\u001b[0mfig\u001b[0m\u001b[0;34m,\u001b[0m \u001b[0;34m'png'\u001b[0m\u001b[0;34m,\u001b[0m \u001b[0;34m**\u001b[0m\u001b[0mkwargs\u001b[0m\u001b[0;34m)\u001b[0m\u001b[0;34m)\u001b[0m\u001b[0;34m\u001b[0m\u001b[0;34m\u001b[0m\u001b[0m\n\u001b[0m\u001b[1;32m    249\u001b[0m     \u001b[0;32mif\u001b[0m \u001b[0;34m'retina'\u001b[0m \u001b[0;32min\u001b[0m \u001b[0mformats\u001b[0m \u001b[0;32mor\u001b[0m \u001b[0;34m'png2x'\u001b[0m \u001b[0;32min\u001b[0m \u001b[0mformats\u001b[0m\u001b[0;34m:\u001b[0m\u001b[0;34m\u001b[0m\u001b[0;34m\u001b[0m\u001b[0m\n\u001b[1;32m    250\u001b[0m         \u001b[0mpng_formatter\u001b[0m\u001b[0;34m.\u001b[0m\u001b[0mfor_type\u001b[0m\u001b[0;34m(\u001b[0m\u001b[0mFigure\u001b[0m\u001b[0;34m,\u001b[0m \u001b[0;32mlambda\u001b[0m \u001b[0mfig\u001b[0m\u001b[0;34m:\u001b[0m \u001b[0mretina_figure\u001b[0m\u001b[0;34m(\u001b[0m\u001b[0mfig\u001b[0m\u001b[0;34m,\u001b[0m \u001b[0;34m**\u001b[0m\u001b[0mkwargs\u001b[0m\u001b[0;34m)\u001b[0m\u001b[0;34m)\u001b[0m\u001b[0;34m\u001b[0m\u001b[0;34m\u001b[0m\u001b[0m\n",
      "\u001b[0;32m/usr/local/lib/python3.8/dist-packages/IPython/core/pylabtools.py\u001b[0m in \u001b[0;36mprint_figure\u001b[0;34m(fig, fmt, bbox_inches, **kwargs)\u001b[0m\n\u001b[1;32m    130\u001b[0m         \u001b[0mFigureCanvasBase\u001b[0m\u001b[0;34m(\u001b[0m\u001b[0mfig\u001b[0m\u001b[0;34m)\u001b[0m\u001b[0;34m\u001b[0m\u001b[0;34m\u001b[0m\u001b[0m\n\u001b[1;32m    131\u001b[0m \u001b[0;34m\u001b[0m\u001b[0m\n\u001b[0;32m--> 132\u001b[0;31m     \u001b[0mfig\u001b[0m\u001b[0;34m.\u001b[0m\u001b[0mcanvas\u001b[0m\u001b[0;34m.\u001b[0m\u001b[0mprint_figure\u001b[0m\u001b[0;34m(\u001b[0m\u001b[0mbytes_io\u001b[0m\u001b[0;34m,\u001b[0m \u001b[0;34m**\u001b[0m\u001b[0mkw\u001b[0m\u001b[0;34m)\u001b[0m\u001b[0;34m\u001b[0m\u001b[0;34m\u001b[0m\u001b[0m\n\u001b[0m\u001b[1;32m    133\u001b[0m     \u001b[0mdata\u001b[0m \u001b[0;34m=\u001b[0m \u001b[0mbytes_io\u001b[0m\u001b[0;34m.\u001b[0m\u001b[0mgetvalue\u001b[0m\u001b[0;34m(\u001b[0m\u001b[0;34m)\u001b[0m\u001b[0;34m\u001b[0m\u001b[0;34m\u001b[0m\u001b[0m\n\u001b[1;32m    134\u001b[0m     \u001b[0;32mif\u001b[0m \u001b[0mfmt\u001b[0m \u001b[0;34m==\u001b[0m \u001b[0;34m'svg'\u001b[0m\u001b[0;34m:\u001b[0m\u001b[0;34m\u001b[0m\u001b[0;34m\u001b[0m\u001b[0m\n",
      "\u001b[0;32m/usr/local/lib/python3.8/dist-packages/matplotlib/backend_bases.py\u001b[0m in \u001b[0;36mprint_figure\u001b[0;34m(self, filename, dpi, facecolor, edgecolor, orientation, format, bbox_inches, pad_inches, bbox_extra_artists, backend, **kwargs)\u001b[0m\n\u001b[1;32m   2208\u001b[0m \u001b[0;34m\u001b[0m\u001b[0m\n\u001b[1;32m   2209\u001b[0m             \u001b[0;32mtry\u001b[0m\u001b[0;34m:\u001b[0m\u001b[0;34m\u001b[0m\u001b[0;34m\u001b[0m\u001b[0m\n\u001b[0;32m-> 2210\u001b[0;31m                 result = print_method(\n\u001b[0m\u001b[1;32m   2211\u001b[0m                     \u001b[0mfilename\u001b[0m\u001b[0;34m,\u001b[0m\u001b[0;34m\u001b[0m\u001b[0;34m\u001b[0m\u001b[0m\n\u001b[1;32m   2212\u001b[0m                     \u001b[0mdpi\u001b[0m\u001b[0;34m=\u001b[0m\u001b[0mdpi\u001b[0m\u001b[0;34m,\u001b[0m\u001b[0;34m\u001b[0m\u001b[0;34m\u001b[0m\u001b[0m\n",
      "\u001b[0;32m/usr/local/lib/python3.8/dist-packages/matplotlib/backend_bases.py\u001b[0m in \u001b[0;36mwrapper\u001b[0;34m(*args, **kwargs)\u001b[0m\n\u001b[1;32m   1637\u001b[0m             \u001b[0mkwargs\u001b[0m\u001b[0;34m.\u001b[0m\u001b[0mpop\u001b[0m\u001b[0;34m(\u001b[0m\u001b[0marg\u001b[0m\u001b[0;34m)\u001b[0m\u001b[0;34m\u001b[0m\u001b[0;34m\u001b[0m\u001b[0m\n\u001b[1;32m   1638\u001b[0m \u001b[0;34m\u001b[0m\u001b[0m\n\u001b[0;32m-> 1639\u001b[0;31m         \u001b[0;32mreturn\u001b[0m \u001b[0mfunc\u001b[0m\u001b[0;34m(\u001b[0m\u001b[0;34m*\u001b[0m\u001b[0margs\u001b[0m\u001b[0;34m,\u001b[0m \u001b[0;34m**\u001b[0m\u001b[0mkwargs\u001b[0m\u001b[0;34m)\u001b[0m\u001b[0;34m\u001b[0m\u001b[0;34m\u001b[0m\u001b[0m\n\u001b[0m\u001b[1;32m   1640\u001b[0m \u001b[0;34m\u001b[0m\u001b[0m\n\u001b[1;32m   1641\u001b[0m     \u001b[0;32mreturn\u001b[0m \u001b[0mwrapper\u001b[0m\u001b[0;34m\u001b[0m\u001b[0;34m\u001b[0m\u001b[0m\n",
      "\u001b[0;32m/usr/local/lib/python3.8/dist-packages/matplotlib/backends/backend_agg.py\u001b[0m in \u001b[0;36mprint_png\u001b[0;34m(self, filename_or_obj, metadata, pil_kwargs, *args)\u001b[0m\n\u001b[1;32m    507\u001b[0m             \u001b[0;34m*\u001b[0m\u001b[0mmetadata\u001b[0m\u001b[0;34m*\u001b[0m\u001b[0;34m,\u001b[0m \u001b[0mincluding\u001b[0m \u001b[0mthe\u001b[0m \u001b[0mdefault\u001b[0m \u001b[0;34m'Software'\u001b[0m \u001b[0mkey\u001b[0m\u001b[0;34m.\u001b[0m\u001b[0;34m\u001b[0m\u001b[0;34m\u001b[0m\u001b[0m\n\u001b[1;32m    508\u001b[0m         \"\"\"\n\u001b[0;32m--> 509\u001b[0;31m         \u001b[0mFigureCanvasAgg\u001b[0m\u001b[0;34m.\u001b[0m\u001b[0mdraw\u001b[0m\u001b[0;34m(\u001b[0m\u001b[0mself\u001b[0m\u001b[0;34m)\u001b[0m\u001b[0;34m\u001b[0m\u001b[0;34m\u001b[0m\u001b[0m\n\u001b[0m\u001b[1;32m    510\u001b[0m         mpl.image.imsave(\n\u001b[1;32m    511\u001b[0m             \u001b[0mfilename_or_obj\u001b[0m\u001b[0;34m,\u001b[0m \u001b[0mself\u001b[0m\u001b[0;34m.\u001b[0m\u001b[0mbuffer_rgba\u001b[0m\u001b[0;34m(\u001b[0m\u001b[0;34m)\u001b[0m\u001b[0;34m,\u001b[0m \u001b[0mformat\u001b[0m\u001b[0;34m=\u001b[0m\u001b[0;34m\"png\"\u001b[0m\u001b[0;34m,\u001b[0m \u001b[0morigin\u001b[0m\u001b[0;34m=\u001b[0m\u001b[0;34m\"upper\"\u001b[0m\u001b[0;34m,\u001b[0m\u001b[0;34m\u001b[0m\u001b[0;34m\u001b[0m\u001b[0m\n",
      "\u001b[0;32m/usr/local/lib/python3.8/dist-packages/matplotlib/backends/backend_agg.py\u001b[0m in \u001b[0;36mdraw\u001b[0;34m(self)\u001b[0m\n\u001b[1;32m    400\u001b[0m     \u001b[0;32mdef\u001b[0m \u001b[0mdraw\u001b[0m\u001b[0;34m(\u001b[0m\u001b[0mself\u001b[0m\u001b[0;34m)\u001b[0m\u001b[0;34m:\u001b[0m\u001b[0;34m\u001b[0m\u001b[0;34m\u001b[0m\u001b[0m\n\u001b[1;32m    401\u001b[0m         \u001b[0;31m# docstring inherited\u001b[0m\u001b[0;34m\u001b[0m\u001b[0;34m\u001b[0m\u001b[0;34m\u001b[0m\u001b[0m\n\u001b[0;32m--> 402\u001b[0;31m         \u001b[0mself\u001b[0m\u001b[0;34m.\u001b[0m\u001b[0mrenderer\u001b[0m \u001b[0;34m=\u001b[0m \u001b[0mself\u001b[0m\u001b[0;34m.\u001b[0m\u001b[0mget_renderer\u001b[0m\u001b[0;34m(\u001b[0m\u001b[0mcleared\u001b[0m\u001b[0;34m=\u001b[0m\u001b[0;32mTrue\u001b[0m\u001b[0;34m)\u001b[0m\u001b[0;34m\u001b[0m\u001b[0;34m\u001b[0m\u001b[0m\n\u001b[0m\u001b[1;32m    403\u001b[0m         \u001b[0;31m# Acquire a lock on the shared font cache.\u001b[0m\u001b[0;34m\u001b[0m\u001b[0;34m\u001b[0m\u001b[0;34m\u001b[0m\u001b[0m\n\u001b[1;32m    404\u001b[0m         \u001b[0;32mwith\u001b[0m \u001b[0mRendererAgg\u001b[0m\u001b[0;34m.\u001b[0m\u001b[0mlock\u001b[0m\u001b[0;34m,\u001b[0m\u001b[0;31m \u001b[0m\u001b[0;31m\\\u001b[0m\u001b[0;34m\u001b[0m\u001b[0;34m\u001b[0m\u001b[0m\n",
      "\u001b[0;32m/usr/local/lib/python3.8/dist-packages/matplotlib/backends/backend_agg.py\u001b[0m in \u001b[0;36mget_renderer\u001b[0;34m(self, cleared)\u001b[0m\n\u001b[1;32m    416\u001b[0m                           and getattr(self, \"_lastKey\", None) == key)\n\u001b[1;32m    417\u001b[0m         \u001b[0;32mif\u001b[0m \u001b[0;32mnot\u001b[0m \u001b[0mreuse_renderer\u001b[0m\u001b[0;34m:\u001b[0m\u001b[0;34m\u001b[0m\u001b[0;34m\u001b[0m\u001b[0m\n\u001b[0;32m--> 418\u001b[0;31m             \u001b[0mself\u001b[0m\u001b[0;34m.\u001b[0m\u001b[0mrenderer\u001b[0m \u001b[0;34m=\u001b[0m \u001b[0mRendererAgg\u001b[0m\u001b[0;34m(\u001b[0m\u001b[0mw\u001b[0m\u001b[0;34m,\u001b[0m \u001b[0mh\u001b[0m\u001b[0;34m,\u001b[0m \u001b[0mself\u001b[0m\u001b[0;34m.\u001b[0m\u001b[0mfigure\u001b[0m\u001b[0;34m.\u001b[0m\u001b[0mdpi\u001b[0m\u001b[0;34m)\u001b[0m\u001b[0;34m\u001b[0m\u001b[0;34m\u001b[0m\u001b[0m\n\u001b[0m\u001b[1;32m    419\u001b[0m             \u001b[0mself\u001b[0m\u001b[0;34m.\u001b[0m\u001b[0m_lastKey\u001b[0m \u001b[0;34m=\u001b[0m \u001b[0mkey\u001b[0m\u001b[0;34m\u001b[0m\u001b[0;34m\u001b[0m\u001b[0m\n\u001b[1;32m    420\u001b[0m         \u001b[0;32melif\u001b[0m \u001b[0mcleared\u001b[0m\u001b[0;34m:\u001b[0m\u001b[0;34m\u001b[0m\u001b[0;34m\u001b[0m\u001b[0m\n",
      "\u001b[0;32m/usr/local/lib/python3.8/dist-packages/matplotlib/backends/backend_agg.py\u001b[0m in \u001b[0;36m__init__\u001b[0;34m(self, width, height, dpi)\u001b[0m\n\u001b[1;32m     94\u001b[0m         \u001b[0mself\u001b[0m\u001b[0;34m.\u001b[0m\u001b[0mwidth\u001b[0m \u001b[0;34m=\u001b[0m \u001b[0mwidth\u001b[0m\u001b[0;34m\u001b[0m\u001b[0;34m\u001b[0m\u001b[0m\n\u001b[1;32m     95\u001b[0m         \u001b[0mself\u001b[0m\u001b[0;34m.\u001b[0m\u001b[0mheight\u001b[0m \u001b[0;34m=\u001b[0m \u001b[0mheight\u001b[0m\u001b[0;34m\u001b[0m\u001b[0;34m\u001b[0m\u001b[0m\n\u001b[0;32m---> 96\u001b[0;31m         \u001b[0mself\u001b[0m\u001b[0;34m.\u001b[0m\u001b[0m_renderer\u001b[0m \u001b[0;34m=\u001b[0m \u001b[0m_RendererAgg\u001b[0m\u001b[0;34m(\u001b[0m\u001b[0mint\u001b[0m\u001b[0;34m(\u001b[0m\u001b[0mwidth\u001b[0m\u001b[0;34m)\u001b[0m\u001b[0;34m,\u001b[0m \u001b[0mint\u001b[0m\u001b[0;34m(\u001b[0m\u001b[0mheight\u001b[0m\u001b[0;34m)\u001b[0m\u001b[0;34m,\u001b[0m \u001b[0mdpi\u001b[0m\u001b[0;34m)\u001b[0m\u001b[0;34m\u001b[0m\u001b[0;34m\u001b[0m\u001b[0m\n\u001b[0m\u001b[1;32m     97\u001b[0m         \u001b[0mself\u001b[0m\u001b[0;34m.\u001b[0m\u001b[0m_filter_renderers\u001b[0m \u001b[0;34m=\u001b[0m \u001b[0;34m[\u001b[0m\u001b[0;34m]\u001b[0m\u001b[0;34m\u001b[0m\u001b[0;34m\u001b[0m\u001b[0m\n\u001b[1;32m     98\u001b[0m \u001b[0;34m\u001b[0m\u001b[0m\n",
      "\u001b[0;31mValueError\u001b[0m: Image size of 93385x84961 pixels is too large. It must be less than 2^16 in each direction."
     ]
    },
    {
     "data": {
      "text/plain": [
       "<Figure size 1296x1296 with 1 Axes>"
      ]
     },
     "metadata": {
      "needs_background": "light"
     },
     "output_type": "display_data"
    },
    {
     "name": "stdout",
     "output_type": "stream",
     "text": [
      "CPU times: user 2min 42s, sys: 1.14 s, total: 2min 43s\n",
      "Wall time: 1min\n"
     ]
    }
   ],
   "source": [
    "%%time\n",
    "from matplotlib import pyplot as plt\n",
    "\n",
    "# The default of 1,000 iterations gives fine results, but I'm training for longer just to eke\n",
    "# out some marginal improvements. NB: This takes almost an hour!\n",
    "from sklearn.manifold import TSNE\n",
    "tsne = TSNE(random_state=1, n_iter=15000, metric=\"cosine\")\n",
    "embs = tsne.fit_transform(M)\n",
    "\n",
    "plt.figure(figsize=(16, 16))\n",
    "# plt.scatter(embs[:, 0], embs[:, 1])\n",
    "for i in range(len(embs)):\n",
    "    plt.annotate(dictionary[i], (embs[i, 0], embs[i, 1]))\n",
    "plt.axis('off')\n",
    "plt.show()"
   ]
  },
  {
   "cell_type": "code",
   "execution_count": 88,
   "metadata": {},
   "outputs": [
    {
     "data": {
      "image/png": "[encoded data removed]",
      "text/plain": [
       "<Figure size 1296x1296 with 1 Axes>"
      ]
     },
     "metadata": {
      "needs_background": "light"
     },
     "output_type": "display_data"
    }
   ],
   "source": [
    "plt.figure(figsize=(18, 18))\n",
    "plt.scatter(embs[:, 0], embs[:, 1])\n",
    "for i in range(len(embs)):\n",
    "    plt.annotate(dictionary[i], (embs[i, 0], embs[i, 1]))\n",
    "plt.axis('off')\n",
    "plt.show()"
   ]
  },
  {
   "cell_type": "code",
   "execution_count": 78,
   "metadata": {},
   "outputs": [
    {
     "data": {
      "image/png": "[encoded data removed]",
      "text/plain": [
       "<Figure size 1152x1152 with 1 Axes>"
      ]
     },
     "metadata": {
      "needs_background": "light"
     },
     "output_type": "display_data"
    }
   ],
   "source": [
    "%%time"
   ]
  },
  {
   "cell_type": "code",
   "execution_count": 48,
   "metadata": {},
   "outputs": [],
   "source": [
    "import networkx\n",
    "\n",
    "def plot_knn_graph(dictionary, M, k=5):\n",
    "    pass"
   ]
  },
  {
   "cell_type": "markdown",
   "metadata": {},
   "source": [
    "# Visualizations\n",
    "\n",
    "### The many names of Schnitzel\n",
    "\n",
    "We all know Wednesday is Schnitzel day, "
   ]
  },
  {
   "cell_type": "code",
   "execution_count": 34,
   "metadata": {
    "ExecuteTime": {
     "end_time": "2019-09-17T09:23:46.985636Z",
     "start_time": "2019-09-17T09:23:46.926945Z"
    }
   },
   "outputs": [
    {
     "data": {
      "text/plain": [
       "breaded fried turkey schnitzel        9\n",
       "breaded fried pork schnitzel          9\n",
       "breaded fried cured pork schnitzel    8\n",
       "breaded fried chicken schnitzel       7\n",
       "breaded fried chicken                 6\n",
       "turkey cordon bleu                    4\n",
       "pork cordon bleu                      4\n",
       "chicken cordon bleu                   3\n",
       "turkey schnitzel                      3\n",
       "cordon bleu                           2\n",
       "pork schnitzel parisian style         1\n",
       "piquant cordon bleu filled            1\n",
       "chicken piccata                       1\n",
       "breaded fried turkey cordon bleu      1\n",
       "pork schnitzel                        1\n",
       "piquant cordon bleu                   1\n",
       "chicken fillet                        1\n",
       "turkey schnitzel parisian style       1\n",
       "cured pork schnitzel                  1\n",
       "Name: name, dtype: int64"
      ]
     },
     "execution_count": 34,
     "metadata": {},
     "output_type": "execute_result"
    }
   ],
   "source": [
    "def get_schnitzel_names(df):\n",
    "    schnitzel_names = df[(df[\"day\"] == \"Wednesday\") & (df[\"subcategory\"] == \"home-style cooking\")]\n",
    "    return schnitzel_names.name.map(lambda x: x[0]).value_counts()\n",
    "    \n",
    "get_schnitzel_names(df)"
   ]
  },
  {
   "cell_type": "markdown",
   "metadata": {},
   "source": [
    "### Price Inequalities ?"
   ]
  },
  {
   "cell_type": "code",
   "execution_count": null,
   "metadata": {},
   "outputs": [],
   "source": [
    "\n",
    "\n",
    "def get_average_prices(df):\n",
    "    mains = df[df[\"category\"] == \"Menus\"]\n",
    "    for v in mains.subcategory.unique():\n",
    "        prices = df[df[\"subcategory\"] == v].price\n",
    "        avg = prices.mean()\n",
    "        print(v, avg)"
   ]
  },
  {
   "cell_type": "markdown",
   "metadata": {},
   "source": [
    "###  Days of the week"
   ]
  },
  {
   "cell_type": "code",
   "execution_count": null,
   "metadata": {},
   "outputs": [],
   "source": [
    "\n",
    "                \n",
    "def get_frequencies(df, day=None):\n",
    "    mains = df[df[\"category\"] == \"Menus\"]\n",
    "    if day is None:\n",
    "        return df.subcategory.value_counts()\n",
    "    else:\n",
    "        return df[df[\"day\"] == day].subcategory.value_counts()\n",
    "        \n",
    "def workcloud(df, day=None):\n",
    "    words = list(df.name)\n",
    "    words = [y for l in words for x in l for y in x.replace(\"of\", '').replace(\"sauce\", '').split()]\n",
    "    counts = Counter(words)\n",
    "    if day is None:\n",
    "        return counts\n",
    "    else:\n",
    "        words = list(df[df[\"day\"] == day].name)\n",
    "        #words = [x for l in words for x in l]\n",
    "        words = [y for l in words for x in l for y in x.replace(\"of\", '').replace(\"sauce\", '').split()]\n",
    "        ncounts = Counter(words)\n",
    "        total = sum(counts.values(), 0.0)\n",
    "        for key in counts:\n",
    "            counts[key] /= total\n",
    "        total = sum(ncounts.values(), 0.0)\n",
    "        for key in ncounts:\n",
    "            ncounts[key] /= total\n",
    "        ncounts.subtract(counts)\n",
    "        return ncounts"
   ]
  },
  {
   "cell_type": "code",
   "execution_count": null,
   "metadata": {},
   "outputs": [],
   "source": [
    "Mapping ingredients to allergies\n",
    "csp"
   ]
  },
  {
   "cell_type": "code",
   "execution_count": 25,
   "metadata": {
    "ExecuteTime": {
     "end_time": "2019-09-16T13:10:44.586174Z",
     "start_time": "2019-09-16T13:10:44.537536Z"
    }
   },
   "outputs": [
    {
     "name": "stdout",
     "output_type": "stream",
     "text": [
      "['beef broth']\n",
      "['cream of corn soup']\n",
      "['pasta', 'ham', 'small salad']\n",
      "['falafel balls', 'tomato eggplant salad', 'mint yogurt']\n",
      "['grilled hake', 'ratatouille', 'olive potatoes']\n",
      "['poppy seed cheese cake']\n",
      "['beef broth']\n",
      "['creamed garlic soup']\n",
      "['pumpkin spinach pan', 'dates', 'nuts', 'bulgur']\n",
      "['käsekrainer', 'french fries', 'onion mustard']\n",
      "['gratinated chicken filet', 'tomato', 'mozzarella', 'bell peper', 'zucchini', 'herb pasta']\n",
      "['latte macchiato cake']\n",
      "['beef broth']\n",
      "['minestrone']\n",
      "['potato vegetable strudel', 'leaf salad', 'herb dip']\n",
      "['breaded fried chicken schnitzel', 'rice']\n",
      "['wok noodles', 'turkey strips', 'vegetables', 'cashews']\n",
      "['yogurt fruit cake']\n",
      "['beef broth']\n",
      "['cream of cauliflower soup']\n",
      "['grilled leberkäse', 'green beans', 'dill', 'potatoes']\n",
      "['jambalaya', 'bulgur']\n",
      "['esterházy beef escalope', 'green pasta', 'root vegetables']\n",
      "['apricot cake']\n",
      "['beef broth']\n",
      "['creamed basil soup']\n",
      "['buttermilk', 'vegetable curry', 'spelt']\n",
      "['breaded fried plaice', 'parsley potatoes']\n",
      "['apricot dumplings']\n",
      "['beef rendang', 'pak choi', 'tomato rice']\n",
      "['chocolate cake']\n",
      "['beef broth']\n",
      "['creamed curry soup']\n",
      "['macaroni', 'carbonara sauce', 'parmesan cheese']\n",
      "['vegetable croquettes', 'lentil salad', 'tomato salsa']\n",
      "['salmon trout', 'vegetable', 'ebly']\n",
      "['malakoffschnitte']\n",
      "['beef broth']\n",
      "['creamed basil soup']\n",
      "['moroccan', 'chickpea stew', 'couscous']\n",
      "['turkey cabbage stew', 'paprika', 'caraway potatoes']\n",
      "['herbed pork cutlet', 'broccoli', 'cauliflower', 'pasta']\n",
      "['apple strudel']\n",
      "['beef broth']\n",
      "['cream of carrot soup']\n",
      "['vegetable casserole', 'raw vegetable leaf salad', 'herb dip']\n",
      "['breaded fried pork schnitzel', 'rice']\n",
      "['grilled sea bass', 'truffled potato mash', 'colorful vegetables']\n",
      "['vegan', 'plum cake']\n",
      "['beef broth']\n",
      "['cream of broccoli soup']\n",
      "['braised paprika chicken', 'pasta']\n",
      "['vegan coconut curry', 'jasmin rice']\n",
      "['boiled beef', 'spinach', 'roast potatoes']\n",
      "['pear cream cheese strudel']\n",
      "['beef broth']\n",
      "['cream of celery soup']\n",
      "['spinach lasagne', 'tomato ragout']\n",
      "['breaded fried codfish filet', 'rice']\n",
      "['curd dumplings']\n",
      "['oriental braised chicken', 'dates', 'sesame rice', 'peas']\n",
      "['punschschnitte']\n",
      "['beef broth']\n",
      "['sour cream potato soup']\n",
      "['sweet', 'sour pork', 'fried rice', 'egg']\n",
      "['whole wheat pasta', 'cabbage', 'vegetables', 'small salad']\n",
      "['salmon steak', 'safron sauce', 'bellpepper', 'zucchini', 'tender wheat']\n",
      "['cream cheese strudel']\n",
      "['beef broth']\n",
      "['cream of vegetable soup']\n",
      "['polenta nuggets', 'greek vegetables', 'feta cheese']\n",
      "['smoked pork roast', 'mashed potatoes', 'fried onions']\n",
      "['chicken satay', 'peanut sauce', 'coconut rice']\n",
      "['tiramisu cake']\n",
      "['beef broth']\n",
      "['cream of cauliflower soup']\n",
      "['soya ragout', 'mushrooms', 'vegetables', 'rice']\n",
      "['breaded fried turkey schnitzel', 'parsley potatoes']\n",
      "['asia beef', 'spring onion', 'soya sprouts', 'rice noodles']\n",
      "['yogurt cake']\n",
      "['beef broth']\n",
      "['creamed bellpepper soup']\n",
      "['chili con carne', 'bread roll']\n",
      "['oriental rice', 'eggplant curry', 'mint yogurt']\n",
      "['turkey breast', 'tarragon sauce', 'carrots', 'brown rice']\n",
      "['honey cake']\n",
      "['beef broth']\n",
      "['cream of leek soup']\n",
      "['italian pasta pan', 'vegetables', 'olives', 'pesto', 'parmesan cheese']\n",
      "['yeast dumpling']\n",
      "['breaded fried coalfish filet', 'potato field salad']\n",
      "['turkey skewer', 'letcho', 'tomato rice']\n",
      "['poppy seed cake']\n",
      "['beef broth']\n",
      "['cream of mushroom soup']\n",
      "['pork ragout', 'zurich style', 'browned potatoes']\n",
      "['indian cabbage carrot bhaji', 'bulgur']\n",
      "['roasted pike perch', 'potato celery mash', 'arugula pesto']\n",
      "['kardinalschnitte']\n",
      "['beef broth']\n",
      "['green bean soup']\n",
      "['spinach pancake', 'garlic sauce', 'colorful leaf salad']\n",
      "['fried sausage', 'sauerkraut', 'roast potatoes']\n",
      "['roast duck', 'teriyaki sauce', 'vegetable egg noodles']\n",
      "['black forest cake']\n",
      "['beef broth']\n",
      "['cream of zucchini soup']\n",
      "['roasted cauliflower', 'chickpeas', 'yogurt']\n",
      "['breaded fried pork schnitzel', 'parsley potatoes']\n",
      "['creamed braised beef', 'root vegetables', 'tagliatelle']\n",
      "['nut strudel']\n",
      "['beef broth']\n",
      "['creamed lentil soup']\n",
      "['rice pork stew', 'parmesan cheese']\n",
      "['vegan spinach quinoa pan', 'dried fruits', 'almonds', 'mint soya dip']\n",
      "['spelt burger bun', 'grilled chicken filet', 'coleslaw', 'honey mustard sauce']\n",
      "['raspberry cake']\n",
      "['beef broth']\n",
      "['creamed herb soup']\n",
      "['potato pizza', 'gratinated tomato', 'mozzarella', 'leaf salad']\n",
      "['strawberry pancakes']\n",
      "['cornflake crusted', 'coalfish']\n",
      "['red beef curry', 'jasmin rice']\n",
      "['vegan apple cake']\n",
      "['beef broth']\n",
      "['cream of kohlrabi soup']\n",
      "['meat patties', 'mashed potatoes', 'peas']\n",
      "['fried hokkien noodles', 'peanuts', 'vegetables']\n",
      "['salmon trout filet', 'wild garlic risotto', 'roast tomato']\n",
      "['banana cake']\n",
      "['beef broth']\n",
      "['creamed wild garlic soup']\n",
      "['spicy mango curry', 'cilantro rice']\n",
      "['half grilled chicken', 'rice', 'peas']\n",
      "['pork roast', 'sauerkraut', 'bread dumpling']\n",
      "['coffee cream roulade']\n",
      "['beef broth']\n",
      "['cream of pea soup']\n",
      "['stuffed bellpepper', 'tomato sauce', 'boiled potatoes']\n",
      "['breaded fried chicken', 'salad']\n",
      "['oriental chicken', 'dates', 'sesame rice', 'carrots']\n",
      "['strawberry cake']\n",
      "['beef broth']\n",
      "['french onion soup']\n",
      "['lentils', 'bacon', 'bread dumpling']\n",
      "['vindaloo tofu curry', 'pita bread']\n",
      "['spare ribs', 'potato chips', 'bbq sauce']\n",
      "['mozartschnitte']\n",
      "['beef broth']\n",
      "['cream of vegetable soup']\n",
      "['spinach lasagne', 'fresh cheese sauce']\n",
      "['poppy seed potato noodles']\n",
      "['breaded fried codfish filet', 'parsley potatoes']\n",
      "['green chicken currry', 'egg noodles', 'vegetables']\n",
      "['esterhazyschnitte']\n",
      "['beef broth']\n",
      "['creamed garlic soup']\n",
      "['pork escalope', 'mushroom sauce', 'maccaroni pasta', 'butter']\n",
      "['whole wheat farfalle pasta', 'red beet', 'fresh cheese', 'small salad']\n",
      "['tuna teppanyaki', 'asian vegetables', 'jasmin rice']\n",
      "['nut nougat cake']\n",
      "['beef broth']\n",
      "['cream of sweet potatoes']\n",
      "['pho chay', 'vietnamese rice noodles', 'tofu', 'soya sprouts']\n",
      "['potato dumplings', 'smoked meat filling', 'sauerkraut', 'caraway sauce']\n",
      "['turkey steak', 'wild garlic rice', 'carrots']\n",
      "['brownie']\n",
      "['beef broth']\n",
      "['cream of mangold soup']\n",
      "['wild garlic bread dumpling', 'tomato ragout', 'grana cheese']\n",
      "['turkey schnitzel parisian style', 'parsley potatoes']\n",
      "['african beef', 'peanut stew', 'tomato rice']\n",
      "['pear cake']\n",
      "['beef broth']\n",
      "['creamed curry soup']\n",
      "['pork escalope', 'letcho', 'fried potatoes']\n",
      "['potato mangold bake', 'feta cheese', 'herb dip']\n",
      "['veal ragout marengo', 'spaetzle', 'broccoli']\n",
      "['vegan', 'carrot muffin']\n",
      "['beef broth']\n",
      "['cream of spring onion soup']\n",
      "['eggplant goulash', 'polenta nuggets']\n",
      "['powidltascherl']\n",
      "['breaded fried coalfish filet', 'potato cucumber salad']\n",
      "['caesar salad', 'grilled chicken skewer', 'baguette']\n",
      "['dobosschnitte']\n",
      "['beef broth']\n",
      "['cream of mushroom soup']\n",
      "['roasted chicken breast', 'leek sauce', 'rostini pasta']\n",
      "['potato curry', 'almonds', 'sour cream', 'baked potato']\n",
      "['seafood vegetable paella']\n",
      "['poppy seed cheese cake']\n",
      "['beef broth']\n",
      "['cream of corn soup']\n",
      "['spring rolls', 'asian vegetables', 'basmati rice']\n",
      "['potato sausage gulash', 'bread roll']\n",
      "['grilled pork filet', 'zucchini rice', 'caulifower', 'broccoli']\n",
      "['latte macchiato cake']\n",
      "['beef broth']\n",
      "['cream of spinach soup']\n",
      "['bellpeppers filled', 'millet', 'vegetables', 'tomato sauce']\n",
      "['chicken cordon bleu', 'rice']\n",
      "['indian lamb curry', 'vegetables', 'almond rice']\n",
      "['yogurt fruit cake']\n",
      "['beef broth']\n",
      "['minestrone']\n",
      "['farmer gröstl', 'horseradish', 'small salad']\n",
      "['chickpea tajine', 'herb couscous']\n",
      "['mixed grill', 'french fries', 'herb butter']\n",
      "['apricot cake']\n",
      "['beef broth']\n",
      "['bean soup']\n",
      "['home made egg spaetzle', 'small salad']\n",
      "['styrian apple rings']\n",
      "['fish', 'chips']\n",
      "['red beef curry', 'egg noodles', 'vegetables']\n",
      "['chocolate cake']\n",
      "['beef broth']\n",
      "['cream of tomato soup']\n",
      "['berner würstel', 'french fries', 'onion mustard']\n",
      "['red lentil tajine', 'sweet potatoes', 'pita bread']\n",
      "['salmon trout filet', 'vegetables', 'herb tender wheat']\n",
      "['malakoffschnitte']\n",
      "['beef broth']\n",
      "['carrot apple soup']\n",
      "['italian pasta pan', 'zucchini', 'olives', 'tomato', 'pesto']\n",
      "['smoked meat', 'lentils', 'bread dumpling']\n",
      "['braised onion beef escalope', 'cauliflower', 'broccoli', 'whole wheat pasta']\n",
      "['apple strudel']\n",
      "['beef broth']\n",
      "['french onion soup']\n",
      "['asparagus potato bake', 'leaf salad', 'herb dip']\n",
      "['breaded fried pork schnitzel', 'rice']\n",
      "['turkey curry', 'vegetables', 'sesame rice']\n",
      "['rhubarb cake']\n",
      "['beef broth']\n",
      "['cream of leek soup']\n",
      "['ravioli', 'meat filling', 'tomato olive ragout', 'grana cheese']\n",
      "['creamed spinach', 'roasted potatoes', 'fried egg']\n",
      "['beef stroganoff', 'root vegetables', 'home made spaetzle']\n",
      "['pear cream cheese strudel']\n",
      "['beef broth']\n",
      "['cream of corn soup']\n",
      "['falafel', 'tomato eggplant salad', 'mint yogurt']\n",
      "['raspberry rhubarb dumpling']\n",
      "['calamari fritti', 'potato chips']\n",
      "['wok noodles', 'turkey strips', 'cashews', 'vegetables']\n",
      "['punschschnitte']\n",
      "['beef broth']\n",
      "['vegan vegetable soup']\n",
      "['grilled leberkäse', 'mashed potatoes', 'peas']\n",
      "['vegetable burger', 'colorful salad', 'garlic dip']\n",
      "['turkey steak', 'zaziki', 'potato chips']\n",
      "['tiramisu cake']\n",
      "['beef broth']\n",
      "['creamed celery soup']\n",
      "['spaghetti', 'arrabiata sauce']\n",
      "['breaded fried turkey schnitzel', 'parsley potatoes']\n",
      "['asian beef stir fry', 'mushrooms', 'sprouts', 'jasmin rice']\n",
      "['jogurt cake']\n",
      "['beef broth']\n",
      "['cream of mushroom soup']\n",
      "['acht schätze', 'basmati rice']\n",
      "['colorful lentil curry', 'bulgur']\n",
      "['roasted pike perch', 'potato celery mash', 'carrots', 'leek']\n",
      "['kardinalschnitte']\n",
      "['beef broth']\n",
      "['herb soup']\n",
      "['braised paprika chicken', 'pasta']\n",
      "['pumpkin spinach pan', 'dates', 'nuts', 'bulgur', 'mint yogurt']\n",
      "['trout filet', 'herb crust', 'carrot leek vegetables', 'leek onion puree']\n",
      "['banana cake']\n",
      "['beef broth']\n",
      "['creamed wild garlic soup']\n",
      "['tofu vegetable stew', 'bread']\n",
      "['cevapcici', 'french fries', 'onion mustard']\n",
      "['turkey escalope', 'filled wild garlic', 'vegetables', 'creamy polenta']\n",
      "['coffee cream roulade']\n",
      "['beef broth']\n",
      "['cream of sorrel soup']\n",
      "['hokkien noodles', 'peanuts', 'vegetables']\n",
      "['breaded fried pork schnitzel', 'rice']\n",
      "['pork steak', 'couscous', 'herbs', 'vegetables', 'zaziki']\n",
      "['strawberry cake']\n",
      "['beef broth']\n",
      "['creamed garlic soup']\n",
      "['chilli con carne', 'bread roll']\n",
      "['cheese spaetzle', 'small salad']\n",
      "['hake', 'potato flower crust', 'dill potatoes', 'mangold']\n",
      "['nut nougat cake']\n",
      "['beef broth']\n",
      "['asparagus soup']\n",
      "['couscous', 'chickpea pan', 'vegetables', 'spinach']\n",
      "['chicken wings', 'potato chips', 'bbq sauce']\n",
      "['boiled beef', 'water cress patties', 'spinach']\n",
      "['brownie']\n",
      "['beef broth']\n",
      "['semolina egg drop soup']\n",
      "['vegetable lasagne', 'tomato sauce']\n",
      "['breaded fried turkey cordon bleu', 'herb rice']\n",
      "['fesenjan chicken', 'walnut pomegranate sauce', 'saffron rice']\n",
      "['strawberry sponge roulade']\n",
      "['beef broth']\n",
      "['creamed wild herb soup']\n",
      "['pork goulash', 'noodles']\n",
      "['eggplant tikka masala', 'dried apricot', 'almond rice']\n",
      "['spelt burger bun', 'marinated chicken filet', 'potato wedges', 'wild garlic cream']\n",
      "['vegan carrot muffin']\n",
      "['beef broth']\n",
      "['cream of mangold soup']\n",
      "['indian cabbage carrot bhaji', 'bulgur']\n",
      "['mohr im hemd']\n",
      "['breaded fried codfish filet', 'parsley potatoes']\n",
      "['roast beef', 'rhubarb asparagus salad', 'raspberry vinaigrette', 'spelt bread roll']\n",
      "['dobosschnitte']\n",
      "['beef broth']\n",
      "['cream of cabbage soup']\n",
      "['turkey cabbage stew', 'caraway potatoes']\n",
      "['ginger coconut curry', 'green beans', 'sprouts', 'couscous']\n",
      "['grilled salmon steak', 'potato asparagus pan', 'yogurt dip']\n",
      "['poppy seed curd cake']\n",
      "['beef broth']\n",
      "['bean herb soup']\n",
      "['jambalaya', 'bulgur']\n",
      "['pork schnitzel', 'vegetables', 'rice']\n",
      "['asparagus', 'chive potatoes', 'holl', 'aise sauce']\n",
      "['latte macchiato cake']\n",
      "['beef broth']\n",
      "['cream of zucchini soup']\n",
      "['vegetable strudel', 'chive potatoes', 'herb dip']\n",
      "['breaded fried cured pork schnitzel', 'potato cucumber salad']\n",
      "['krapao gai', 'turkey', 'oyster mushrooms', 'egg rice']\n",
      "['yogurt fruit cake']\n",
      "['beef broth']\n",
      "['minestrone']\n",
      "['gratinated farfalle', 'ham', 'small salad']\n",
      "['soya gyros', 'zaziki', 'tomato rice']\n",
      "['roasted chicken filet', 'gnocchi', 'spinach', 'parmesan cheese']\n",
      "['apricot cake']\n",
      "['beef broth']\n",
      "['creamed fennel soup']\n",
      "['mushroom vegetable', 'risotto', 'parmesan cheese', 'small salad']\n",
      "['nougat dumplings']\n",
      "['breaded fried pike perch', 'parsley potatoes']\n",
      "['curry', 'beef balls', 'cori', 'er rice']\n",
      "['chocolate cake']\n",
      "['beef broth']\n",
      "['cream of tomato soup']\n",
      "['sweet', 'sour', 'turkey', 'basmati rice']\n",
      "['soya ragout', 'mushroom sauce', 'noodles']\n",
      "['salmon trout filet', 'fennel', 'potatoes']\n",
      "['malakoffschnitte']\n",
      "['beef broth']\n",
      "['cream of kohlrabi soup']\n",
      "['boueff stroganoff', 'noodles']\n",
      "['vegan burger', 'herb potatoes', 'grill sauce']\n",
      "['grilled hake', 'colorful vegetables', 'herb tender wheat']\n",
      "['cream cheese strudel']\n",
      "['beef broth']\n",
      "['vegan vegetable soup']\n",
      "['colorful lentil curry', 'basmati rice']\n",
      "['pork stew', 'home made dumplings']\n",
      "['gratinated chicken filet', 'tomato', 'mozzarella', 'basil sauce', 'gnocchi']\n",
      "['tiramisu cake']\n",
      "['beef broth']\n",
      "['cream of celery soup']\n",
      "['stuffed bellpepper', 'tomato sauce', 'boiled potatoes']\n",
      "['breaded fried pork schnitzel', 'rice']\n",
      "['roast beef strips', 'wok vegetables', 'egg noodles']\n",
      "['yogurt cake']\n",
      "['beef broth']\n",
      "['cream of leek soup']\n",
      "['greaves dumpling', 'sauerkraut', 'caraway sauce']\n",
      "['cauliflower', 'chickpea stew', 'mint yogurt', 'pita bread']\n",
      "['mixed grill', 'french fries', 'herb butter']\n",
      "['apricot cream cheese strudel']\n",
      "['beef broth']\n",
      "['cream of corn soup']\n",
      "['spinach dumpling', 'leek sauce']\n",
      "['pancake bits']\n",
      "['breaded fried codfish', 'potato salad', \"lamb's lettuce\"]\n",
      "['chicken vindaloo', 'sesame rice', 'broccoli']\n",
      "['strawberry sponge cake']\n",
      "['beef broth']\n",
      "['cream of mushroom soup']\n",
      "['italian pasta pan', 'vegetables', 'olives', 'pesto']\n",
      "['pork escalope', 'mushroom sauce', 'rösti', 'potatoes']\n",
      "['turkey skewer', 'letcho', 'tomato rice']\n",
      "['black forest cake']\n",
      "['beef broth']\n",
      "['cream of bellpepper soup']\n",
      "['macaroni', 'arabiatta sauce', 'parmesan cheese']\n",
      "['breaded fried chicken schnitzel', 'rice']\n",
      "['red beef curry', 'egg noodles']\n",
      "['nut strudel']\n",
      "['beef broth']\n",
      "['minestrone']\n",
      "['potato goulash', 'sausage', 'bread roll']\n",
      "['fried noodles', 'bamboo curry']\n",
      "['grilled hake', 'spring vegetables', 'wild rice']\n",
      "['banana cake']\n",
      "['beef broth']\n",
      "['creamed garlic soup']\n",
      "['roasted leberkäse', 'mashed potatoes', 'peas']\n",
      "['colorful leaf salad', 'breaded fried cheese', 'cranberries']\n",
      "['paella', 'vegetables', 'seafood']\n",
      "['nut nougat cake']\n",
      "['beef broth']\n",
      "['creamy lentil soup']\n",
      "['curry sausage', 'french fries']\n",
      "['vegan', 'chickpea stew', 'pita bread']\n",
      "['trout filet', 'colorful vegetables', 'rosemary potatoes']\n",
      "['curd cream cake']\n",
      "['beef broth']\n",
      "['sorrel soup']\n",
      "['vegetable jambalaya', 'basmati rice']\n",
      "['beef goulash', 'home made spaetzle']\n",
      "['spare ribs', 'potato chips', 'bbq sauce']\n",
      "['latte macchiato cake']\n",
      "['beef broth']\n",
      "['cream of zucchini soup']\n",
      "['potato pizza', 'leaf salad', 'garlic dip']\n",
      "['pork cordon bleu', 'vegetable rice']\n",
      "['chicken', 'dates', 'sesame rice', 'broccoli']\n",
      "['yogurt fruit cake']\n",
      "['beef broth']\n",
      "['creamed celery soup']\n",
      "['boiled pork styrian style', 'potatoes', 'horseradish']\n",
      "['spinach canneloni', 'tomato basil sauce', 'grana cheese']\n",
      "['beef ragout', 'mushrooms', 'vegetables', 'whole wheat noodles']\n",
      "['apricot cake']\n",
      "['beef broth']\n",
      "['carrot ginger soup']\n",
      "['cheese dumpling', 'leaf salad', 'herb dip']\n",
      "['powidltascherl']\n",
      "['fish', 'chips', 'garlic sauce']\n",
      "['turkey skewer', 'letcho', 'rice']\n",
      "['chocolate cake']\n",
      "['beef broth']\n",
      "['cream of tomato soup']\n",
      "['sweet', 'sour pork', 'vegetable noodles']\n",
      "['polenta nuggets', 'colorful vegetables', 'chive dip']\n",
      "['grilled salmon steak', 'safron sauce', 'wild rice', 'broccoli']\n",
      "['red currant meringue cake']\n",
      "['beef broth']\n",
      "['cream of celery soup']\n",
      "['käsekrainer', 'potato wedges', 'grill sauce']\n",
      "['baked potato', 'spinach', 'feta cheese', 'leaf salad']\n",
      "['grilled hake', 'colorful vegetables', 'herb tender wheat']\n",
      "['cream cheese strudel']\n",
      "['beef broth']\n",
      "['cream of bellpepper soup']\n",
      "['braised paprika chicken', 'home made spaetzle']\n",
      "['summer salad', 'crispy mozzarella sticks', 'tomato yogurt']\n",
      "['green noodles', 'dill sauce', 'shrimp skewer']\n",
      "['kardinalschnitte']\n",
      "['beef broth']\n",
      "['minestrone']\n",
      "['chicken wings', 'potato chips', 'cocktail sauce']\n",
      "['potato pizza', 'colorful salad', 'chive dip']\n",
      "['grilled fish', 'mixed vegetables', 'parsley potatoes']\n",
      "['bluebery cake']\n",
      "['beef broth']\n",
      "['herb cream soup']\n",
      "['mixed salad', 'mixed baked vegetables']\n",
      "['acht schätze', 'basmati rice']\n",
      "['boiled beef', 'cream spinach', 'rösti']\n",
      "['coffee cream sponge cake']\n",
      "['beef broth']\n",
      "['vichyssoise', 'cold potato leek soup']\n",
      "['vegetable patties', 'summer salad', 'herb dip']\n",
      "['piquant cordon bleu', 'rice']\n",
      "['grilled turkey strips', 'asian noodles', 'potato patties']\n",
      "['strawberry cake']\n",
      "['beef broth']\n",
      "['creamed garlic soup']\n",
      "['nasi goreng', 'fried rice']\n",
      "['kärntner kasnudeln', 'filled pasta', 'butter', 'chive']\n",
      "['steamed catfish filet', 'root vegetables', 'boiled potatoes']\n",
      "['lemon cake']\n",
      "['beef broth']\n",
      "['cold cucumber soup']\n",
      "['chicken tajine', 'sweet potatoes', 'basmati rice']\n",
      "['whole wheat pasta', 'dried tomatoes', 'arugula pesto']\n",
      "['roasted pike perch', 'letcho', 'fried potatoes']\n",
      "['curd cream cake']\n",
      "['beef broth']\n",
      "['red lentil soup']\n",
      "['ginger coconut curry', 'green beans', 'couscous']\n",
      "['braised pork escalope', 'rice', 'peas']\n",
      "['kebap', 'rice', 'pita bread']\n",
      "['latte macchiato cake']\n",
      "['beef broth']\n",
      "['cream of leek soup']\n",
      "['spaghetti', 'bolognese', 'grana cheese']\n",
      "['spring rolls', 'asian salad', 'chili dip']\n",
      "['salmon trout filet', 'vegetables', 'fennel', 'baked potatoes']\n",
      "['red currant meringue cake']\n",
      "['beef broth']\n",
      "['carrot apple soup']\n",
      "['spicy mango curry', 'herb couscous']\n",
      "['käsekrainer', 'french fries', 'grill sauce']\n",
      "['turkey skewer', 'ratatouille', 'bulgur']\n",
      "['apple strudel']\n",
      "['beef broth']\n",
      "['cream of parsnip soup']\n",
      "['mushroom goulash', 'bread dumpling']\n",
      "['breaded fried cured pork schnitzel', 'parsley potatoes']\n",
      "['beef rendang', 'coconut rice']\n",
      "['punschschnitte']\n",
      "['beef broth']\n",
      "['cream of kohlrabi soup']\n",
      "['pork escalope', 'mushroom sauce', 'noodles']\n",
      "['soya gyros', 'zaziki', 'rice']\n",
      "['grilled pike perch filet', 'mangold potatoes', 'bellpeppers']\n",
      "['cream cheese strudel']\n",
      "['beef broth']\n",
      "['cream of corn soup']\n",
      "['spinach lasagne', 'fresh cheese sauce']\n",
      "['grilled chicken', 'rice', 'peas']\n",
      "['lamb ragout', 'beans', 'almond couscous']\n",
      "['tiramisu cake']\n",
      "['beef broth']\n",
      "['cream of cauliflower soup']\n",
      "['leaf salad', 'cheese dumpling', 'herb dip']\n",
      "['turkey schnitzel', 'rice']\n",
      "['thai vegetables', 'roasted duk', 'teriyaki sauce']\n",
      "['yogurt cake']\n",
      "['beef broth']\n",
      "['mushroom soup']\n",
      "['berner würstel', 'french fries', 'onion mustard']\n",
      "['penne tricolore', 'arugula pesto', 'cherry tomatoes', 'zucchini', 'grana cheese']\n",
      "['grilled hake', 'colorful vegetables', 'parsley potatoes']\n",
      "['kardinalschnitte']\n",
      "['beef broth']\n",
      "['cream of bellpepper soup']\n",
      "['moroccan', 'chickpea stew', 'couscous']\n",
      "['potato sausage goulash', 'bread roll']\n",
      "['beef escalope', 'onions', 'green noodles', 'brussels sprouts']\n",
      "['black forest cake']\n",
      "['beef broth']\n",
      "['cream of broccoli soup']\n",
      "['indian carrot cabbage bhaji', 'bulgur']\n",
      "['turkey cordon bleu', 'potato salad']\n",
      "['chicken breast', 'creamy polenta', 'bellpeppers', 'zucchini']\n",
      "['blueberry muffin']\n",
      "['beef broth']\n",
      "['minestrone']\n",
      "['rice pork stew', 'grana cheese']\n",
      "['spinach pancake', 'leaf salad', 'garlic dip']\n",
      "['salmon steak', 'spinach', 'rosemary potatoes']\n",
      "['blueberry cake']\n",
      "['beef broth']\n",
      "['minestrone']\n",
      "['rice pork stew', 'grana cheese']\n",
      "['spinach pancake', 'leaf salad', 'garlic dip']\n",
      "['salmon steak', 'spinach', 'rosemary potatoes']\n",
      "['blueberry cake']\n",
      "['beef broth']\n",
      "['creamed herb soup']\n",
      "['farfalle', 'vegetables', 'cabbage', 'small salad']\n",
      "['chili con carne', 'bread roll']\n",
      "['esterházy beef escalope', 'colorful noodles', 'brussels sprouts']\n",
      "['coffee cream sponge cake']\n",
      "['beef broth']\n",
      "['potato soup']\n",
      "['briami', 'greek potato vegetable ragout']\n",
      "['breaded fried chicken schnitzel', 'potato salad', \"lamb's lettuce\"]\n",
      "['pork filet', 'ratatouille', 'herb penne']\n",
      "['strawberry cake']\n",
      "['beef broth']\n",
      "['cream of leek soup']\n",
      "['cevapcici', 'french fries', 'onion mustard']\n",
      "['spinach macaroni gratinated', 'tomato', 'cheese', 'small salad']\n",
      "['t', 'oori chicken', 'tomato raita', 'curcuma rice']\n",
      "['pear chocolate cake']\n",
      "['beef broth']\n",
      "['cream of cauliflower soup']\n",
      "['pumpkin', 'safron coconut sauce', 'wild rice']\n",
      "['potato noodles', 'nuts']\n",
      "['breaded fried fish', 'parsley potatoes']\n",
      "['veal ragout', 'vegetable bulgur']\n",
      "['esterházyschnitte']\n",
      "['beef broth']\n",
      "['creamed garlic soup']\n",
      "['pork steak', 'rice', 'zaziki', 'herb butter']\n",
      "['roasted cauliflower', 'white mushroom sauce', 'polenta']\n",
      "['paella', 'vegetables', 'seafood']\n",
      "['lemon cake']\n",
      "['beef broth']\n",
      "['red beet apple soup']\n",
      "['seasonal salad', 'pumpkin', 'runner beans', 'herzweckerl']\n",
      "['chicken wings', 'potato chips', 'cocktail sauce']\n",
      "['boiled beef', 'rösti', 'potatoes', 'chive sauce', 'horseradish apple sauce']\n",
      "['brownie']\n",
      "['beef broth']\n",
      "['semolina soup']\n",
      "['porcino ravioli', 'parsley pesto', 'sunflower seeds']\n",
      "['pork schnitzel parisian style', 'parsley potatoes']\n",
      "['thai chicken curry', 'peanuts', 'rice']\n",
      "['pear cake']\n",
      "['beef broth']\n",
      "['cream of potato soup', 'pear']\n",
      "['sausage dumpling', 'sauerkraut', 'caraway sauce']\n",
      "['spaghetti', 'piquant lentil bolognese']\n",
      "['veal roast', 'creamed polenta', 'broccoli']\n",
      "['vegan carrot muffin']\n",
      "['beef broth']\n",
      "['fennel saffron soup']\n",
      "['zucchini pumpkin bake', 'salad', 'herb dip']\n",
      "['scheiterhaufen']\n",
      "['calamari fritti', 'potato chips']\n",
      "['chicken saltimbocca', 'gnocchi', 'basil sauce']\n",
      "['dobosschnitte']\n"
     ]
    }
   ],
   "source": [
    "with open(\"./sv_restaurant_data.csv\", 'r') as f:\n",
    "    r = csv.DictReader(f)\n",
    "    for line in r:\n",
    "        print(parse_name(line[\"name\"]))"
   ]
  },
  {
   "cell_type": "code",
   "execution_count": 7,
   "metadata": {
    "ExecuteTime": {
     "end_time": "2019-09-16T13:04:56.073272Z",
     "start_time": "2019-09-16T13:04:56.010296Z"
    }
   },
   "outputs": [
    {
     "data": {
      "text/html": [
       "<div>\n",
       "<table border=\"1\" class=\"dataframe\">\n",
       "  <thead>\n",
       "    <tr style=\"text-align: right;\">\n",
       "      <th></th>\n",
       "      <th>year</th>\n",
       "      <th>week</th>\n",
       "      <th>start_date</th>\n",
       "      <th>end_date</th>\n",
       "      <th>day</th>\n",
       "      <th>date</th>\n",
       "      <th>category</th>\n",
       "      <th>subcategory</th>\n",
       "      <th>price</th>\n",
       "      <th>allergens</th>\n",
       "      <th>name</th>\n",
       "    </tr>\n",
       "  </thead>\n",
       "  <tbody>\n",
       "    <tr>\n",
       "      <th>0</th>\n",
       "      <td>2019</td>\n",
       "      <td>8</td>\n",
       "      <td>2019-02-25</td>\n",
       "      <td>2019-03-01</td>\n",
       "      <td>Monday</td>\n",
       "      <td>2019-02-25</td>\n",
       "      <td>Soups</td>\n",
       "      <td>NaN</td>\n",
       "      <td>1.10</td>\n",
       "      <td>ACGL</td>\n",
       "      <td>beef broth/garnish</td>\n",
       "    </tr>\n",
       "    <tr>\n",
       "      <th>1</th>\n",
       "      <td>2019</td>\n",
       "      <td>8</td>\n",
       "      <td>2019-02-25</td>\n",
       "      <td>2019-03-01</td>\n",
       "      <td>Monday</td>\n",
       "      <td>2019-02-25</td>\n",
       "      <td>Soups</td>\n",
       "      <td>NaN</td>\n",
       "      <td>1.10</td>\n",
       "      <td>AG</td>\n",
       "      <td>cream of corn soup</td>\n",
       "    </tr>\n",
       "    <tr>\n",
       "      <th>2</th>\n",
       "      <td>2019</td>\n",
       "      <td>8</td>\n",
       "      <td>2019-02-25</td>\n",
       "      <td>2019-03-01</td>\n",
       "      <td>Monday</td>\n",
       "      <td>2019-02-25</td>\n",
       "      <td>Menus</td>\n",
       "      <td>home-style cooking</td>\n",
       "      <td>4.00</td>\n",
       "      <td>AC</td>\n",
       "      <td>pasta with ham/small salad</td>\n",
       "    </tr>\n",
       "    <tr>\n",
       "      <th>3</th>\n",
       "      <td>2019</td>\n",
       "      <td>8</td>\n",
       "      <td>2019-02-25</td>\n",
       "      <td>2019-03-01</td>\n",
       "      <td>Monday</td>\n",
       "      <td>2019-02-25</td>\n",
       "      <td>Menus</td>\n",
       "      <td>vegetarian</td>\n",
       "      <td>5.00</td>\n",
       "      <td>AFG</td>\n",
       "      <td>falafel balls/tomato eggplant salad/mint yogurt</td>\n",
       "    </tr>\n",
       "    <tr>\n",
       "      <th>4</th>\n",
       "      <td>2019</td>\n",
       "      <td>8</td>\n",
       "      <td>2019-02-25</td>\n",
       "      <td>2019-03-01</td>\n",
       "      <td>Monday</td>\n",
       "      <td>2019-02-25</td>\n",
       "      <td>Menus</td>\n",
       "      <td>fish &amp; seafood</td>\n",
       "      <td>6.00</td>\n",
       "      <td>AD</td>\n",
       "      <td>grilled hake/ratatouille/olive potatoes</td>\n",
       "    </tr>\n",
       "    <tr>\n",
       "      <th>5</th>\n",
       "      <td>2019</td>\n",
       "      <td>8</td>\n",
       "      <td>2019-02-25</td>\n",
       "      <td>2019-03-01</td>\n",
       "      <td>Monday</td>\n",
       "      <td>2019-02-25</td>\n",
       "      <td>Dessert</td>\n",
       "      <td>NaN</td>\n",
       "      <td>1.30</td>\n",
       "      <td>ACG</td>\n",
       "      <td>poppy seed cheese cake</td>\n",
       "    </tr>\n",
       "    <tr>\n",
       "      <th>6</th>\n",
       "      <td>2019</td>\n",
       "      <td>8</td>\n",
       "      <td>2019-02-25</td>\n",
       "      <td>2019-03-01</td>\n",
       "      <td>Tuesday</td>\n",
       "      <td>2019-02-26</td>\n",
       "      <td>Soups</td>\n",
       "      <td>NaN</td>\n",
       "      <td>1.10</td>\n",
       "      <td>ACGL</td>\n",
       "      <td>beef broth/garnish</td>\n",
       "    </tr>\n",
       "    <tr>\n",
       "      <th>7</th>\n",
       "      <td>2019</td>\n",
       "      <td>8</td>\n",
       "      <td>2019-02-25</td>\n",
       "      <td>2019-03-01</td>\n",
       "      <td>Tuesday</td>\n",
       "      <td>2019-02-26</td>\n",
       "      <td>Soups</td>\n",
       "      <td>NaN</td>\n",
       "      <td>1.10</td>\n",
       "      <td>AG</td>\n",
       "      <td>creamed garlic soup</td>\n",
       "    </tr>\n",
       "    <tr>\n",
       "      <th>8</th>\n",
       "      <td>2019</td>\n",
       "      <td>8</td>\n",
       "      <td>2019-02-25</td>\n",
       "      <td>2019-03-01</td>\n",
       "      <td>Tuesday</td>\n",
       "      <td>2019-02-26</td>\n",
       "      <td>Menus</td>\n",
       "      <td>vegetarian</td>\n",
       "      <td>4.00</td>\n",
       "      <td>AH</td>\n",
       "      <td>pumpkin spinach pan/dates, nuts/bulgur</td>\n",
       "    </tr>\n",
       "    <tr>\n",
       "      <th>9</th>\n",
       "      <td>2019</td>\n",
       "      <td>8</td>\n",
       "      <td>2019-02-25</td>\n",
       "      <td>2019-03-01</td>\n",
       "      <td>Tuesday</td>\n",
       "      <td>2019-02-26</td>\n",
       "      <td>Menus</td>\n",
       "      <td>home-style cooking</td>\n",
       "      <td>5.00</td>\n",
       "      <td>GM</td>\n",
       "      <td>\"Käsekrainer\"/french fries/onion mustard</td>\n",
       "    </tr>\n",
       "    <tr>\n",
       "      <th>10</th>\n",
       "      <td>2019</td>\n",
       "      <td>8</td>\n",
       "      <td>2019-02-25</td>\n",
       "      <td>2019-03-01</td>\n",
       "      <td>Tuesday</td>\n",
       "      <td>2019-02-26</td>\n",
       "      <td>Menus</td>\n",
       "      <td>international</td>\n",
       "      <td>6.00</td>\n",
       "      <td>ACG</td>\n",
       "      <td>gratinated chicken filet/with tomato &amp; mozzare...</td>\n",
       "    </tr>\n",
       "    <tr>\n",
       "      <th>11</th>\n",
       "      <td>2019</td>\n",
       "      <td>8</td>\n",
       "      <td>2019-02-25</td>\n",
       "      <td>2019-03-01</td>\n",
       "      <td>Tuesday</td>\n",
       "      <td>2019-02-26</td>\n",
       "      <td>Dessert</td>\n",
       "      <td>NaN</td>\n",
       "      <td>1.30</td>\n",
       "      <td>NaN</td>\n",
       "      <td>latte macchiato cake</td>\n",
       "    </tr>\n",
       "    <tr>\n",
       "      <th>12</th>\n",
       "      <td>2019</td>\n",
       "      <td>8</td>\n",
       "      <td>2019-02-25</td>\n",
       "      <td>2019-03-01</td>\n",
       "      <td>Wednesday</td>\n",
       "      <td>2019-02-27</td>\n",
       "      <td>Soups</td>\n",
       "      <td>NaN</td>\n",
       "      <td>1.10</td>\n",
       "      <td>ACGL</td>\n",
       "      <td>beef broth/garnish</td>\n",
       "    </tr>\n",
       "    <tr>\n",
       "      <th>13</th>\n",
       "      <td>2019</td>\n",
       "      <td>8</td>\n",
       "      <td>2019-02-25</td>\n",
       "      <td>2019-03-01</td>\n",
       "      <td>Wednesday</td>\n",
       "      <td>2019-02-27</td>\n",
       "      <td>Soups</td>\n",
       "      <td>NaN</td>\n",
       "      <td>1.10</td>\n",
       "      <td>A</td>\n",
       "      <td>minestrone</td>\n",
       "    </tr>\n",
       "    <tr>\n",
       "      <th>14</th>\n",
       "      <td>2019</td>\n",
       "      <td>8</td>\n",
       "      <td>2019-02-25</td>\n",
       "      <td>2019-03-01</td>\n",
       "      <td>Wednesday</td>\n",
       "      <td>2019-02-27</td>\n",
       "      <td>Menus</td>\n",
       "      <td>vegetarian</td>\n",
       "      <td>4.00</td>\n",
       "      <td>ACG</td>\n",
       "      <td>potato vegetable strudel/leaf salad/herb dip</td>\n",
       "    </tr>\n",
       "    <tr>\n",
       "      <th>15</th>\n",
       "      <td>2019</td>\n",
       "      <td>8</td>\n",
       "      <td>2019-02-25</td>\n",
       "      <td>2019-03-01</td>\n",
       "      <td>Wednesday</td>\n",
       "      <td>2019-02-27</td>\n",
       "      <td>Menus</td>\n",
       "      <td>home-style cooking</td>\n",
       "      <td>5.00</td>\n",
       "      <td>AC</td>\n",
       "      <td>breaded fried chicken schnitzel/rice</td>\n",
       "    </tr>\n",
       "    <tr>\n",
       "      <th>16</th>\n",
       "      <td>2019</td>\n",
       "      <td>8</td>\n",
       "      <td>2019-02-25</td>\n",
       "      <td>2019-03-01</td>\n",
       "      <td>Wednesday</td>\n",
       "      <td>2019-02-27</td>\n",
       "      <td>Menus</td>\n",
       "      <td>asia</td>\n",
       "      <td>6.00</td>\n",
       "      <td>AFH</td>\n",
       "      <td>wok noodles/turkey strips/vegetables and cashews</td>\n",
       "    </tr>\n",
       "    <tr>\n",
       "      <th>17</th>\n",
       "      <td>2019</td>\n",
       "      <td>8</td>\n",
       "      <td>2019-02-25</td>\n",
       "      <td>2019-03-01</td>\n",
       "      <td>Wednesday</td>\n",
       "      <td>2019-02-27</td>\n",
       "      <td>Dessert</td>\n",
       "      <td>NaN</td>\n",
       "      <td>1.30</td>\n",
       "      <td>ACG</td>\n",
       "      <td>yogurt fruit cake</td>\n",
       "    </tr>\n",
       "    <tr>\n",
       "      <th>18</th>\n",
       "      <td>2019</td>\n",
       "      <td>8</td>\n",
       "      <td>2019-02-25</td>\n",
       "      <td>2019-03-01</td>\n",
       "      <td>Thursday</td>\n",
       "      <td>2019-02-28</td>\n",
       "      <td>Soups</td>\n",
       "      <td>NaN</td>\n",
       "      <td>1.10</td>\n",
       "      <td>ACGL</td>\n",
       "      <td>beef broth/garnish</td>\n",
       "    </tr>\n",
       "    <tr>\n",
       "      <th>19</th>\n",
       "      <td>2019</td>\n",
       "      <td>8</td>\n",
       "      <td>2019-02-25</td>\n",
       "      <td>2019-03-01</td>\n",
       "      <td>Thursday</td>\n",
       "      <td>2019-02-28</td>\n",
       "      <td>Soups</td>\n",
       "      <td>NaN</td>\n",
       "      <td>1.10</td>\n",
       "      <td>AG</td>\n",
       "      <td>cream of cauliflower soup</td>\n",
       "    </tr>\n",
       "    <tr>\n",
       "      <th>20</th>\n",
       "      <td>2019</td>\n",
       "      <td>8</td>\n",
       "      <td>2019-02-25</td>\n",
       "      <td>2019-03-01</td>\n",
       "      <td>Thursday</td>\n",
       "      <td>2019-02-28</td>\n",
       "      <td>Menus</td>\n",
       "      <td>home-style cooking</td>\n",
       "      <td>4.00</td>\n",
       "      <td>AG</td>\n",
       "      <td>grilled \"Leberkäse\"/green beans with dill/and ...</td>\n",
       "    </tr>\n",
       "    <tr>\n",
       "      <th>21</th>\n",
       "      <td>2019</td>\n",
       "      <td>8</td>\n",
       "      <td>2019-02-25</td>\n",
       "      <td>2019-03-01</td>\n",
       "      <td>Thursday</td>\n",
       "      <td>2019-02-28</td>\n",
       "      <td>Menus</td>\n",
       "      <td>vegetarian</td>\n",
       "      <td>5.00</td>\n",
       "      <td>AFL</td>\n",
       "      <td>jambalaya/bulgur</td>\n",
       "    </tr>\n",
       "    <tr>\n",
       "      <th>22</th>\n",
       "      <td>2019</td>\n",
       "      <td>8</td>\n",
       "      <td>2019-02-25</td>\n",
       "      <td>2019-03-01</td>\n",
       "      <td>Thursday</td>\n",
       "      <td>2019-02-28</td>\n",
       "      <td>Menus</td>\n",
       "      <td>international</td>\n",
       "      <td>6.00</td>\n",
       "      <td>ACLO</td>\n",
       "      <td>Esterházy beef escalope/green pasta/root veget...</td>\n",
       "    </tr>\n",
       "    <tr>\n",
       "      <th>23</th>\n",
       "      <td>2019</td>\n",
       "      <td>8</td>\n",
       "      <td>2019-02-25</td>\n",
       "      <td>2019-03-01</td>\n",
       "      <td>Thursday</td>\n",
       "      <td>2019-02-28</td>\n",
       "      <td>Dessert</td>\n",
       "      <td>NaN</td>\n",
       "      <td>1.30</td>\n",
       "      <td>ACG</td>\n",
       "      <td>apricot cake</td>\n",
       "    </tr>\n",
       "    <tr>\n",
       "      <th>24</th>\n",
       "      <td>2019</td>\n",
       "      <td>8</td>\n",
       "      <td>2019-02-25</td>\n",
       "      <td>2019-03-01</td>\n",
       "      <td>Friday</td>\n",
       "      <td>2019-03-01</td>\n",
       "      <td>Soups</td>\n",
       "      <td>NaN</td>\n",
       "      <td>1.10</td>\n",
       "      <td>ACGL</td>\n",
       "      <td>beef broth/garnish</td>\n",
       "    </tr>\n",
       "    <tr>\n",
       "      <th>25</th>\n",
       "      <td>2019</td>\n",
       "      <td>8</td>\n",
       "      <td>2019-02-25</td>\n",
       "      <td>2019-03-01</td>\n",
       "      <td>Friday</td>\n",
       "      <td>2019-03-01</td>\n",
       "      <td>Soups</td>\n",
       "      <td>NaN</td>\n",
       "      <td>1.10</td>\n",
       "      <td>AG</td>\n",
       "      <td>creamed basil soup</td>\n",
       "    </tr>\n",
       "    <tr>\n",
       "      <th>26</th>\n",
       "      <td>2019</td>\n",
       "      <td>8</td>\n",
       "      <td>2019-02-25</td>\n",
       "      <td>2019-03-01</td>\n",
       "      <td>Friday</td>\n",
       "      <td>2019-03-01</td>\n",
       "      <td>Menus</td>\n",
       "      <td>vegetarian</td>\n",
       "      <td>4.00</td>\n",
       "      <td>AG</td>\n",
       "      <td>buttermilk/vegetable curry/spelt</td>\n",
       "    </tr>\n",
       "    <tr>\n",
       "      <th>27</th>\n",
       "      <td>2019</td>\n",
       "      <td>8</td>\n",
       "      <td>2019-02-25</td>\n",
       "      <td>2019-03-01</td>\n",
       "      <td>Friday</td>\n",
       "      <td>2019-03-01</td>\n",
       "      <td>Menus</td>\n",
       "      <td>fish &amp; seafood</td>\n",
       "      <td>5.00</td>\n",
       "      <td>ACD</td>\n",
       "      <td>breaded fried plaice/parsley potatoes</td>\n",
       "    </tr>\n",
       "    <tr>\n",
       "      <th>28</th>\n",
       "      <td>2019</td>\n",
       "      <td>8</td>\n",
       "      <td>2019-02-25</td>\n",
       "      <td>2019-03-01</td>\n",
       "      <td>Friday</td>\n",
       "      <td>2019-03-01</td>\n",
       "      <td>Menus</td>\n",
       "      <td>sweet dishes</td>\n",
       "      <td>5.00</td>\n",
       "      <td>ACG</td>\n",
       "      <td>apricot dumplings</td>\n",
       "    </tr>\n",
       "    <tr>\n",
       "      <th>29</th>\n",
       "      <td>2019</td>\n",
       "      <td>8</td>\n",
       "      <td>2019-02-25</td>\n",
       "      <td>2019-03-01</td>\n",
       "      <td>Friday</td>\n",
       "      <td>2019-03-01</td>\n",
       "      <td>Menus</td>\n",
       "      <td>international</td>\n",
       "      <td>6.00</td>\n",
       "      <td>AF</td>\n",
       "      <td>beef rendang/pak choi/tomato rice</td>\n",
       "    </tr>\n",
       "    <tr>\n",
       "      <th>...</th>\n",
       "      <td>...</td>\n",
       "      <td>...</td>\n",
       "      <td>...</td>\n",
       "      <td>...</td>\n",
       "      <td>...</td>\n",
       "      <td>...</td>\n",
       "      <td>...</td>\n",
       "      <td>...</td>\n",
       "      <td>...</td>\n",
       "      <td>...</td>\n",
       "      <td>...</td>\n",
       "    </tr>\n",
       "    <tr>\n",
       "      <th>584</th>\n",
       "      <td>2019</td>\n",
       "      <td>37</td>\n",
       "      <td>2019-09-16</td>\n",
       "      <td>2019-09-20</td>\n",
       "      <td>Monday</td>\n",
       "      <td>2019-09-16</td>\n",
       "      <td>Soups</td>\n",
       "      <td>NaN</td>\n",
       "      <td>1.15</td>\n",
       "      <td>AG</td>\n",
       "      <td>creamed garlic soup</td>\n",
       "    </tr>\n",
       "    <tr>\n",
       "      <th>585</th>\n",
       "      <td>2019</td>\n",
       "      <td>37</td>\n",
       "      <td>2019-09-16</td>\n",
       "      <td>2019-09-20</td>\n",
       "      <td>Monday</td>\n",
       "      <td>2019-09-16</td>\n",
       "      <td>Menus</td>\n",
       "      <td>home-style cooking</td>\n",
       "      <td>4.20</td>\n",
       "      <td>G</td>\n",
       "      <td>pork steak/rice/zaziki/herb butter</td>\n",
       "    </tr>\n",
       "    <tr>\n",
       "      <th>586</th>\n",
       "      <td>2019</td>\n",
       "      <td>37</td>\n",
       "      <td>2019-09-16</td>\n",
       "      <td>2019-09-20</td>\n",
       "      <td>Monday</td>\n",
       "      <td>2019-09-16</td>\n",
       "      <td>Menus</td>\n",
       "      <td>vegetarian</td>\n",
       "      <td>5.30</td>\n",
       "      <td>CGH</td>\n",
       "      <td>roasted cauliflower/white whine mushroom sauce...</td>\n",
       "    </tr>\n",
       "    <tr>\n",
       "      <th>587</th>\n",
       "      <td>2019</td>\n",
       "      <td>37</td>\n",
       "      <td>2019-09-16</td>\n",
       "      <td>2019-09-20</td>\n",
       "      <td>Monday</td>\n",
       "      <td>2019-09-16</td>\n",
       "      <td>Menus</td>\n",
       "      <td>fish &amp; seafood</td>\n",
       "      <td>6.30</td>\n",
       "      <td>BDH</td>\n",
       "      <td>paella/vegetables/seafood</td>\n",
       "    </tr>\n",
       "    <tr>\n",
       "      <th>588</th>\n",
       "      <td>2019</td>\n",
       "      <td>37</td>\n",
       "      <td>2019-09-16</td>\n",
       "      <td>2019-09-20</td>\n",
       "      <td>Monday</td>\n",
       "      <td>2019-09-16</td>\n",
       "      <td>Dessert</td>\n",
       "      <td>NaN</td>\n",
       "      <td>1.40</td>\n",
       "      <td>ACFG</td>\n",
       "      <td>lemon cake</td>\n",
       "    </tr>\n",
       "    <tr>\n",
       "      <th>589</th>\n",
       "      <td>2019</td>\n",
       "      <td>37</td>\n",
       "      <td>2019-09-16</td>\n",
       "      <td>2019-09-20</td>\n",
       "      <td>Tuesday</td>\n",
       "      <td>2019-09-17</td>\n",
       "      <td>Soups</td>\n",
       "      <td>NaN</td>\n",
       "      <td>1.15</td>\n",
       "      <td>ACGL</td>\n",
       "      <td>beef broth/garnish</td>\n",
       "    </tr>\n",
       "    <tr>\n",
       "      <th>590</th>\n",
       "      <td>2019</td>\n",
       "      <td>37</td>\n",
       "      <td>2019-09-16</td>\n",
       "      <td>2019-09-20</td>\n",
       "      <td>Tuesday</td>\n",
       "      <td>2019-09-17</td>\n",
       "      <td>Soups</td>\n",
       "      <td>NaN</td>\n",
       "      <td>1.15</td>\n",
       "      <td>AO</td>\n",
       "      <td>red beet apple soup</td>\n",
       "    </tr>\n",
       "    <tr>\n",
       "      <th>591</th>\n",
       "      <td>2019</td>\n",
       "      <td>37</td>\n",
       "      <td>2019-09-16</td>\n",
       "      <td>2019-09-20</td>\n",
       "      <td>Tuesday</td>\n",
       "      <td>2019-09-17</td>\n",
       "      <td>Menus</td>\n",
       "      <td>vegetarian</td>\n",
       "      <td>4.20</td>\n",
       "      <td>AF</td>\n",
       "      <td>seasonal salad with/pumpkin and runner beans/\"...</td>\n",
       "    </tr>\n",
       "    <tr>\n",
       "      <th>592</th>\n",
       "      <td>2019</td>\n",
       "      <td>37</td>\n",
       "      <td>2019-09-16</td>\n",
       "      <td>2019-09-20</td>\n",
       "      <td>Tuesday</td>\n",
       "      <td>2019-09-17</td>\n",
       "      <td>Menus</td>\n",
       "      <td>home-style cooking</td>\n",
       "      <td>5.30</td>\n",
       "      <td>G</td>\n",
       "      <td>chicken wings/potato chips/cocktail sauce</td>\n",
       "    </tr>\n",
       "    <tr>\n",
       "      <th>593</th>\n",
       "      <td>2019</td>\n",
       "      <td>37</td>\n",
       "      <td>2019-09-16</td>\n",
       "      <td>2019-09-20</td>\n",
       "      <td>Tuesday</td>\n",
       "      <td>2019-09-17</td>\n",
       "      <td>Menus</td>\n",
       "      <td>international</td>\n",
       "      <td>6.30</td>\n",
       "      <td>GLO</td>\n",
       "      <td>boiled beef/\"Rösti\" potatoes/chive sauce/horse...</td>\n",
       "    </tr>\n",
       "    <tr>\n",
       "      <th>594</th>\n",
       "      <td>2019</td>\n",
       "      <td>37</td>\n",
       "      <td>2019-09-16</td>\n",
       "      <td>2019-09-20</td>\n",
       "      <td>Tuesday</td>\n",
       "      <td>2019-09-17</td>\n",
       "      <td>Dessert</td>\n",
       "      <td>NaN</td>\n",
       "      <td>1.40</td>\n",
       "      <td>ACFGH</td>\n",
       "      <td>brownie</td>\n",
       "    </tr>\n",
       "    <tr>\n",
       "      <th>595</th>\n",
       "      <td>2019</td>\n",
       "      <td>37</td>\n",
       "      <td>2019-09-16</td>\n",
       "      <td>2019-09-20</td>\n",
       "      <td>Wednesday</td>\n",
       "      <td>2019-09-18</td>\n",
       "      <td>Soups</td>\n",
       "      <td>NaN</td>\n",
       "      <td>1.15</td>\n",
       "      <td>ACGL</td>\n",
       "      <td>beef broth/garnish</td>\n",
       "    </tr>\n",
       "    <tr>\n",
       "      <th>596</th>\n",
       "      <td>2019</td>\n",
       "      <td>37</td>\n",
       "      <td>2019-09-16</td>\n",
       "      <td>2019-09-20</td>\n",
       "      <td>Wednesday</td>\n",
       "      <td>2019-09-18</td>\n",
       "      <td>Soups</td>\n",
       "      <td>NaN</td>\n",
       "      <td>1.15</td>\n",
       "      <td>ACG</td>\n",
       "      <td>semolina soup</td>\n",
       "    </tr>\n",
       "    <tr>\n",
       "      <th>597</th>\n",
       "      <td>2019</td>\n",
       "      <td>37</td>\n",
       "      <td>2019-09-16</td>\n",
       "      <td>2019-09-20</td>\n",
       "      <td>Wednesday</td>\n",
       "      <td>2019-09-18</td>\n",
       "      <td>Menus</td>\n",
       "      <td>vegetarian</td>\n",
       "      <td>4.20</td>\n",
       "      <td>A</td>\n",
       "      <td>porcino ravioli/parsley pesto/sunflower seeds</td>\n",
       "    </tr>\n",
       "    <tr>\n",
       "      <th>598</th>\n",
       "      <td>2019</td>\n",
       "      <td>37</td>\n",
       "      <td>2019-09-16</td>\n",
       "      <td>2019-09-20</td>\n",
       "      <td>Wednesday</td>\n",
       "      <td>2019-09-18</td>\n",
       "      <td>Menus</td>\n",
       "      <td>home-style cooking</td>\n",
       "      <td>5.30</td>\n",
       "      <td>AC</td>\n",
       "      <td>pork schnitzel/Parisian style/parsley potatoes</td>\n",
       "    </tr>\n",
       "    <tr>\n",
       "      <th>599</th>\n",
       "      <td>2019</td>\n",
       "      <td>37</td>\n",
       "      <td>2019-09-16</td>\n",
       "      <td>2019-09-20</td>\n",
       "      <td>Wednesday</td>\n",
       "      <td>2019-09-18</td>\n",
       "      <td>Menus</td>\n",
       "      <td>asia</td>\n",
       "      <td>6.30</td>\n",
       "      <td>E</td>\n",
       "      <td>Thai chicken curry/peanuts/rice</td>\n",
       "    </tr>\n",
       "    <tr>\n",
       "      <th>600</th>\n",
       "      <td>2019</td>\n",
       "      <td>37</td>\n",
       "      <td>2019-09-16</td>\n",
       "      <td>2019-09-20</td>\n",
       "      <td>Wednesday</td>\n",
       "      <td>2019-09-18</td>\n",
       "      <td>Dessert</td>\n",
       "      <td>NaN</td>\n",
       "      <td>1.40</td>\n",
       "      <td>ACG</td>\n",
       "      <td>pear cake</td>\n",
       "    </tr>\n",
       "    <tr>\n",
       "      <th>601</th>\n",
       "      <td>2019</td>\n",
       "      <td>37</td>\n",
       "      <td>2019-09-16</td>\n",
       "      <td>2019-09-20</td>\n",
       "      <td>Thursday</td>\n",
       "      <td>2019-09-19</td>\n",
       "      <td>Soups</td>\n",
       "      <td>NaN</td>\n",
       "      <td>1.15</td>\n",
       "      <td>ACGL</td>\n",
       "      <td>beef broth/garnish</td>\n",
       "    </tr>\n",
       "    <tr>\n",
       "      <th>602</th>\n",
       "      <td>2019</td>\n",
       "      <td>37</td>\n",
       "      <td>2019-09-16</td>\n",
       "      <td>2019-09-20</td>\n",
       "      <td>Thursday</td>\n",
       "      <td>2019-09-19</td>\n",
       "      <td>Soups</td>\n",
       "      <td>NaN</td>\n",
       "      <td>1.15</td>\n",
       "      <td>G</td>\n",
       "      <td>cream of potato soup/with pear</td>\n",
       "    </tr>\n",
       "    <tr>\n",
       "      <th>603</th>\n",
       "      <td>2019</td>\n",
       "      <td>37</td>\n",
       "      <td>2019-09-16</td>\n",
       "      <td>2019-09-20</td>\n",
       "      <td>Thursday</td>\n",
       "      <td>2019-09-19</td>\n",
       "      <td>Menus</td>\n",
       "      <td>home-style cooking</td>\n",
       "      <td>4.20</td>\n",
       "      <td>AC</td>\n",
       "      <td>sausage dumpling/sauerkraut/caraway sauce</td>\n",
       "    </tr>\n",
       "    <tr>\n",
       "      <th>604</th>\n",
       "      <td>2019</td>\n",
       "      <td>37</td>\n",
       "      <td>2019-09-16</td>\n",
       "      <td>2019-09-20</td>\n",
       "      <td>Thursday</td>\n",
       "      <td>2019-09-19</td>\n",
       "      <td>Menus</td>\n",
       "      <td>vegetarian</td>\n",
       "      <td>5.30</td>\n",
       "      <td>AL</td>\n",
       "      <td>spaghetti/piquant lentil bolognese</td>\n",
       "    </tr>\n",
       "    <tr>\n",
       "      <th>605</th>\n",
       "      <td>2019</td>\n",
       "      <td>37</td>\n",
       "      <td>2019-09-16</td>\n",
       "      <td>2019-09-20</td>\n",
       "      <td>Thursday</td>\n",
       "      <td>2019-09-19</td>\n",
       "      <td>Menus</td>\n",
       "      <td>international</td>\n",
       "      <td>6.30</td>\n",
       "      <td>CG</td>\n",
       "      <td>veal roast/creamed polenta/broccoli</td>\n",
       "    </tr>\n",
       "    <tr>\n",
       "      <th>606</th>\n",
       "      <td>2019</td>\n",
       "      <td>37</td>\n",
       "      <td>2019-09-16</td>\n",
       "      <td>2019-09-20</td>\n",
       "      <td>Thursday</td>\n",
       "      <td>2019-09-19</td>\n",
       "      <td>Dessert</td>\n",
       "      <td>NaN</td>\n",
       "      <td>1.40</td>\n",
       "      <td>AFH</td>\n",
       "      <td>vegan carrot muffin</td>\n",
       "    </tr>\n",
       "    <tr>\n",
       "      <th>607</th>\n",
       "      <td>2019</td>\n",
       "      <td>37</td>\n",
       "      <td>2019-09-16</td>\n",
       "      <td>2019-09-20</td>\n",
       "      <td>Friday</td>\n",
       "      <td>2019-09-20</td>\n",
       "      <td>Soups</td>\n",
       "      <td>NaN</td>\n",
       "      <td>1.15</td>\n",
       "      <td>ACGL</td>\n",
       "      <td>beef broth/garnish</td>\n",
       "    </tr>\n",
       "    <tr>\n",
       "      <th>608</th>\n",
       "      <td>2019</td>\n",
       "      <td>37</td>\n",
       "      <td>2019-09-16</td>\n",
       "      <td>2019-09-20</td>\n",
       "      <td>Friday</td>\n",
       "      <td>2019-09-20</td>\n",
       "      <td>Soups</td>\n",
       "      <td>NaN</td>\n",
       "      <td>1.15</td>\n",
       "      <td>AF</td>\n",
       "      <td>fennel saffron soup</td>\n",
       "    </tr>\n",
       "    <tr>\n",
       "      <th>609</th>\n",
       "      <td>2019</td>\n",
       "      <td>37</td>\n",
       "      <td>2019-09-16</td>\n",
       "      <td>2019-09-20</td>\n",
       "      <td>Friday</td>\n",
       "      <td>2019-09-20</td>\n",
       "      <td>Menus</td>\n",
       "      <td>vegetarian</td>\n",
       "      <td>4.20</td>\n",
       "      <td>ACG</td>\n",
       "      <td>zucchini pumpkin bake/salad/herb dip</td>\n",
       "    </tr>\n",
       "    <tr>\n",
       "      <th>610</th>\n",
       "      <td>2019</td>\n",
       "      <td>37</td>\n",
       "      <td>2019-09-16</td>\n",
       "      <td>2019-09-20</td>\n",
       "      <td>Friday</td>\n",
       "      <td>2019-09-20</td>\n",
       "      <td>Menus</td>\n",
       "      <td>sweet dishes</td>\n",
       "      <td>5.30</td>\n",
       "      <td>ACG</td>\n",
       "      <td>Scheiterhaufen</td>\n",
       "    </tr>\n",
       "    <tr>\n",
       "      <th>611</th>\n",
       "      <td>2019</td>\n",
       "      <td>37</td>\n",
       "      <td>2019-09-16</td>\n",
       "      <td>2019-09-20</td>\n",
       "      <td>Friday</td>\n",
       "      <td>2019-09-20</td>\n",
       "      <td>Menus</td>\n",
       "      <td>fish &amp; seafood</td>\n",
       "      <td>5.30</td>\n",
       "      <td>ACGR</td>\n",
       "      <td>calamari fritti/potato chips</td>\n",
       "    </tr>\n",
       "    <tr>\n",
       "      <th>612</th>\n",
       "      <td>2019</td>\n",
       "      <td>37</td>\n",
       "      <td>2019-09-16</td>\n",
       "      <td>2019-09-20</td>\n",
       "      <td>Friday</td>\n",
       "      <td>2019-09-20</td>\n",
       "      <td>Menus</td>\n",
       "      <td>international</td>\n",
       "      <td>6.30</td>\n",
       "      <td>ACG</td>\n",
       "      <td>chicken saltimbocca/gnocchi/basil sauce</td>\n",
       "    </tr>\n",
       "    <tr>\n",
       "      <th>613</th>\n",
       "      <td>2019</td>\n",
       "      <td>37</td>\n",
       "      <td>2019-09-16</td>\n",
       "      <td>2019-09-20</td>\n",
       "      <td>Friday</td>\n",
       "      <td>2019-09-20</td>\n",
       "      <td>Dessert</td>\n",
       "      <td>NaN</td>\n",
       "      <td>1.40</td>\n",
       "      <td>ACFGH</td>\n",
       "      <td>\"Dobosschnitte\"</td>\n",
       "    </tr>\n",
       "  </tbody>\n",
       "</table>\n",
       "<p>614 rows × 11 columns</p>\n",
       "</div>"
      ],
      "text/plain": [
       "     year  week  start_date    end_date        day        date category  \\\n",
       "0    2019     8  2019-02-25  2019-03-01     Monday  2019-02-25    Soups   \n",
       "1    2019     8  2019-02-25  2019-03-01     Monday  2019-02-25    Soups   \n",
       "2    2019     8  2019-02-25  2019-03-01     Monday  2019-02-25    Menus   \n",
       "3    2019     8  2019-02-25  2019-03-01     Monday  2019-02-25    Menus   \n",
       "4    2019     8  2019-02-25  2019-03-01     Monday  2019-02-25    Menus   \n",
       "5    2019     8  2019-02-25  2019-03-01     Monday  2019-02-25  Dessert   \n",
       "6    2019     8  2019-02-25  2019-03-01    Tuesday  2019-02-26    Soups   \n",
       "7    2019     8  2019-02-25  2019-03-01    Tuesday  2019-02-26    Soups   \n",
       "8    2019     8  2019-02-25  2019-03-01    Tuesday  2019-02-26    Menus   \n",
       "9    2019     8  2019-02-25  2019-03-01    Tuesday  2019-02-26    Menus   \n",
       "10   2019     8  2019-02-25  2019-03-01    Tuesday  2019-02-26    Menus   \n",
       "11   2019     8  2019-02-25  2019-03-01    Tuesday  2019-02-26  Dessert   \n",
       "12   2019     8  2019-02-25  2019-03-01  Wednesday  2019-02-27    Soups   \n",
       "13   2019     8  2019-02-25  2019-03-01  Wednesday  2019-02-27    Soups   \n",
       "14   2019     8  2019-02-25  2019-03-01  Wednesday  2019-02-27    Menus   \n",
       "15   2019     8  2019-02-25  2019-03-01  Wednesday  2019-02-27    Menus   \n",
       "16   2019     8  2019-02-25  2019-03-01  Wednesday  2019-02-27    Menus   \n",
       "17   2019     8  2019-02-25  2019-03-01  Wednesday  2019-02-27  Dessert   \n",
       "18   2019     8  2019-02-25  2019-03-01   Thursday  2019-02-28    Soups   \n",
       "19   2019     8  2019-02-25  2019-03-01   Thursday  2019-02-28    Soups   \n",
       "20   2019     8  2019-02-25  2019-03-01   Thursday  2019-02-28    Menus   \n",
       "21   2019     8  2019-02-25  2019-03-01   Thursday  2019-02-28    Menus   \n",
       "22   2019     8  2019-02-25  2019-03-01   Thursday  2019-02-28    Menus   \n",
       "23   2019     8  2019-02-25  2019-03-01   Thursday  2019-02-28  Dessert   \n",
       "24   2019     8  2019-02-25  2019-03-01     Friday  2019-03-01    Soups   \n",
       "25   2019     8  2019-02-25  2019-03-01     Friday  2019-03-01    Soups   \n",
       "26   2019     8  2019-02-25  2019-03-01     Friday  2019-03-01    Menus   \n",
       "27   2019     8  2019-02-25  2019-03-01     Friday  2019-03-01    Menus   \n",
       "28   2019     8  2019-02-25  2019-03-01     Friday  2019-03-01    Menus   \n",
       "29   2019     8  2019-02-25  2019-03-01     Friday  2019-03-01    Menus   \n",
       "..    ...   ...         ...         ...        ...         ...      ...   \n",
       "584  2019    37  2019-09-16  2019-09-20     Monday  2019-09-16    Soups   \n",
       "585  2019    37  2019-09-16  2019-09-20     Monday  2019-09-16    Menus   \n",
       "586  2019    37  2019-09-16  2019-09-20     Monday  2019-09-16    Menus   \n",
       "587  2019    37  2019-09-16  2019-09-20     Monday  2019-09-16    Menus   \n",
       "588  2019    37  2019-09-16  2019-09-20     Monday  2019-09-16  Dessert   \n",
       "589  2019    37  2019-09-16  2019-09-20    Tuesday  2019-09-17    Soups   \n",
       "590  2019    37  2019-09-16  2019-09-20    Tuesday  2019-09-17    Soups   \n",
       "591  2019    37  2019-09-16  2019-09-20    Tuesday  2019-09-17    Menus   \n",
       "592  2019    37  2019-09-16  2019-09-20    Tuesday  2019-09-17    Menus   \n",
       "593  2019    37  2019-09-16  2019-09-20    Tuesday  2019-09-17    Menus   \n",
       "594  2019    37  2019-09-16  2019-09-20    Tuesday  2019-09-17  Dessert   \n",
       "595  2019    37  2019-09-16  2019-09-20  Wednesday  2019-09-18    Soups   \n",
       "596  2019    37  2019-09-16  2019-09-20  Wednesday  2019-09-18    Soups   \n",
       "597  2019    37  2019-09-16  2019-09-20  Wednesday  2019-09-18    Menus   \n",
       "598  2019    37  2019-09-16  2019-09-20  Wednesday  2019-09-18    Menus   \n",
       "599  2019    37  2019-09-16  2019-09-20  Wednesday  2019-09-18    Menus   \n",
       "600  2019    37  2019-09-16  2019-09-20  Wednesday  2019-09-18  Dessert   \n",
       "601  2019    37  2019-09-16  2019-09-20   Thursday  2019-09-19    Soups   \n",
       "602  2019    37  2019-09-16  2019-09-20   Thursday  2019-09-19    Soups   \n",
       "603  2019    37  2019-09-16  2019-09-20   Thursday  2019-09-19    Menus   \n",
       "604  2019    37  2019-09-16  2019-09-20   Thursday  2019-09-19    Menus   \n",
       "605  2019    37  2019-09-16  2019-09-20   Thursday  2019-09-19    Menus   \n",
       "606  2019    37  2019-09-16  2019-09-20   Thursday  2019-09-19  Dessert   \n",
       "607  2019    37  2019-09-16  2019-09-20     Friday  2019-09-20    Soups   \n",
       "608  2019    37  2019-09-16  2019-09-20     Friday  2019-09-20    Soups   \n",
       "609  2019    37  2019-09-16  2019-09-20     Friday  2019-09-20    Menus   \n",
       "610  2019    37  2019-09-16  2019-09-20     Friday  2019-09-20    Menus   \n",
       "611  2019    37  2019-09-16  2019-09-20     Friday  2019-09-20    Menus   \n",
       "612  2019    37  2019-09-16  2019-09-20     Friday  2019-09-20    Menus   \n",
       "613  2019    37  2019-09-16  2019-09-20     Friday  2019-09-20  Dessert   \n",
       "\n",
       "            subcategory  price allergens  \\\n",
       "0                   NaN   1.10      ACGL   \n",
       "1                   NaN   1.10        AG   \n",
       "2    home-style cooking   4.00        AC   \n",
       "3            vegetarian   5.00       AFG   \n",
       "4        fish & seafood   6.00        AD   \n",
       "5                   NaN   1.30       ACG   \n",
       "6                   NaN   1.10      ACGL   \n",
       "7                   NaN   1.10        AG   \n",
       "8            vegetarian   4.00        AH   \n",
       "9    home-style cooking   5.00        GM   \n",
       "10        international   6.00       ACG   \n",
       "11                  NaN   1.30       NaN   \n",
       "12                  NaN   1.10      ACGL   \n",
       "13                  NaN   1.10         A   \n",
       "14           vegetarian   4.00       ACG   \n",
       "15   home-style cooking   5.00        AC   \n",
       "16                 asia   6.00       AFH   \n",
       "17                  NaN   1.30       ACG   \n",
       "18                  NaN   1.10      ACGL   \n",
       "19                  NaN   1.10        AG   \n",
       "20   home-style cooking   4.00        AG   \n",
       "21           vegetarian   5.00       AFL   \n",
       "22        international   6.00      ACLO   \n",
       "23                  NaN   1.30       ACG   \n",
       "24                  NaN   1.10      ACGL   \n",
       "25                  NaN   1.10        AG   \n",
       "26           vegetarian   4.00        AG   \n",
       "27       fish & seafood   5.00       ACD   \n",
       "28         sweet dishes   5.00       ACG   \n",
       "29        international   6.00        AF   \n",
       "..                  ...    ...       ...   \n",
       "584                 NaN   1.15        AG   \n",
       "585  home-style cooking   4.20         G   \n",
       "586          vegetarian   5.30       CGH   \n",
       "587      fish & seafood   6.30       BDH   \n",
       "588                 NaN   1.40      ACFG   \n",
       "589                 NaN   1.15      ACGL   \n",
       "590                 NaN   1.15        AO   \n",
       "591          vegetarian   4.20        AF   \n",
       "592  home-style cooking   5.30         G   \n",
       "593       international   6.30       GLO   \n",
       "594                 NaN   1.40     ACFGH   \n",
       "595                 NaN   1.15      ACGL   \n",
       "596                 NaN   1.15       ACG   \n",
       "597          vegetarian   4.20         A   \n",
       "598  home-style cooking   5.30        AC   \n",
       "599                asia   6.30         E   \n",
       "600                 NaN   1.40       ACG   \n",
       "601                 NaN   1.15      ACGL   \n",
       "602                 NaN   1.15         G   \n",
       "603  home-style cooking   4.20        AC   \n",
       "604          vegetarian   5.30        AL   \n",
       "605       international   6.30        CG   \n",
       "606                 NaN   1.40       AFH   \n",
       "607                 NaN   1.15      ACGL   \n",
       "608                 NaN   1.15        AF   \n",
       "609          vegetarian   4.20       ACG   \n",
       "610        sweet dishes   5.30       ACG   \n",
       "611      fish & seafood   5.30      ACGR   \n",
       "612       international   6.30       ACG   \n",
       "613                 NaN   1.40     ACFGH   \n",
       "\n",
       "                                                  name  \n",
       "0                                   beef broth/garnish  \n",
       "1                                   cream of corn soup  \n",
       "2                           pasta with ham/small salad  \n",
       "3      falafel balls/tomato eggplant salad/mint yogurt  \n",
       "4              grilled hake/ratatouille/olive potatoes  \n",
       "5                               poppy seed cheese cake  \n",
       "6                                   beef broth/garnish  \n",
       "7                                  creamed garlic soup  \n",
       "8               pumpkin spinach pan/dates, nuts/bulgur  \n",
       "9             \"Käsekrainer\"/french fries/onion mustard  \n",
       "10   gratinated chicken filet/with tomato & mozzare...  \n",
       "11                                latte macchiato cake  \n",
       "12                                  beef broth/garnish  \n",
       "13                                          minestrone  \n",
       "14        potato vegetable strudel/leaf salad/herb dip  \n",
       "15                breaded fried chicken schnitzel/rice  \n",
       "16    wok noodles/turkey strips/vegetables and cashews  \n",
       "17                                   yogurt fruit cake  \n",
       "18                                  beef broth/garnish  \n",
       "19                           cream of cauliflower soup  \n",
       "20   grilled \"Leberkäse\"/green beans with dill/and ...  \n",
       "21                                    jambalaya/bulgur  \n",
       "22   Esterházy beef escalope/green pasta/root veget...  \n",
       "23                                        apricot cake  \n",
       "24                                  beef broth/garnish  \n",
       "25                                  creamed basil soup  \n",
       "26                    buttermilk/vegetable curry/spelt  \n",
       "27               breaded fried plaice/parsley potatoes  \n",
       "28                                   apricot dumplings  \n",
       "29                   beef rendang/pak choi/tomato rice  \n",
       "..                                                 ...  \n",
       "584                                creamed garlic soup  \n",
       "585                 pork steak/rice/zaziki/herb butter  \n",
       "586  roasted cauliflower/white whine mushroom sauce...  \n",
       "587                          paella/vegetables/seafood  \n",
       "588                                         lemon cake  \n",
       "589                                 beef broth/garnish  \n",
       "590                                red beet apple soup  \n",
       "591  seasonal salad with/pumpkin and runner beans/\"...  \n",
       "592          chicken wings/potato chips/cocktail sauce  \n",
       "593  boiled beef/\"Rösti\" potatoes/chive sauce/horse...  \n",
       "594                                            brownie  \n",
       "595                                 beef broth/garnish  \n",
       "596                                      semolina soup  \n",
       "597      porcino ravioli/parsley pesto/sunflower seeds  \n",
       "598     pork schnitzel/Parisian style/parsley potatoes  \n",
       "599                    Thai chicken curry/peanuts/rice  \n",
       "600                                          pear cake  \n",
       "601                                 beef broth/garnish  \n",
       "602                     cream of potato soup/with pear  \n",
       "603          sausage dumpling/sauerkraut/caraway sauce  \n",
       "604                 spaghetti/piquant lentil bolognese  \n",
       "605                veal roast/creamed polenta/broccoli  \n",
       "606                                vegan carrot muffin  \n",
       "607                                 beef broth/garnish  \n",
       "608                                fennel saffron soup  \n",
       "609               zucchini pumpkin bake/salad/herb dip  \n",
       "610                                     Scheiterhaufen  \n",
       "611                       calamari fritti/potato chips  \n",
       "612            chicken saltimbocca/gnocchi/basil sauce  \n",
       "613                                    \"Dobosschnitte\"  \n",
       "\n",
       "[614 rows x 11 columns]"
      ]
     },
     "execution_count": 7,
     "metadata": {},
     "output_type": "execute_result"
    }
   ],
   "source": [
    "f"
   ]
  },
  {
   "cell_type": "code",
   "execution_count": null,
   "metadata": {},
   "outputs": [],
   "source": []
  }
 ],
 "metadata": {
  "kernelspec": {
   "display_name": "Python 3",
   "language": "python",
   "name": "python3"
  },
  "language_info": {
   "codemirror_mode": {
    "name": "ipython",
    "version": 3
   },
   "file_extension": ".py",
   "mimetype": "text/x-python",
   "name": "python",
   "nbconvert_exporter": "python",
   "pygments_lexer": "ipython3",
   "version": "3.8.5"
  }
 },
 "nbformat": 4,
 "nbformat_minor": 2
}
